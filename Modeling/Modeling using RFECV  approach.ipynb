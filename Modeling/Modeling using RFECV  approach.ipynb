{
 "cells": [
  {
   "cell_type": "code",
   "execution_count": 14,
   "id": "e30ce91f",
   "metadata": {},
   "outputs": [],
   "source": [
    "import numpy as np\n",
    "import pandas as pd\n",
    "import matplotlib.pyplot as plt\n",
    "import seaborn as sns\n",
    "from sklearn.preprocessing import LabelEncoder\n",
    "\n",
    "from sklearn import datasets\n",
    "from sklearn.metrics import accuracy_score\n",
    "from sklearn.linear_model import LogisticRegression\n",
    "from sklearn.ensemble import RandomForestClassifier\n",
    "from sklearn.neighbors import KNeighborsClassifier\n",
    "from sklearn.svm import SVC\n",
    "\n",
    "from sklearn.model_selection import train_test_split\n",
    "from sklearn.model_selection import StratifiedKFold\n",
    "from sklearn.model_selection import cross_val_score\n",
    "from tabulate import tabulate\n",
    "import itertools\n",
    "from sklearn import metrics\n",
    "from sklearn.metrics import roc_auc_score, roc_curve, classification_report\n",
    "from sklearn.metrics import confusion_matrix, accuracy_score, mean_squared_error\n",
    "from sklearn.metrics import f1_score, precision_score, recall_score, log_loss, r2_score\n",
    "from sklearn.metrics import precision_recall_curve\n",
    "from sklearn.svm import SVC\n",
    "\n",
    "from sklearn.preprocessing import StandardScaler\n",
    "\n",
    "\n",
    "import warnings\n",
    "warnings.simplefilter('ignore')"
   ]
  },
  {
   "cell_type": "code",
   "execution_count": 15,
   "id": "2ad2f43b",
   "metadata": {},
   "outputs": [],
   "source": [
    "breast_cancer_data= pd.read_csv(\"data.csv\")\n",
    "drop_list= ['Unnamed: 32','id']\n",
    "breast_cancer_data.drop(drop_list, axis=1, inplace= True)\n",
    "x_drop= ['diagnosis']\n",
    "x= breast_cancer_data.drop(x_drop,axis=1)\n",
    "y= breast_cancer_data.diagnosis\n",
    "y= y.replace(\"B\", 0)\n",
    "y= y.replace(\"M\", 1)"
   ]
  },
  {
   "cell_type": "code",
   "execution_count": 16,
   "id": "d79c03e2",
   "metadata": {},
   "outputs": [],
   "source": [
    "x_train, x_test, y_train, y_test= train_test_split(x,y,test_size=0.3,random_state=42 )"
   ]
  },
  {
   "cell_type": "code",
   "execution_count": 17,
   "id": "43fd08b7",
   "metadata": {},
   "outputs": [],
   "source": [
    "model_dict= {}\n",
    "\n",
    "# Logistic Regression\n",
    "clf = LogisticRegression()\n",
    "model_dict['Logistic Regression'] = clf\n",
    "\n",
    "# Random Forest Classifier\n",
    "clf = RandomForestClassifier()\n",
    "model_dict['Random Forest Classifier'] = clf\n",
    "\n",
    "# Gradient Boosting Classifier\n",
    "from sklearn.ensemble import GradientBoostingClassifier\n",
    "clf = GradientBoostingClassifier()\n",
    "model_dict['Gradient Boosting Classifier'] = clf\n",
    "\n",
    "# Extra Trees Classifier\n",
    "from sklearn.ensemble import ExtraTreesClassifier\n",
    "clf = ExtraTreesClassifier()\n",
    "model_dict['Extra Trees Classifier'] = clf\n",
    "\n",
    "# XGB Classifier\n",
    "from xgboost import XGBClassifier\n",
    "clf = XGBClassifier()\n",
    "model_dict['XGB Classifier'] = clf\n",
    "\n",
    "# K Nearest Neighbor\n",
    "clf = KNeighborsClassifier()\n",
    "model_dict['KNeighbors Classifier'] = clf\n",
    "\n",
    "# Support Vector Machine\n",
    "from sklearn.svm import SVC\n",
    "clf = SVC(kernel='rbf',probability=True)   \n",
    "model_dict['SVM Classifier'] = clf"
   ]
  },
  {
   "cell_type": "code",
   "execution_count": 18,
   "id": "a7ca11f7",
   "metadata": {},
   "outputs": [],
   "source": [
    "#Correlation features\n",
    "corr_features=['radius_mean','texture_mean','perimeter_mean','area_mean','perimeter_se','area_se','radius_worst','texture_worst','perimeter_worst','area_worst']\n",
    "\n",
    "#Chi-Square features\n",
    "chi_sq_features= ['area_worst','area_mean','area_se','perimeter_worst','perimeter_mean','radius_worst','radius_mean','perimeter_se','texture_worst','texture_mean']\n",
    "\n",
    "# RFE features\n",
    "rfe_features= ['area_worst','area_mean','area_se','perimeter_worst','perimeter_mean','radius_worst','texture_worst','texture_mean','concavity_worst','concavity_mean','compactness_worst','concave points_worst','concave points_mean','compactness_mean','symmetry_worst','smoothness_worst']\n",
    "\n",
    "#RFECV features\n",
    "rfecv_features= ['area_worst','area_mean','area_se','perimeter_worst','perimeter_mean','radius_worst','radius_mean','perimeter_se','texture_worst','texture_mean','concavity_worst','radius_se','concavity_mean','compactness_worst','concave points_worst','concave points_mean','compactness_mean','symmetry_worst','smoothness_worst','fractal_dimension_worst','fractal_dimension_se']\n",
    "\n",
    "#ExtraTrees features\n",
    "extra_trees_features= ['area_worst','area_mean','perimeter_worst','perimeter_mean','radius_worst','radius_mean','concavity_worst','concavity_mean','concave points_worst','concave points_mean']\n",
    "\n",
    "#Vote based features\n",
    "voted_features= ['area_worst','area_mean','area_se','perimeter_worst','perimeter_mean','radius_worst','radius_mean','perimeter_se','texture_worst','texture_mean','concavity_worst','concavity_mean','compactness_worst','concave points_worst','concave points_mean','compactness_mean','symmetry_worst','smoothness_worst']"
   ]
  },
  {
   "cell_type": "code",
   "execution_count": 19,
   "id": "470863fd",
   "metadata": {},
   "outputs": [],
   "source": [
    "# RFECV\n",
    "x_train = x_train[rfecv_features]\n",
    "x_test = x_test[rfecv_features]\n"
   ]
  },
  {
   "cell_type": "code",
   "execution_count": 20,
   "id": "10557bf7",
   "metadata": {},
   "outputs": [],
   "source": [
    "scale = StandardScaler()\n",
    "x_train = scale.fit_transform(x_train)\n",
    "x_test = scale.fit_transform(x_test)"
   ]
  },
  {
   "cell_type": "code",
   "execution_count": 21,
   "id": "89970a9c",
   "metadata": {},
   "outputs": [],
   "source": [
    "def Model_metrics(name):\n",
    "    global Testing_Performance\n",
    "    true_negative  = cm[0, 0]\n",
    "    true_positive  = cm[1, 1]\n",
    "    false_negative = cm[1, 0]\n",
    "    false_positive = cm[0, 1]\n",
    "    total = true_negative + true_positive + false_negative + false_positive\n",
    "\n",
    "    accuracy_ = (true_positive + true_negative)/total\n",
    "    precision_ = (true_positive)/(true_positive + false_positive)\n",
    "    recall_ = (true_positive)/(true_positive + false_negative)\n",
    "    misclassification_rate = (false_positive + false_negative)/total\n",
    "    F1_ = (2*true_positive)/(2*true_positive + false_positive + false_negative)\n",
    "    assert accuracy == accuracy_, \"accuracy score does not agree\"\n",
    "    assert precision == precision_, \"precision score does not agree\"\n",
    "    assert recall == recall_, \"recall score does not agree\"\n",
    "    assert round(F1,6) == round(F1_,6), \"F1: \" + str(F1) + \" != F1_: \" + str(F1_)\n",
    "\n",
    "    header = [\"Metric\", \"Testing Performance\"]\n",
    "    table = [[\"Accuracy\",               accuracy],\n",
    "             [\"Precision\",              precision],\n",
    "             [\"Recall\",                 recall],\n",
    "             [\"Misclassification rate\", misclassification_rate],\n",
    "             [\"F1\",                     F1],\n",
    "             [\"r2\",                     r2],\n",
    "             [\"AUC\",                    auc],\n",
    "             [\"MSE\",                    mse],\n",
    "             [\"Logloss\",                logloss]\n",
    "            ]\n",
    "\n",
    "    print(tabulate(table, header, tablefmt=\"fancy_grid\"))\n",
    "    Testing_Performance = Testing_Performance.append({'Algorithm' : name,'Accuracy' : accuracy,'AUC' : auc,'Precision' : precision,'Recall' : recall,'F1' : F1},ignore_index = True)"
   ]
  },
  {
   "cell_type": "code",
   "execution_count": 22,
   "id": "f8a588b9",
   "metadata": {},
   "outputs": [],
   "source": [
    "def Confusion_Matrix(best_model):\n",
    "    cmap= plt.cm.Oranges\n",
    "    plt.imshow(cm, interpolation='nearest', cmap=cmap)\n",
    "    classes = [0, 1]\n",
    "    plt.title('Confusion matrix (on test data)')\n",
    "    plt.colorbar()\n",
    "    tick_marks = np.arange(len(classes))\n",
    "    plt.xticks(tick_marks, classes, rotation=0)\n",
    "    plt.yticks(tick_marks, classes)\n",
    "\n",
    "    thresh = cm.max() / 2.\n",
    "    for i, j in itertools.product(range(cm.shape[0]), range(cm.shape[1])):\n",
    "        plt.text(j, i, cm[i, j],\n",
    "                 horizontalalignment=\"center\",\n",
    "                 color=\"white\" if cm[i, j] > thresh else \"black\")\n",
    "\n",
    "    plt.tight_layout()\n",
    "    plt.ylabel('True label')\n",
    "    plt.xlabel('Predicted label')\n",
    "\n",
    "    c_report = classification_report(y_test, y_predicted_test)\n",
    "    print('\\nClassification report:\\n', c_report)\n",
    "\n",
    "    ntotal = len(y_test)\n",
    "    correct = y_test == y_predicted_test\n",
    "    numCorrect = sum(correct)\n",
    "    percent = round((numCorrect*100.0)/ntotal, 6)\n",
    "    print(\"\\nCorrect classifications on test data: {0:d}/{1:d} {2:8.3f}%\".format(numCorrect, ntotal, percent))\n",
    "    prediction_score= (best_model.score(x_test, y_test))*100.0\n",
    "    assert (round(percent,3) == round(prediction_score, 3)), \"prediction score does not agree\""
   ]
  },
  {
   "cell_type": "code",
   "execution_count": 23,
   "id": "9186d1fb",
   "metadata": {},
   "outputs": [],
   "source": [
    "def plot_roc_precision_recall_curve(label):\n",
    "    class_names = [0, 1]\n",
    "    fig, (left, right) = plt.subplots(nrows=1, ncols=2, figsize=(10,5))\n",
    "\n",
    "    plt.subplot(1, 2, 1)\n",
    "    plt.plot([0, 1], [0, 1], 'k--')\n",
    "    plt.plot(false_positive_rate, true_positive_rate, color='darkorange', label=label)\n",
    "    #x label\n",
    "    plt.xlabel('False positive rate')\n",
    "    #y label\n",
    "    plt.ylabel('True positive rate')\n",
    "    plt.title('ROC curve (area = %0.7f)' % auc)\n",
    "    plt.legend(loc='best')\n",
    "\n",
    "    plt.subplot(1, 2, 2)\n",
    "    precision, recall, _ = precision_recall_curve(y_test, y_probabilities_success)\n",
    "\n",
    "    plt.step(recall, precision, color='r', alpha=0.2, where='post')\n",
    "    plt.fill_between(recall, precision, step='post', alpha=0.2, color='r')\n",
    "\n",
    "    plt.xlabel('Recall')\n",
    "    plt.ylabel('Precision')\n",
    "    plt.ylim([0.0, 1.05])\n",
    "    plt.xlim([0.0, 1.0])\n",
    "    plt.title('Precision-Recall curve: AP={0:0.2f}'.format(average_precision))\n",
    "\n",
    "    plt.tight_layout()\n",
    "    plt.show()"
   ]
  },
  {
   "cell_type": "code",
   "execution_count": 24,
   "id": "c82219ee",
   "metadata": {},
   "outputs": [
    {
     "name": "stderr",
     "output_type": "stream",
     "text": [
      "[Parallel(n_jobs=2)]: Using backend LokyBackend with 2 concurrent workers.\n",
      "[Parallel(n_jobs=2)]: Done   5 out of   5 | elapsed:    0.0s finished\n",
      "[Parallel(n_jobs=2)]: Using backend LokyBackend with 2 concurrent workers.\n",
      "[Parallel(n_jobs=2)]: Done   5 out of   5 | elapsed:    0.0s finished\n",
      "[Parallel(n_jobs=2)]: Using backend LokyBackend with 2 concurrent workers.\n",
      "[Parallel(n_jobs=2)]: Done   5 out of   5 | elapsed:    0.0s finished\n"
     ]
    },
    {
     "name": "stdout",
     "output_type": "stream",
     "text": [
      "---------------------------------------------------------------------\n",
      "Logistic Regression\n",
      "---------------------------------------------------------------------\n",
      "For Metric: accuracy\n",
      "Cross Validation scores on training data:\n",
      "CV Mean: 0.96978 CV Standard Deviation: 0.02339\n",
      "\n",
      "---------------------------------------------------------------------\n",
      "Logistic Regression\n",
      "---------------------------------------------------------------------\n",
      "For Metric: precision\n",
      "Cross Validation scores on training data:\n",
      "CV Mean: 0.97919 CV Standard Deviation: 0.01712\n",
      "\n",
      "---------------------------------------------------------------------\n",
      "Logistic Regression\n",
      "---------------------------------------------------------------------\n",
      "For Metric: recall\n",
      "Cross Validation scores on training data:\n",
      "CV Mean: 0.93908 CV Standard Deviation: 0.06222\n",
      "\n",
      "---------------------------------------------------------------------\n",
      "Logistic Regression\n",
      "---------------------------------------------------------------------\n",
      "For Metric: f1\n",
      "Cross Validation scores on training data:\n",
      "CV Mean: 0.95759 CV Standard Deviation: 0.03392\n",
      "\n",
      "---------------------------------------------------------------------\n",
      "Logistic Regression\n",
      "---------------------------------------------------------------------\n",
      "For Metric: average_precision\n",
      "Cross Validation scores on training data:\n",
      "CV Mean: 0.99036 CV Standard Deviation: 0.01255\n",
      "\n"
     ]
    },
    {
     "name": "stderr",
     "output_type": "stream",
     "text": [
      "[Parallel(n_jobs=2)]: Using backend LokyBackend with 2 concurrent workers.\n",
      "[Parallel(n_jobs=2)]: Done   5 out of   5 | elapsed:    0.0s finished\n",
      "[Parallel(n_jobs=2)]: Using backend LokyBackend with 2 concurrent workers.\n",
      "[Parallel(n_jobs=2)]: Done   5 out of   5 | elapsed:    0.0s finished\n",
      "[Parallel(n_jobs=2)]: Using backend LokyBackend with 2 concurrent workers.\n",
      "[Parallel(n_jobs=2)]: Done   5 out of   5 | elapsed:    0.0s finished\n"
     ]
    },
    {
     "name": "stdout",
     "output_type": "stream",
     "text": [
      "---------------------------------------------------------------------\n",
      "Logistic Regression\n",
      "---------------------------------------------------------------------\n",
      "For Metric: roc_auc\n",
      "Cross Validation scores on training data:\n",
      "CV Mean: 0.99138 CV Standard Deviation: 0.01231\n",
      "\n",
      "Average Precision-Recall score:1.00\n",
      "╒════════════════════════╤═══════════════════════╕\n",
      "│ Metric                 │   Testing Performance │\n",
      "╞════════════════════════╪═══════════════════════╡\n",
      "│ Accuracy               │             0.982456  │\n",
      "├────────────────────────┼───────────────────────┤\n",
      "│ Precision              │             1         │\n",
      "├────────────────────────┼───────────────────────┤\n",
      "│ Recall                 │             0.952381  │\n",
      "├────────────────────────┼───────────────────────┤\n",
      "│ Misclassification rate │             0.0175439 │\n",
      "├────────────────────────┼───────────────────────┤\n",
      "│ F1                     │             0.97561   │\n",
      "├────────────────────────┼───────────────────────┤\n",
      "│ r2                     │             0.924603  │\n",
      "├────────────────────────┼───────────────────────┤\n",
      "│ AUC                    │             0.97619   │\n",
      "├────────────────────────┼───────────────────────┤\n",
      "│ MSE                    │             0.0175439 │\n",
      "├────────────────────────┼───────────────────────┤\n",
      "│ Logloss                │             0.605943  │\n",
      "╘════════════════════════╧═══════════════════════╛\n",
      "\n",
      "Classification report:\n",
      "               precision    recall  f1-score   support\n",
      "\n",
      "           0       0.97      1.00      0.99       108\n",
      "           1       1.00      0.95      0.98        63\n",
      "\n",
      "    accuracy                           0.98       171\n",
      "   macro avg       0.99      0.98      0.98       171\n",
      "weighted avg       0.98      0.98      0.98       171\n",
      "\n",
      "\n",
      "Correct classifications on test data: 168/171   98.246%\n"
     ]
    },
    {
     "data": {
      "image/png": "[encoded data removed]",
      "text/plain": [
       "<Figure size 432x288 with 2 Axes>"
      ]
     },
     "metadata": {
      "needs_background": "light"
     },
     "output_type": "display_data"
    },
    {
     "data": {
      "image/png": "[encoded data removed]",
      "text/plain": [
       "<Figure size 720x360 with 2 Axes>"
      ]
     },
     "metadata": {
      "needs_background": "light"
     },
     "output_type": "display_data"
    },
    {
     "name": "stdout",
     "output_type": "stream",
     "text": [
      "\n"
     ]
    },
    {
     "name": "stderr",
     "output_type": "stream",
     "text": [
      "[Parallel(n_jobs=2)]: Using backend LokyBackend with 2 concurrent workers.\n",
      "[Parallel(n_jobs=2)]: Done   5 out of   5 | elapsed:    0.4s finished\n",
      "[Parallel(n_jobs=2)]: Using backend LokyBackend with 2 concurrent workers.\n"
     ]
    },
    {
     "name": "stdout",
     "output_type": "stream",
     "text": [
      "---------------------------------------------------------------------\n",
      "Random Forest Classifier\n",
      "---------------------------------------------------------------------\n",
      "For Metric: accuracy\n",
      "Cross Validation scores on training data:\n",
      "CV Mean: 0.95478 CV Standard Deviation: 0.03021\n",
      "\n"
     ]
    },
    {
     "name": "stderr",
     "output_type": "stream",
     "text": [
      "[Parallel(n_jobs=2)]: Done   5 out of   5 | elapsed:    0.4s finished\n",
      "[Parallel(n_jobs=2)]: Using backend LokyBackend with 2 concurrent workers.\n"
     ]
    },
    {
     "name": "stdout",
     "output_type": "stream",
     "text": [
      "---------------------------------------------------------------------\n",
      "Random Forest Classifier\n",
      "---------------------------------------------------------------------\n",
      "For Metric: precision\n",
      "Cross Validation scores on training data:\n",
      "CV Mean: 0.95255 CV Standard Deviation: 0.03616\n",
      "\n"
     ]
    },
    {
     "name": "stderr",
     "output_type": "stream",
     "text": [
      "[Parallel(n_jobs=2)]: Done   5 out of   5 | elapsed:    0.4s finished\n",
      "[Parallel(n_jobs=2)]: Using backend LokyBackend with 2 concurrent workers.\n"
     ]
    },
    {
     "name": "stdout",
     "output_type": "stream",
     "text": [
      "---------------------------------------------------------------------\n",
      "Random Forest Classifier\n",
      "---------------------------------------------------------------------\n",
      "For Metric: recall\n",
      "Cross Validation scores on training data:\n",
      "CV Mean: 0.91908 CV Standard Deviation: 0.06264\n",
      "\n"
     ]
    },
    {
     "name": "stderr",
     "output_type": "stream",
     "text": [
      "[Parallel(n_jobs=2)]: Done   5 out of   5 | elapsed:    0.4s finished\n",
      "[Parallel(n_jobs=2)]: Using backend LokyBackend with 2 concurrent workers.\n"
     ]
    },
    {
     "name": "stdout",
     "output_type": "stream",
     "text": [
      "---------------------------------------------------------------------\n",
      "Random Forest Classifier\n",
      "---------------------------------------------------------------------\n",
      "For Metric: f1\n",
      "Cross Validation scores on training data:\n",
      "CV Mean: 0.93851 CV Standard Deviation: 0.04328\n",
      "\n"
     ]
    },
    {
     "name": "stderr",
     "output_type": "stream",
     "text": [
      "[Parallel(n_jobs=2)]: Done   5 out of   5 | elapsed:    0.4s finished\n",
      "[Parallel(n_jobs=2)]: Using backend LokyBackend with 2 concurrent workers.\n"
     ]
    },
    {
     "name": "stdout",
     "output_type": "stream",
     "text": [
      "---------------------------------------------------------------------\n",
      "Random Forest Classifier\n",
      "---------------------------------------------------------------------\n",
      "For Metric: average_precision\n",
      "Cross Validation scores on training data:\n",
      "CV Mean: 0.98347 CV Standard Deviation: 0.01732\n",
      "\n"
     ]
    },
    {
     "name": "stderr",
     "output_type": "stream",
     "text": [
      "[Parallel(n_jobs=2)]: Done   5 out of   5 | elapsed:    0.4s finished\n"
     ]
    },
    {
     "name": "stdout",
     "output_type": "stream",
     "text": [
      "---------------------------------------------------------------------\n",
      "Random Forest Classifier\n",
      "---------------------------------------------------------------------\n",
      "For Metric: roc_auc\n",
      "Cross Validation scores on training data:\n",
      "CV Mean: 0.98970 CV Standard Deviation: 0.01134\n",
      "\n",
      "Average Precision-Recall score:0.99\n",
      "╒════════════════════════╤═══════════════════════╕\n",
      "│ Metric                 │   Testing Performance │\n",
      "╞════════════════════════╪═══════════════════════╡\n",
      "│ Accuracy               │             0.976608  │\n",
      "├────────────────────────┼───────────────────────┤\n",
      "│ Precision              │             0.983607  │\n",
      "├────────────────────────┼───────────────────────┤\n",
      "│ Recall                 │             0.952381  │\n",
      "├────────────────────────┼───────────────────────┤\n",
      "│ Misclassification rate │             0.0233918 │\n",
      "├────────────────────────┼───────────────────────┤\n",
      "│ F1                     │             0.967742  │\n",
      "├────────────────────────┼───────────────────────┤\n",
      "│ r2                     │             0.899471  │\n",
      "├────────────────────────┼───────────────────────┤\n",
      "│ AUC                    │             0.971561  │\n",
      "├────────────────────────┼───────────────────────┤\n",
      "│ MSE                    │             0.0233918 │\n",
      "├────────────────────────┼───────────────────────┤\n",
      "│ Logloss                │             0.807929  │\n",
      "╘════════════════════════╧═══════════════════════╛\n",
      "\n",
      "Classification report:\n",
      "               precision    recall  f1-score   support\n",
      "\n",
      "           0       0.97      0.99      0.98       108\n",
      "           1       0.98      0.95      0.97        63\n",
      "\n",
      "    accuracy                           0.98       171\n",
      "   macro avg       0.98      0.97      0.97       171\n",
      "weighted avg       0.98      0.98      0.98       171\n",
      "\n",
      "\n",
      "Correct classifications on test data: 167/171   97.661%\n"
     ]
    },
    {
     "data": {
      "image/png": "[encoded data removed]",
      "text/plain": [
       "<Figure size 432x288 with 2 Axes>"
      ]
     },
     "metadata": {
      "needs_background": "light"
     },
     "output_type": "display_data"
    },
    {
     "data": {
      "image/png": "[encoded data removed]",
      "text/plain": [
       "<Figure size 720x360 with 2 Axes>"
      ]
     },
     "metadata": {
      "needs_background": "light"
     },
     "output_type": "display_data"
    },
    {
     "name": "stdout",
     "output_type": "stream",
     "text": [
      "\n"
     ]
    },
    {
     "name": "stderr",
     "output_type": "stream",
     "text": [
      "[Parallel(n_jobs=2)]: Using backend LokyBackend with 2 concurrent workers.\n",
      "[Parallel(n_jobs=2)]: Done   5 out of   5 | elapsed:    0.4s finished\n",
      "[Parallel(n_jobs=2)]: Using backend LokyBackend with 2 concurrent workers.\n"
     ]
    },
    {
     "name": "stdout",
     "output_type": "stream",
     "text": [
      "---------------------------------------------------------------------\n",
      "Gradient Boosting Classifier\n",
      "---------------------------------------------------------------------\n",
      "For Metric: accuracy\n",
      "Cross Validation scores on training data:\n",
      "CV Mean: 0.94475 CV Standard Deviation: 0.03755\n",
      "\n"
     ]
    },
    {
     "name": "stderr",
     "output_type": "stream",
     "text": [
      "[Parallel(n_jobs=2)]: Done   5 out of   5 | elapsed:    0.5s finished\n",
      "[Parallel(n_jobs=2)]: Using backend LokyBackend with 2 concurrent workers.\n"
     ]
    },
    {
     "name": "stdout",
     "output_type": "stream",
     "text": [
      "---------------------------------------------------------------------\n",
      "Gradient Boosting Classifier\n",
      "---------------------------------------------------------------------\n",
      "For Metric: precision\n",
      "Cross Validation scores on training data:\n",
      "CV Mean: 0.93999 CV Standard Deviation: 0.05735\n",
      "\n"
     ]
    },
    {
     "name": "stderr",
     "output_type": "stream",
     "text": [
      "[Parallel(n_jobs=2)]: Done   5 out of   5 | elapsed:    0.6s finished\n",
      "[Parallel(n_jobs=2)]: Using backend LokyBackend with 2 concurrent workers.\n"
     ]
    },
    {
     "name": "stdout",
     "output_type": "stream",
     "text": [
      "---------------------------------------------------------------------\n",
      "Gradient Boosting Classifier\n",
      "---------------------------------------------------------------------\n",
      "For Metric: recall\n",
      "Cross Validation scores on training data:\n",
      "CV Mean: 0.91931 CV Standard Deviation: 0.06885\n",
      "\n"
     ]
    },
    {
     "name": "stderr",
     "output_type": "stream",
     "text": [
      "[Parallel(n_jobs=2)]: Done   5 out of   5 | elapsed:    0.5s finished\n",
      "[Parallel(n_jobs=2)]: Using backend LokyBackend with 2 concurrent workers.\n"
     ]
    },
    {
     "name": "stdout",
     "output_type": "stream",
     "text": [
      "---------------------------------------------------------------------\n",
      "Gradient Boosting Classifier\n",
      "---------------------------------------------------------------------\n",
      "For Metric: f1\n",
      "Cross Validation scores on training data:\n",
      "CV Mean: 0.92852 CV Standard Deviation: 0.05909\n",
      "\n"
     ]
    },
    {
     "name": "stderr",
     "output_type": "stream",
     "text": [
      "[Parallel(n_jobs=2)]: Done   5 out of   5 | elapsed:    0.5s finished\n",
      "[Parallel(n_jobs=2)]: Using backend LokyBackend with 2 concurrent workers.\n"
     ]
    },
    {
     "name": "stdout",
     "output_type": "stream",
     "text": [
      "---------------------------------------------------------------------\n",
      "Gradient Boosting Classifier\n",
      "---------------------------------------------------------------------\n",
      "For Metric: average_precision\n",
      "Cross Validation scores on training data:\n",
      "CV Mean: 0.97937 CV Standard Deviation: 0.01765\n",
      "\n"
     ]
    },
    {
     "name": "stderr",
     "output_type": "stream",
     "text": [
      "[Parallel(n_jobs=2)]: Done   5 out of   5 | elapsed:    0.5s finished\n"
     ]
    },
    {
     "name": "stdout",
     "output_type": "stream",
     "text": [
      "---------------------------------------------------------------------\n",
      "Gradient Boosting Classifier\n",
      "---------------------------------------------------------------------\n",
      "For Metric: roc_auc\n",
      "Cross Validation scores on training data:\n",
      "CV Mean: 0.97900 CV Standard Deviation: 0.02522\n",
      "\n",
      "Average Precision-Recall score:0.99\n",
      "╒════════════════════════╤═══════════════════════╕\n",
      "│ Metric                 │   Testing Performance │\n",
      "╞════════════════════════╪═══════════════════════╡\n",
      "│ Accuracy               │             0.97076   │\n",
      "├────────────────────────┼───────────────────────┤\n",
      "│ Precision              │             0.983333  │\n",
      "├────────────────────────┼───────────────────────┤\n",
      "│ Recall                 │             0.936508  │\n",
      "├────────────────────────┼───────────────────────┤\n",
      "│ Misclassification rate │             0.0292398 │\n",
      "├────────────────────────┼───────────────────────┤\n",
      "│ F1                     │             0.95935   │\n",
      "├────────────────────────┼───────────────────────┤\n",
      "│ r2                     │             0.874339  │\n",
      "├────────────────────────┼───────────────────────┤\n",
      "│ AUC                    │             0.963624  │\n",
      "├────────────────────────┼───────────────────────┤\n",
      "│ MSE                    │             0.0292398 │\n",
      "├────────────────────────┼───────────────────────┤\n",
      "│ Logloss                │             1.00991   │\n",
      "╘════════════════════════╧═══════════════════════╛\n",
      "\n",
      "Classification report:\n",
      "               precision    recall  f1-score   support\n",
      "\n",
      "           0       0.96      0.99      0.98       108\n",
      "           1       0.98      0.94      0.96        63\n",
      "\n",
      "    accuracy                           0.97       171\n",
      "   macro avg       0.97      0.96      0.97       171\n",
      "weighted avg       0.97      0.97      0.97       171\n",
      "\n",
      "\n",
      "Correct classifications on test data: 166/171   97.076%\n"
     ]
    },
    {
     "data": {
      "image/png": "[encoded data removed]",
      "text/plain": [
       "<Figure size 432x288 with 2 Axes>"
      ]
     },
     "metadata": {
      "needs_background": "light"
     },
     "output_type": "display_data"
    },
    {
     "data": {
      "image/png": "[encoded data removed]",
      "text/plain": [
       "<Figure size 720x360 with 2 Axes>"
      ]
     },
     "metadata": {
      "needs_background": "light"
     },
     "output_type": "display_data"
    },
    {
     "name": "stdout",
     "output_type": "stream",
     "text": [
      "\n"
     ]
    },
    {
     "name": "stderr",
     "output_type": "stream",
     "text": [
      "[Parallel(n_jobs=2)]: Using backend LokyBackend with 2 concurrent workers.\n",
      "[Parallel(n_jobs=2)]: Done   5 out of   5 | elapsed:    0.2s finished\n",
      "[Parallel(n_jobs=2)]: Using backend LokyBackend with 2 concurrent workers.\n"
     ]
    },
    {
     "name": "stdout",
     "output_type": "stream",
     "text": [
      "---------------------------------------------------------------------\n",
      "Extra Trees Classifier\n",
      "---------------------------------------------------------------------\n",
      "For Metric: accuracy\n",
      "Cross Validation scores on training data:\n",
      "CV Mean: 0.95975 CV Standard Deviation: 0.02563\n",
      "\n"
     ]
    },
    {
     "name": "stderr",
     "output_type": "stream",
     "text": [
      "[Parallel(n_jobs=2)]: Done   5 out of   5 | elapsed:    0.2s finished\n",
      "[Parallel(n_jobs=2)]: Using backend LokyBackend with 2 concurrent workers.\n"
     ]
    },
    {
     "name": "stdout",
     "output_type": "stream",
     "text": [
      "---------------------------------------------------------------------\n",
      "Extra Trees Classifier\n",
      "---------------------------------------------------------------------\n",
      "For Metric: precision\n",
      "Cross Validation scores on training data:\n",
      "CV Mean: 0.97260 CV Standard Deviation: 0.02645\n",
      "\n"
     ]
    },
    {
     "name": "stderr",
     "output_type": "stream",
     "text": [
      "[Parallel(n_jobs=2)]: Done   5 out of   5 | elapsed:    0.2s finished\n",
      "[Parallel(n_jobs=2)]: Using backend LokyBackend with 2 concurrent workers.\n"
     ]
    },
    {
     "name": "stdout",
     "output_type": "stream",
     "text": [
      "---------------------------------------------------------------------\n",
      "Extra Trees Classifier\n",
      "---------------------------------------------------------------------\n",
      "For Metric: recall\n",
      "Cross Validation scores on training data:\n",
      "CV Mean: 0.93241 CV Standard Deviation: 0.03820\n",
      "\n"
     ]
    },
    {
     "name": "stderr",
     "output_type": "stream",
     "text": [
      "[Parallel(n_jobs=2)]: Done   5 out of   5 | elapsed:    0.2s finished\n",
      "[Parallel(n_jobs=2)]: Using backend LokyBackend with 2 concurrent workers.\n"
     ]
    },
    {
     "name": "stdout",
     "output_type": "stream",
     "text": [
      "---------------------------------------------------------------------\n",
      "Extra Trees Classifier\n",
      "---------------------------------------------------------------------\n",
      "For Metric: f1\n",
      "Cross Validation scores on training data:\n",
      "CV Mean: 0.94007 CV Standard Deviation: 0.04242\n",
      "\n"
     ]
    },
    {
     "name": "stderr",
     "output_type": "stream",
     "text": [
      "[Parallel(n_jobs=2)]: Done   5 out of   5 | elapsed:    0.2s finished\n",
      "[Parallel(n_jobs=2)]: Using backend LokyBackend with 2 concurrent workers.\n"
     ]
    },
    {
     "name": "stdout",
     "output_type": "stream",
     "text": [
      "---------------------------------------------------------------------\n",
      "Extra Trees Classifier\n",
      "---------------------------------------------------------------------\n",
      "For Metric: average_precision\n",
      "Cross Validation scores on training data:\n",
      "CV Mean: 0.98713 CV Standard Deviation: 0.01428\n",
      "\n"
     ]
    },
    {
     "name": "stderr",
     "output_type": "stream",
     "text": [
      "[Parallel(n_jobs=2)]: Done   5 out of   5 | elapsed:    0.2s finished\n"
     ]
    },
    {
     "name": "stdout",
     "output_type": "stream",
     "text": [
      "---------------------------------------------------------------------\n",
      "Extra Trees Classifier\n",
      "---------------------------------------------------------------------\n",
      "For Metric: roc_auc\n",
      "Cross Validation scores on training data:\n",
      "CV Mean: 0.99038 CV Standard Deviation: 0.01074\n",
      "\n",
      "Average Precision-Recall score:1.00\n",
      "╒════════════════════════╤═══════════════════════╕\n",
      "│ Metric                 │   Testing Performance │\n",
      "╞════════════════════════╪═══════════════════════╡\n",
      "│ Accuracy               │             0.976608  │\n",
      "├────────────────────────┼───────────────────────┤\n",
      "│ Precision              │             0.983607  │\n",
      "├────────────────────────┼───────────────────────┤\n",
      "│ Recall                 │             0.952381  │\n",
      "├────────────────────────┼───────────────────────┤\n",
      "│ Misclassification rate │             0.0233918 │\n",
      "├────────────────────────┼───────────────────────┤\n",
      "│ F1                     │             0.967742  │\n",
      "├────────────────────────┼───────────────────────┤\n",
      "│ r2                     │             0.899471  │\n",
      "├────────────────────────┼───────────────────────┤\n",
      "│ AUC                    │             0.971561  │\n",
      "├────────────────────────┼───────────────────────┤\n",
      "│ MSE                    │             0.0233918 │\n",
      "├────────────────────────┼───────────────────────┤\n",
      "│ Logloss                │             0.807929  │\n",
      "╘════════════════════════╧═══════════════════════╛\n",
      "\n",
      "Classification report:\n",
      "               precision    recall  f1-score   support\n",
      "\n",
      "           0       0.97      0.99      0.98       108\n",
      "           1       0.98      0.95      0.97        63\n",
      "\n",
      "    accuracy                           0.98       171\n",
      "   macro avg       0.98      0.97      0.97       171\n",
      "weighted avg       0.98      0.98      0.98       171\n",
      "\n",
      "\n",
      "Correct classifications on test data: 167/171   97.661%\n"
     ]
    },
    {
     "data": {
      "image/png": "[encoded data removed]",
      "text/plain": [
       "<Figure size 432x288 with 2 Axes>"
      ]
     },
     "metadata": {
      "needs_background": "light"
     },
     "output_type": "display_data"
    },
    {
     "data": {
      "image/png": "[encoded data removed]",
      "text/plain": [
       "<Figure size 720x360 with 2 Axes>"
      ]
     },
     "metadata": {
      "needs_background": "light"
     },
     "output_type": "display_data"
    },
    {
     "name": "stdout",
     "output_type": "stream",
     "text": [
      "\n"
     ]
    },
    {
     "name": "stderr",
     "output_type": "stream",
     "text": [
      "[Parallel(n_jobs=2)]: Using backend LokyBackend with 2 concurrent workers.\n",
      "[Parallel(n_jobs=2)]: Done   5 out of   5 | elapsed:    0.1s finished\n",
      "[Parallel(n_jobs=2)]: Using backend LokyBackend with 2 concurrent workers.\n"
     ]
    },
    {
     "name": "stdout",
     "output_type": "stream",
     "text": [
      "---------------------------------------------------------------------\n",
      "XGB Classifier\n",
      "---------------------------------------------------------------------\n",
      "For Metric: accuracy\n",
      "Cross Validation scores on training data:\n",
      "CV Mean: 0.95728 CV Standard Deviation: 0.02814\n",
      "\n"
     ]
    },
    {
     "name": "stderr",
     "output_type": "stream",
     "text": [
      "[Parallel(n_jobs=2)]: Done   5 out of   5 | elapsed:    0.2s finished\n",
      "[Parallel(n_jobs=2)]: Using backend LokyBackend with 2 concurrent workers.\n"
     ]
    },
    {
     "name": "stdout",
     "output_type": "stream",
     "text": [
      "---------------------------------------------------------------------\n",
      "XGB Classifier\n",
      "---------------------------------------------------------------------\n",
      "For Metric: precision\n",
      "Cross Validation scores on training data:\n",
      "CV Mean: 0.94786 CV Standard Deviation: 0.03453\n",
      "\n"
     ]
    },
    {
     "name": "stderr",
     "output_type": "stream",
     "text": [
      "[Parallel(n_jobs=2)]: Done   5 out of   5 | elapsed:    0.1s finished\n",
      "[Parallel(n_jobs=2)]: Using backend LokyBackend with 2 concurrent workers.\n"
     ]
    },
    {
     "name": "stdout",
     "output_type": "stream",
     "text": [
      "---------------------------------------------------------------------\n",
      "XGB Classifier\n",
      "---------------------------------------------------------------------\n",
      "For Metric: recall\n",
      "Cross Validation scores on training data:\n",
      "CV Mean: 0.93885 CV Standard Deviation: 0.07591\n",
      "\n"
     ]
    },
    {
     "name": "stderr",
     "output_type": "stream",
     "text": [
      "[Parallel(n_jobs=2)]: Done   5 out of   5 | elapsed:    0.2s finished\n",
      "[Parallel(n_jobs=2)]: Using backend LokyBackend with 2 concurrent workers.\n"
     ]
    },
    {
     "name": "stdout",
     "output_type": "stream",
     "text": [
      "---------------------------------------------------------------------\n",
      "XGB Classifier\n",
      "---------------------------------------------------------------------\n",
      "For Metric: f1\n",
      "Cross Validation scores on training data:\n",
      "CV Mean: 0.94122 CV Standard Deviation: 0.04013\n",
      "\n"
     ]
    },
    {
     "name": "stderr",
     "output_type": "stream",
     "text": [
      "[Parallel(n_jobs=2)]: Done   5 out of   5 | elapsed:    0.2s finished\n",
      "[Parallel(n_jobs=2)]: Using backend LokyBackend with 2 concurrent workers.\n"
     ]
    },
    {
     "name": "stdout",
     "output_type": "stream",
     "text": [
      "---------------------------------------------------------------------\n",
      "XGB Classifier\n",
      "---------------------------------------------------------------------\n",
      "For Metric: average_precision\n",
      "Cross Validation scores on training data:\n",
      "CV Mean: 0.98494 CV Standard Deviation: 0.01735\n",
      "\n"
     ]
    },
    {
     "name": "stderr",
     "output_type": "stream",
     "text": [
      "[Parallel(n_jobs=2)]: Done   5 out of   5 | elapsed:    0.2s finished\n"
     ]
    },
    {
     "name": "stdout",
     "output_type": "stream",
     "text": [
      "---------------------------------------------------------------------\n",
      "XGB Classifier\n",
      "---------------------------------------------------------------------\n",
      "For Metric: roc_auc\n",
      "Cross Validation scores on training data:\n",
      "CV Mean: 0.98595 CV Standard Deviation: 0.01813\n",
      "\n",
      "[22:02:01] WARNING: C:/Users/Administrator/workspace/xgboost-win64_release_1.5.1/src/learner.cc:1115: Starting in XGBoost 1.3.0, the default evaluation metric used with the objective 'binary:logistic' was changed from 'error' to 'logloss'. Explicitly set eval_metric if you'd like to restore the old behavior.\n",
      "Average Precision-Recall score:1.00\n",
      "╒════════════════════════╤═══════════════════════╕\n",
      "│ Metric                 │   Testing Performance │\n",
      "╞════════════════════════╪═══════════════════════╡\n",
      "│ Accuracy               │             0.982456  │\n",
      "├────────────────────────┼───────────────────────┤\n",
      "│ Precision              │             1         │\n",
      "├────────────────────────┼───────────────────────┤\n",
      "│ Recall                 │             0.952381  │\n",
      "├────────────────────────┼───────────────────────┤\n",
      "│ Misclassification rate │             0.0175439 │\n",
      "├────────────────────────┼───────────────────────┤\n",
      "│ F1                     │             0.97561   │\n",
      "├────────────────────────┼───────────────────────┤\n",
      "│ r2                     │             0.924603  │\n",
      "├────────────────────────┼───────────────────────┤\n",
      "│ AUC                    │             0.97619   │\n",
      "├────────────────────────┼───────────────────────┤\n",
      "│ MSE                    │             0.0175439 │\n",
      "├────────────────────────┼───────────────────────┤\n",
      "│ Logloss                │             0.605943  │\n",
      "╘════════════════════════╧═══════════════════════╛\n",
      "\n",
      "Classification report:\n",
      "               precision    recall  f1-score   support\n",
      "\n",
      "           0       0.97      1.00      0.99       108\n",
      "           1       1.00      0.95      0.98        63\n",
      "\n",
      "    accuracy                           0.98       171\n",
      "   macro avg       0.99      0.98      0.98       171\n",
      "weighted avg       0.98      0.98      0.98       171\n",
      "\n",
      "\n",
      "Correct classifications on test data: 168/171   98.246%\n"
     ]
    },
    {
     "data": {
      "image/png": "[encoded data removed]",
      "text/plain": [
       "<Figure size 432x288 with 2 Axes>"
      ]
     },
     "metadata": {
      "needs_background": "light"
     },
     "output_type": "display_data"
    },
    {
     "data": {
      "image/png": "[encoded data removed]",
      "text/plain": [
       "<Figure size 720x360 with 2 Axes>"
      ]
     },
     "metadata": {
      "needs_background": "light"
     },
     "output_type": "display_data"
    },
    {
     "name": "stdout",
     "output_type": "stream",
     "text": [
      "\n",
      "---------------------------------------------------------------------\n",
      "KNeighbors Classifier\n",
      "---------------------------------------------------------------------\n",
      "For Metric: accuracy\n",
      "Cross Validation scores on training data:\n",
      "CV Mean: 0.97231 CV Standard Deviation: 0.01476\n",
      "\n",
      "---------------------------------------------------------------------\n",
      "KNeighbors Classifier\n",
      "---------------------------------------------------------------------\n",
      "For Metric: precision\n",
      "Cross Validation scores on training data:\n",
      "CV Mean: 0.97999 CV Standard Deviation: 0.01636\n",
      "\n",
      "---------------------------------------------------------------------\n",
      "KNeighbors Classifier\n",
      "---------------------------------------------------------------------\n",
      "For Metric: recall\n",
      "Cross Validation scores on training data:\n",
      "CV Mean: 0.94575 CV Standard Deviation: 0.04685\n",
      "\n",
      "---------------------------------------------------------------------\n",
      "KNeighbors Classifier\n",
      "---------------------------------------------------------------------\n",
      "For Metric: f1\n",
      "Cross Validation scores on training data:\n",
      "CV Mean: 0.96168 CV Standard Deviation: 0.02190\n",
      "\n",
      "---------------------------------------------------------------------\n",
      "KNeighbors Classifier\n",
      "---------------------------------------------------------------------\n",
      "For Metric: average_precision\n",
      "Cross Validation scores on training data:\n",
      "CV Mean: 0.97652 CV Standard Deviation: 0.02653\n",
      "\n",
      "---------------------------------------------------------------------\n",
      "KNeighbors Classifier\n",
      "---------------------------------------------------------------------\n",
      "For Metric: roc_auc\n",
      "Cross Validation scores on training data:\n",
      "CV Mean: 0.98205 CV Standard Deviation: 0.02283\n",
      "\n",
      "Average Precision-Recall score:0.98\n"
     ]
    },
    {
     "name": "stderr",
     "output_type": "stream",
     "text": [
      "[Parallel(n_jobs=2)]: Using backend LokyBackend with 2 concurrent workers.\n",
      "[Parallel(n_jobs=2)]: Done   5 out of   5 | elapsed:    0.0s finished\n",
      "[Parallel(n_jobs=2)]: Using backend LokyBackend with 2 concurrent workers.\n",
      "[Parallel(n_jobs=2)]: Done   5 out of   5 | elapsed:    0.0s finished\n",
      "[Parallel(n_jobs=2)]: Using backend LokyBackend with 2 concurrent workers.\n",
      "[Parallel(n_jobs=2)]: Done   5 out of   5 | elapsed:    0.0s finished\n",
      "[Parallel(n_jobs=2)]: Using backend LokyBackend with 2 concurrent workers.\n",
      "[Parallel(n_jobs=2)]: Done   5 out of   5 | elapsed:    0.0s finished\n",
      "[Parallel(n_jobs=2)]: Using backend LokyBackend with 2 concurrent workers.\n",
      "[Parallel(n_jobs=2)]: Done   5 out of   5 | elapsed:    0.0s finished\n",
      "[Parallel(n_jobs=2)]: Using backend LokyBackend with 2 concurrent workers.\n",
      "[Parallel(n_jobs=2)]: Done   5 out of   5 | elapsed:    0.0s finished\n"
     ]
    },
    {
     "name": "stdout",
     "output_type": "stream",
     "text": [
      "╒════════════════════════╤═══════════════════════╕\n",
      "│ Metric                 │   Testing Performance │\n",
      "╞════════════════════════╪═══════════════════════╡\n",
      "│ Accuracy               │             0.964912  │\n",
      "├────────────────────────┼───────────────────────┤\n",
      "│ Precision              │             0.967213  │\n",
      "├────────────────────────┼───────────────────────┤\n",
      "│ Recall                 │             0.936508  │\n",
      "├────────────────────────┼───────────────────────┤\n",
      "│ Misclassification rate │             0.0350877 │\n",
      "├────────────────────────┼───────────────────────┤\n",
      "│ F1                     │             0.951613  │\n",
      "├────────────────────────┼───────────────────────┤\n",
      "│ r2                     │             0.849206  │\n",
      "├────────────────────────┼───────────────────────┤\n",
      "│ AUC                    │             0.958995  │\n",
      "├────────────────────────┼───────────────────────┤\n",
      "│ MSE                    │             0.0350877 │\n",
      "├────────────────────────┼───────────────────────┤\n",
      "│ Logloss                │             1.2119    │\n",
      "╘════════════════════════╧═══════════════════════╛\n",
      "\n",
      "Classification report:\n",
      "               precision    recall  f1-score   support\n",
      "\n",
      "           0       0.96      0.98      0.97       108\n",
      "           1       0.97      0.94      0.95        63\n",
      "\n",
      "    accuracy                           0.96       171\n",
      "   macro avg       0.97      0.96      0.96       171\n",
      "weighted avg       0.96      0.96      0.96       171\n",
      "\n",
      "\n",
      "Correct classifications on test data: 165/171   96.491%\n"
     ]
    },
    {
     "data": {
      "image/png": "[encoded data removed]",
      "text/plain": [
       "<Figure size 432x288 with 2 Axes>"
      ]
     },
     "metadata": {
      "needs_background": "light"
     },
     "output_type": "display_data"
    },
    {
     "data": {
      "image/png": "[encoded data removed]",
      "text/plain": [
       "<Figure size 720x360 with 2 Axes>"
      ]
     },
     "metadata": {
      "needs_background": "light"
     },
     "output_type": "display_data"
    },
    {
     "name": "stdout",
     "output_type": "stream",
     "text": [
      "\n",
      "---------------------------------------------------------------------\n",
      "SVM Classifier\n",
      "---------------------------------------------------------------------\n",
      "For Metric: accuracy\n",
      "Cross Validation scores on training data:\n",
      "CV Mean: 0.96981 CV Standard Deviation: 0.02201\n",
      "\n",
      "---------------------------------------------------------------------\n",
      "SVM Classifier\n",
      "---------------------------------------------------------------------\n",
      "For Metric: precision\n",
      "Cross Validation scores on training data:\n",
      "CV Mean: 0.96767 CV Standard Deviation: 0.03335\n",
      "\n",
      "---------------------------------------------------------------------\n",
      "SVM Classifier\n",
      "---------------------------------------------------------------------\n",
      "For Metric: recall\n",
      "Cross Validation scores on training data:\n",
      "CV Mean: 0.95241 CV Standard Deviation: 0.05950\n",
      "\n"
     ]
    },
    {
     "name": "stderr",
     "output_type": "stream",
     "text": [
      "[Parallel(n_jobs=2)]: Using backend LokyBackend with 2 concurrent workers.\n",
      "[Parallel(n_jobs=2)]: Done   5 out of   5 | elapsed:    0.0s finished\n",
      "[Parallel(n_jobs=2)]: Using backend LokyBackend with 2 concurrent workers.\n",
      "[Parallel(n_jobs=2)]: Done   5 out of   5 | elapsed:    0.0s finished\n",
      "[Parallel(n_jobs=2)]: Using backend LokyBackend with 2 concurrent workers.\n",
      "[Parallel(n_jobs=2)]: Done   5 out of   5 | elapsed:    0.0s finished\n",
      "[Parallel(n_jobs=2)]: Using backend LokyBackend with 2 concurrent workers.\n",
      "[Parallel(n_jobs=2)]: Done   5 out of   5 | elapsed:    0.0s finished\n"
     ]
    },
    {
     "name": "stdout",
     "output_type": "stream",
     "text": [
      "---------------------------------------------------------------------\n",
      "SVM Classifier\n",
      "---------------------------------------------------------------------\n",
      "For Metric: f1\n",
      "Cross Validation scores on training data:\n",
      "CV Mean: 0.95849 CV Standard Deviation: 0.03148\n",
      "\n",
      "---------------------------------------------------------------------\n",
      "SVM Classifier\n",
      "---------------------------------------------------------------------\n",
      "For Metric: average_precision\n",
      "Cross Validation scores on training data:\n",
      "CV Mean: 0.99312 CV Standard Deviation: 0.00772\n",
      "\n",
      "---------------------------------------------------------------------\n",
      "SVM Classifier\n",
      "---------------------------------------------------------------------\n",
      "For Metric: roc_auc\n",
      "Cross Validation scores on training data:\n",
      "CV Mean: 0.99470 CV Standard Deviation: 0.00617\n",
      "\n",
      "Average Precision-Recall score:0.99\n",
      "╒════════════════════════╤═══════════════════════╕\n",
      "│ Metric                 │   Testing Performance │\n",
      "╞════════════════════════╪═══════════════════════╡\n",
      "│ Accuracy               │             0.988304  │\n",
      "├────────────────────────┼───────────────────────┤\n",
      "│ Precision              │             1         │\n",
      "├────────────────────────┼───────────────────────┤\n",
      "│ Recall                 │             0.968254  │\n",
      "├────────────────────────┼───────────────────────┤\n",
      "│ Misclassification rate │             0.0116959 │\n",
      "├────────────────────────┼───────────────────────┤\n",
      "│ F1                     │             0.983871  │\n",
      "├────────────────────────┼───────────────────────┤\n",
      "│ r2                     │             0.949735  │\n",
      "├────────────────────────┼───────────────────────┤\n",
      "│ AUC                    │             0.984127  │\n",
      "├────────────────────────┼───────────────────────┤\n",
      "│ MSE                    │             0.0116959 │\n",
      "├────────────────────────┼───────────────────────┤\n",
      "│ Logloss                │             0.403962  │\n",
      "╘════════════════════════╧═══════════════════════╛\n"
     ]
    },
    {
     "name": "stderr",
     "output_type": "stream",
     "text": [
      "[Parallel(n_jobs=2)]: Using backend LokyBackend with 2 concurrent workers.\n",
      "[Parallel(n_jobs=2)]: Done   5 out of   5 | elapsed:    0.0s finished\n",
      "[Parallel(n_jobs=2)]: Using backend LokyBackend with 2 concurrent workers.\n",
      "[Parallel(n_jobs=2)]: Done   5 out of   5 | elapsed:    0.0s finished\n"
     ]
    },
    {
     "name": "stdout",
     "output_type": "stream",
     "text": [
      "\n",
      "Classification report:\n",
      "               precision    recall  f1-score   support\n",
      "\n",
      "           0       0.98      1.00      0.99       108\n",
      "           1       1.00      0.97      0.98        63\n",
      "\n",
      "    accuracy                           0.99       171\n",
      "   macro avg       0.99      0.98      0.99       171\n",
      "weighted avg       0.99      0.99      0.99       171\n",
      "\n",
      "\n",
      "Correct classifications on test data: 169/171   98.830%\n"
     ]
    },
    {
     "data": {
      "image/png": "[encoded data removed]",
      "text/plain": [
       "<Figure size 432x288 with 2 Axes>"
      ]
     },
     "metadata": {
      "needs_background": "light"
     },
     "output_type": "display_data"
    },
    {
     "data": {
      "image/png": "[encoded data removed]",
      "text/plain": [
       "<Figure size 720x360 with 2 Axes>"
      ]
     },
     "metadata": {
      "needs_background": "light"
     },
     "output_type": "display_data"
    },
    {
     "name": "stdout",
     "output_type": "stream",
     "text": [
      "\n"
     ]
    }
   ],
   "source": [
    "kfolds= 5\n",
    "param_comb = 5\n",
    "skf = StratifiedKFold(n_splits= kfolds, shuffle= True, random_state = 43)\n",
    "metrics=['accuracy','precision','recall', 'f1','average_precision', 'roc_auc']\n",
    "Training_Performance= pd.DataFrame(columns= ['Algorithm','Metric','Mean Cross-Validation', 'CV std']) \n",
    "Testing_Performance= pd.DataFrame(columns= ['Algorithm','Accuracy','AUC','Precision','Recall','F1'])\n",
    "for name, model in model_dict.items():\n",
    "    for m in metrics:\n",
    "        score= cross_val_score(model, x_train, y_train, scoring=m, cv=skf, verbose=1, n_jobs=2)\n",
    "        print(\"---------------------------------------------------------------------\") \n",
    "        print(name)\n",
    "        print(\"---------------------------------------------------------------------\")\n",
    "        print(\"For Metric: %s\" % (m))\n",
    "        print(\"Cross Validation scores on training data:\")\n",
    "        print ('CV Mean: %.5f CV Standard Deviation: %.5f'% (np.mean(np.abs(score)), np.std(score)))\n",
    "        print(\"\") \n",
    "         \n",
    "        Training_Performance= Training_Performance.append({'Algorithm' : name, 'Metric' : m, 'Mean Cross-Validation' : np.mean(np.abs(score)),'CV std' : np.std(score)},  \n",
    "                ignore_index = True) \n",
    "        \n",
    "    model.fit(x_train, y_train)\n",
    "    y_predicted_test= model.predict(x_test)\n",
    "    y_probabilities_test= model.predict_proba(x_test)\n",
    "    y_probabilities_success= y_probabilities_test[:, 1]\n",
    "\n",
    "    from sklearn.metrics import average_precision_score\n",
    "    average_precision= average_precision_score(y_test, y_probabilities_success)\n",
    "    print('Average Precision-Recall score:{0:0.2f}'.format(average_precision))\n",
    "\n",
    "    false_positive_rate, true_positive_rate, threshold= roc_curve(y_test, y_probabilities_success)\n",
    "\n",
    "    mse        = mean_squared_error(y_test, y_predicted_test)\n",
    "    logloss    = log_loss(y_test, y_predicted_test)\n",
    "    accuracy   = accuracy_score(y_test, y_predicted_test)\n",
    "    precision  = precision_score(y_test, y_predicted_test, average='binary')\n",
    "    recall     = recall_score(y_test, y_predicted_test, average='binary')\n",
    "    F1         = f1_score(y_test, y_predicted_test)\n",
    "    r2         = r2_score(y_test, y_predicted_test)\n",
    "    auc        = roc_auc_score(y_test, y_predicted_test)\n",
    "    cm         = confusion_matrix(y_test, y_predicted_test)\n",
    "    \n",
    "    Model_metrics(name)\n",
    "    Confusion_Matrix(model)\n",
    "    plot_roc_precision_recall_curve(name)\n",
    "    \n",
    "    print(\"\")"
   ]
  },
  {
   "cell_type": "code",
   "execution_count": 25,
   "id": "890e72a0",
   "metadata": {},
   "outputs": [
    {
     "data": {
      "text/html": [
       "<div>\n",
       "<style scoped>\n",
       "    .dataframe tbody tr th:only-of-type {\n",
       "        vertical-align: middle;\n",
       "    }\n",
       "\n",
       "    .dataframe tbody tr th {\n",
       "        vertical-align: top;\n",
       "    }\n",
       "\n",
       "    .dataframe thead tr th {\n",
       "        text-align: left;\n",
       "    }\n",
       "\n",
       "    .dataframe thead tr:last-of-type th {\n",
       "        text-align: right;\n",
       "    }\n",
       "</style>\n",
       "<table border=\"1\" class=\"dataframe\">\n",
       "  <thead>\n",
       "    <tr>\n",
       "      <th></th>\n",
       "      <th colspan=\"6\" halign=\"left\">amin</th>\n",
       "    </tr>\n",
       "    <tr>\n",
       "      <th></th>\n",
       "      <th colspan=\"6\" halign=\"left\">Mean Cross-Validation</th>\n",
       "    </tr>\n",
       "    <tr>\n",
       "      <th>Metric</th>\n",
       "      <th>accuracy</th>\n",
       "      <th>average_precision</th>\n",
       "      <th>f1</th>\n",
       "      <th>precision</th>\n",
       "      <th>recall</th>\n",
       "      <th>roc_auc</th>\n",
       "    </tr>\n",
       "    <tr>\n",
       "      <th>Algorithm</th>\n",
       "      <th></th>\n",
       "      <th></th>\n",
       "      <th></th>\n",
       "      <th></th>\n",
       "      <th></th>\n",
       "      <th></th>\n",
       "    </tr>\n",
       "  </thead>\n",
       "  <tbody>\n",
       "    <tr>\n",
       "      <th>Extra Trees Classifier</th>\n",
       "      <td>0.959747</td>\n",
       "      <td>0.987134</td>\n",
       "      <td>0.940066</td>\n",
       "      <td>0.972596</td>\n",
       "      <td>0.932414</td>\n",
       "      <td>0.990378</td>\n",
       "    </tr>\n",
       "    <tr>\n",
       "      <th>Gradient Boosting Classifier</th>\n",
       "      <td>0.944747</td>\n",
       "      <td>0.979366</td>\n",
       "      <td>0.928519</td>\n",
       "      <td>0.939985</td>\n",
       "      <td>0.919310</td>\n",
       "      <td>0.979001</td>\n",
       "    </tr>\n",
       "    <tr>\n",
       "      <th>KNeighbors Classifier</th>\n",
       "      <td>0.972310</td>\n",
       "      <td>0.976519</td>\n",
       "      <td>0.961681</td>\n",
       "      <td>0.979985</td>\n",
       "      <td>0.945747</td>\n",
       "      <td>0.982051</td>\n",
       "    </tr>\n",
       "    <tr>\n",
       "      <th>Logistic Regression</th>\n",
       "      <td>0.969778</td>\n",
       "      <td>0.990363</td>\n",
       "      <td>0.957587</td>\n",
       "      <td>0.979189</td>\n",
       "      <td>0.939080</td>\n",
       "      <td>0.991376</td>\n",
       "    </tr>\n",
       "    <tr>\n",
       "      <th>Random Forest Classifier</th>\n",
       "      <td>0.954778</td>\n",
       "      <td>0.983471</td>\n",
       "      <td>0.938513</td>\n",
       "      <td>0.952550</td>\n",
       "      <td>0.919080</td>\n",
       "      <td>0.989704</td>\n",
       "    </tr>\n",
       "    <tr>\n",
       "      <th>SVM Classifier</th>\n",
       "      <td>0.969810</td>\n",
       "      <td>0.993116</td>\n",
       "      <td>0.958489</td>\n",
       "      <td>0.967674</td>\n",
       "      <td>0.952414</td>\n",
       "      <td>0.994696</td>\n",
       "    </tr>\n",
       "    <tr>\n",
       "      <th>XGB Classifier</th>\n",
       "      <td>0.957278</td>\n",
       "      <td>0.984945</td>\n",
       "      <td>0.941221</td>\n",
       "      <td>0.947859</td>\n",
       "      <td>0.938851</td>\n",
       "      <td>0.985946</td>\n",
       "    </tr>\n",
       "  </tbody>\n",
       "</table>\n",
       "</div>"
      ],
      "text/plain": [
       "                                              amin                    \\\n",
       "                             Mean Cross-Validation                     \n",
       "Metric                                    accuracy average_precision   \n",
       "Algorithm                                                              \n",
       "Extra Trees Classifier                    0.959747          0.987134   \n",
       "Gradient Boosting Classifier              0.944747          0.979366   \n",
       "KNeighbors Classifier                     0.972310          0.976519   \n",
       "Logistic Regression                       0.969778          0.990363   \n",
       "Random Forest Classifier                  0.954778          0.983471   \n",
       "SVM Classifier                            0.969810          0.993116   \n",
       "XGB Classifier                            0.957278          0.984945   \n",
       "\n",
       "                                                                      \n",
       "                                                                      \n",
       "Metric                              f1 precision    recall   roc_auc  \n",
       "Algorithm                                                             \n",
       "Extra Trees Classifier        0.940066  0.972596  0.932414  0.990378  \n",
       "Gradient Boosting Classifier  0.928519  0.939985  0.919310  0.979001  \n",
       "KNeighbors Classifier         0.961681  0.979985  0.945747  0.982051  \n",
       "Logistic Regression           0.957587  0.979189  0.939080  0.991376  \n",
       "Random Forest Classifier      0.938513  0.952550  0.919080  0.989704  \n",
       "SVM Classifier                0.958489  0.967674  0.952414  0.994696  \n",
       "XGB Classifier                0.941221  0.947859  0.938851  0.985946  "
      ]
     },
     "execution_count": 25,
     "metadata": {},
     "output_type": "execute_result"
    }
   ],
   "source": [
    "Training_PerformancePivot= pd.pivot_table(Training_Performance,index=[\"Algorithm\"],values=[\"Mean Cross-Validation\"],columns=[\"Metric\"], aggfunc=[np.min])\n",
    "Training_PerformancePivot"
   ]
  },
  {
   "cell_type": "code",
   "execution_count": 26,
   "id": "b1e6321a",
   "metadata": {},
   "outputs": [
    {
     "data": {
      "text/html": [
       "<div>\n",
       "<style scoped>\n",
       "    .dataframe tbody tr th:only-of-type {\n",
       "        vertical-align: middle;\n",
       "    }\n",
       "\n",
       "    .dataframe tbody tr th {\n",
       "        vertical-align: top;\n",
       "    }\n",
       "\n",
       "    .dataframe thead th {\n",
       "        text-align: right;\n",
       "    }\n",
       "</style>\n",
       "<table border=\"1\" class=\"dataframe\">\n",
       "  <thead>\n",
       "    <tr style=\"text-align: right;\">\n",
       "      <th></th>\n",
       "      <th>Algorithm</th>\n",
       "      <th>Accuracy</th>\n",
       "      <th>AUC</th>\n",
       "      <th>Precision</th>\n",
       "      <th>Recall</th>\n",
       "      <th>F1</th>\n",
       "    </tr>\n",
       "  </thead>\n",
       "  <tbody>\n",
       "    <tr>\n",
       "      <th>3</th>\n",
       "      <td>Extra Trees Classifier</td>\n",
       "      <td>0.976608</td>\n",
       "      <td>0.971561</td>\n",
       "      <td>0.983607</td>\n",
       "      <td>0.952381</td>\n",
       "      <td>0.967742</td>\n",
       "    </tr>\n",
       "    <tr>\n",
       "      <th>2</th>\n",
       "      <td>Gradient Boosting Classifier</td>\n",
       "      <td>0.970760</td>\n",
       "      <td>0.963624</td>\n",
       "      <td>0.983333</td>\n",
       "      <td>0.936508</td>\n",
       "      <td>0.959350</td>\n",
       "    </tr>\n",
       "    <tr>\n",
       "      <th>5</th>\n",
       "      <td>KNeighbors Classifier</td>\n",
       "      <td>0.964912</td>\n",
       "      <td>0.958995</td>\n",
       "      <td>0.967213</td>\n",
       "      <td>0.936508</td>\n",
       "      <td>0.951613</td>\n",
       "    </tr>\n",
       "    <tr>\n",
       "      <th>0</th>\n",
       "      <td>Logistic Regression</td>\n",
       "      <td>0.982456</td>\n",
       "      <td>0.976190</td>\n",
       "      <td>1.000000</td>\n",
       "      <td>0.952381</td>\n",
       "      <td>0.975610</td>\n",
       "    </tr>\n",
       "    <tr>\n",
       "      <th>1</th>\n",
       "      <td>Random Forest Classifier</td>\n",
       "      <td>0.976608</td>\n",
       "      <td>0.971561</td>\n",
       "      <td>0.983607</td>\n",
       "      <td>0.952381</td>\n",
       "      <td>0.967742</td>\n",
       "    </tr>\n",
       "    <tr>\n",
       "      <th>6</th>\n",
       "      <td>SVM Classifier</td>\n",
       "      <td>0.988304</td>\n",
       "      <td>0.984127</td>\n",
       "      <td>1.000000</td>\n",
       "      <td>0.968254</td>\n",
       "      <td>0.983871</td>\n",
       "    </tr>\n",
       "    <tr>\n",
       "      <th>4</th>\n",
       "      <td>XGB Classifier</td>\n",
       "      <td>0.982456</td>\n",
       "      <td>0.976190</td>\n",
       "      <td>1.000000</td>\n",
       "      <td>0.952381</td>\n",
       "      <td>0.975610</td>\n",
       "    </tr>\n",
       "  </tbody>\n",
       "</table>\n",
       "</div>"
      ],
      "text/plain": [
       "                      Algorithm  Accuracy       AUC  Precision    Recall  \\\n",
       "3        Extra Trees Classifier  0.976608  0.971561   0.983607  0.952381   \n",
       "2  Gradient Boosting Classifier  0.970760  0.963624   0.983333  0.936508   \n",
       "5         KNeighbors Classifier  0.964912  0.958995   0.967213  0.936508   \n",
       "0           Logistic Regression  0.982456  0.976190   1.000000  0.952381   \n",
       "1      Random Forest Classifier  0.976608  0.971561   0.983607  0.952381   \n",
       "6                SVM Classifier  0.988304  0.984127   1.000000  0.968254   \n",
       "4                XGB Classifier  0.982456  0.976190   1.000000  0.952381   \n",
       "\n",
       "         F1  \n",
       "3  0.967742  \n",
       "2  0.959350  \n",
       "5  0.951613  \n",
       "0  0.975610  \n",
       "1  0.967742  \n",
       "6  0.983871  \n",
       "4  0.975610  "
      ]
     },
     "execution_count": 26,
     "metadata": {},
     "output_type": "execute_result"
    }
   ],
   "source": [
    "Testing_Performance.sort_values(by=['Algorithm'])"
   ]
  }
 ],
 "metadata": {
  "kernelspec": {
   "display_name": "Python 3",
   "language": "python",
   "name": "python3"
  },
  "language_info": {
   "codemirror_mode": {
    "name": "ipython",
    "version": 3
   },
   "file_extension": ".py",
   "mimetype": "text/x-python",
   "name": "python",
   "nbconvert_exporter": "python",
   "pygments_lexer": "ipython3",
   "version": "3.8.8"
  }
 },
 "nbformat": 4,
 "nbformat_minor": 5
}
