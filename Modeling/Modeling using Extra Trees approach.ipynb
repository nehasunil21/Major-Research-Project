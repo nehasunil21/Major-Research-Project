{
 "cells": [
  {
   "cell_type": "code",
   "execution_count": 1,
   "id": "2aa9a94c",
   "metadata": {},
   "outputs": [],
   "source": [
    "import numpy as np\n",
    "import pandas as pd\n",
    "import matplotlib.pyplot as plt\n",
    "import seaborn as sns\n",
    "from sklearn.preprocessing import LabelEncoder\n",
    "\n",
    "from sklearn import datasets\n",
    "from sklearn.metrics import accuracy_score\n",
    "from sklearn.linear_model import LogisticRegression\n",
    "from sklearn.ensemble import RandomForestClassifier\n",
    "from sklearn.neighbors import KNeighborsClassifier\n",
    "from sklearn.svm import SVC\n",
    "\n",
    "from sklearn.model_selection import train_test_split\n",
    "from sklearn.model_selection import StratifiedKFold\n",
    "from sklearn.model_selection import cross_val_score\n",
    "from tabulate import tabulate\n",
    "import itertools\n",
    "from sklearn import metrics\n",
    "from sklearn.metrics import roc_auc_score, roc_curve, classification_report\n",
    "from sklearn.metrics import confusion_matrix, accuracy_score, mean_squared_error\n",
    "from sklearn.metrics import f1_score, precision_score, recall_score, log_loss, r2_score\n",
    "from sklearn.metrics import precision_recall_curve\n",
    "from sklearn.svm import SVC\n",
    "\n",
    "from sklearn.preprocessing import StandardScaler\n",
    "\n",
    "\n",
    "import warnings\n",
    "warnings.simplefilter('ignore')"
   ]
  },
  {
   "cell_type": "code",
   "execution_count": 2,
   "id": "210a620c",
   "metadata": {},
   "outputs": [],
   "source": [
    "breast_cancer_data= pd.read_csv(\"data.csv\")\n",
    "drop_list= ['Unnamed: 32','id']\n",
    "breast_cancer_data.drop(drop_list, axis=1, inplace= True)\n",
    "x_drop= ['diagnosis']\n",
    "x= breast_cancer_data.drop(x_drop,axis=1)\n",
    "y= breast_cancer_data.diagnosis\n",
    "y= y.replace(\"B\", 0)\n",
    "y= y.replace(\"M\", 1)"
   ]
  },
  {
   "cell_type": "code",
   "execution_count": 3,
   "id": "010f239a",
   "metadata": {},
   "outputs": [],
   "source": [
    "x_train, x_test, y_train, y_test= train_test_split(x,y,test_size=0.3,random_state=42 )"
   ]
  },
  {
   "cell_type": "code",
   "execution_count": 4,
   "id": "748cec06",
   "metadata": {},
   "outputs": [],
   "source": [
    "model_dict= {}\n",
    "\n",
    "# Logistic Regression\n",
    "clf = LogisticRegression()\n",
    "model_dict['Logistic Regression'] = clf\n",
    "\n",
    "# Random Forest Classifier\n",
    "clf = RandomForestClassifier()\n",
    "model_dict['Random Forest Classifier'] = clf\n",
    "\n",
    "# Gradient Boosting Classifier\n",
    "from sklearn.ensemble import GradientBoostingClassifier\n",
    "clf = GradientBoostingClassifier()\n",
    "model_dict['Gradient Boosting Classifier'] = clf\n",
    "\n",
    "# Extra Trees Classifier\n",
    "from sklearn.ensemble import ExtraTreesClassifier\n",
    "clf = ExtraTreesClassifier()\n",
    "model_dict['Extra Trees Classifier'] = clf\n",
    "\n",
    "# XGB Classifier\n",
    "from xgboost import XGBClassifier\n",
    "clf = XGBClassifier()\n",
    "model_dict['XGB Classifier'] = clf\n",
    "\n",
    "# K Nearest Neighbor\n",
    "clf = KNeighborsClassifier()\n",
    "model_dict['KNeighbors Classifier'] = clf\n",
    "\n",
    "# Support Vector Machine\n",
    "from sklearn.svm import SVC\n",
    "clf = SVC(kernel='rbf',probability=True)   \n",
    "model_dict['SVM Classifier'] = clf"
   ]
  },
  {
   "cell_type": "code",
   "execution_count": 5,
   "id": "885b761e",
   "metadata": {},
   "outputs": [],
   "source": [
    "#Correlation features\n",
    "corr_features=['radius_mean','texture_mean','perimeter_mean','area_mean','perimeter_se','area_se','radius_worst','texture_worst','perimeter_worst','area_worst']\n",
    "\n",
    "#Chi-Square features\n",
    "chi_sq_features= ['area_worst','area_mean','area_se','perimeter_worst','perimeter_mean','radius_worst','radius_mean','perimeter_se','texture_worst','texture_mean']\n",
    "\n",
    "# RFE features\n",
    "rfe_features= ['area_worst','area_mean','area_se','perimeter_worst','perimeter_mean','radius_worst','texture_worst','texture_mean','concavity_worst','concavity_mean','compactness_worst','concave points_worst','concave points_mean','compactness_mean','symmetry_worst','smoothness_worst']\n",
    "\n",
    "#RFECV features\n",
    "rfecv_features= ['area_worst','area_mean','area_se','perimeter_worst','perimeter_mean','radius_worst','radius_mean','perimeter_se','texture_worst','texture_mean','concavity_worst','radius_se','concavity_mean','compactness_worst','concave points_worst','concave points_mean','compactness_mean','symmetry_worst','smoothness_worst','fractal_dimension_worst','fractal_dimension_se']\n",
    "\n",
    "#ExtraTrees features\n",
    "extra_trees_features= ['area_worst','area_mean','perimeter_worst','perimeter_mean','radius_worst','radius_mean','concavity_worst','concavity_mean','concave points_worst','concave points_mean']\n",
    "\n",
    "#Vote based features\n",
    "voted_features= ['area_worst','area_mean','area_se','perimeter_worst','perimeter_mean','radius_worst','radius_mean','perimeter_se','texture_worst','texture_mean','concavity_worst','concavity_mean','compactness_worst','concave points_worst','concave points_mean','compactness_mean','symmetry_worst','smoothness_worst']"
   ]
  },
  {
   "cell_type": "code",
   "execution_count": 6,
   "id": "af75fa5b",
   "metadata": {},
   "outputs": [],
   "source": [
    "# Extra Trees\n",
    "x_train = x_train[extra_trees_features]\n",
    "x_test = x_test[extra_trees_features]"
   ]
  },
  {
   "cell_type": "code",
   "execution_count": 7,
   "id": "d028b640",
   "metadata": {},
   "outputs": [],
   "source": [
    "scale = StandardScaler()\n",
    "x_train = scale.fit_transform(x_train)\n",
    "x_test = scale.fit_transform(x_test)"
   ]
  },
  {
   "cell_type": "code",
   "execution_count": 8,
   "id": "a7209587",
   "metadata": {},
   "outputs": [],
   "source": [
    "def Model_metrics(name):\n",
    "    global Testing_Performance\n",
    "    true_negative  = cm[0, 0]\n",
    "    true_positive  = cm[1, 1]\n",
    "    false_negative = cm[1, 0]\n",
    "    false_positive = cm[0, 1]\n",
    "    total = true_negative + true_positive + false_negative + false_positive\n",
    "\n",
    "    accuracy_ = (true_positive + true_negative)/total\n",
    "    precision_ = (true_positive)/(true_positive + false_positive)\n",
    "    recall_ = (true_positive)/(true_positive + false_negative)\n",
    "    misclassification_rate = (false_positive + false_negative)/total\n",
    "    F1_ = (2*true_positive)/(2*true_positive + false_positive + false_negative)\n",
    "    assert accuracy == accuracy_, \"accuracy score does not agree\"\n",
    "    assert precision == precision_, \"precision score does not agree\"\n",
    "    assert recall == recall_, \"recall score does not agree\"\n",
    "    assert round(F1,6) == round(F1_,6), \"F1: \" + str(F1) + \" != F1_: \" + str(F1_)\n",
    "\n",
    "    header = [\"Metric\", \"Testing Performance\"]\n",
    "    table = [[\"Accuracy\",               accuracy],\n",
    "             [\"Precision\",              precision],\n",
    "             [\"Recall\",                 recall],\n",
    "             [\"Misclassification rate\", misclassification_rate],\n",
    "             [\"F1\",                     F1],\n",
    "             [\"r2\",                     r2],\n",
    "             [\"AUC\",                    auc],\n",
    "             [\"MSE\",                    mse],\n",
    "             [\"Logloss\",                logloss]\n",
    "            ]\n",
    "\n",
    "    print(tabulate(table, header, tablefmt=\"fancy_grid\"))\n",
    "    Testing_Performance = Testing_Performance.append({'Algorithm' : name,'Accuracy' : accuracy,'AUC' : auc,'Precision' : precision,'Recall' : recall,'F1' : F1},ignore_index = True)"
   ]
  },
  {
   "cell_type": "code",
   "execution_count": 9,
   "id": "db1ac37f",
   "metadata": {},
   "outputs": [],
   "source": [
    "def Confusion_Matrix(best_model):\n",
    "    cmap= plt.cm.Oranges\n",
    "    plt.imshow(cm, interpolation='nearest', cmap=cmap)\n",
    "    classes = [0, 1]\n",
    "    plt.title('Confusion matrix (on test data)')\n",
    "    plt.colorbar()\n",
    "    tick_marks = np.arange(len(classes))\n",
    "    plt.xticks(tick_marks, classes, rotation=0)\n",
    "    plt.yticks(tick_marks, classes)\n",
    "\n",
    "    thresh = cm.max() / 2.\n",
    "    for i, j in itertools.product(range(cm.shape[0]), range(cm.shape[1])):\n",
    "        plt.text(j, i, cm[i, j],\n",
    "                 horizontalalignment=\"center\",\n",
    "                 color=\"white\" if cm[i, j] > thresh else \"black\")\n",
    "\n",
    "    plt.tight_layout()\n",
    "    plt.ylabel('True label')\n",
    "    plt.xlabel('Predicted label')\n",
    "\n",
    "    c_report = classification_report(y_test, y_predicted_test)\n",
    "    print('\\nClassification report:\\n', c_report)\n",
    "\n",
    "    ntotal = len(y_test)\n",
    "    correct = y_test == y_predicted_test\n",
    "    numCorrect = sum(correct)\n",
    "    percent = round((numCorrect*100.0)/ntotal, 6)\n",
    "    print(\"\\nCorrect classifications on test data: {0:d}/{1:d} {2:8.3f}%\".format(numCorrect, ntotal, percent))\n",
    "    prediction_score= (best_model.score(x_test, y_test))*100.0\n",
    "    assert (round(percent,3) == round(prediction_score, 3)), \"prediction score does not agree\""
   ]
  },
  {
   "cell_type": "code",
   "execution_count": 10,
   "id": "410a9a2e",
   "metadata": {},
   "outputs": [],
   "source": [
    "def plot_roc_precision_recall_curve(label):\n",
    "    class_names = [0, 1]\n",
    "    fig, (left, right) = plt.subplots(nrows=1, ncols=2, figsize=(10,5))\n",
    "\n",
    "    plt.subplot(1, 2, 1)\n",
    "    plt.plot([0, 1], [0, 1], 'k--')\n",
    "    plt.plot(false_positive_rate, true_positive_rate, color='darkorange', label=label)\n",
    "    #x label\n",
    "    plt.xlabel('False positive rate')\n",
    "    #y label\n",
    "    plt.ylabel('True positive rate')\n",
    "    plt.title('ROC curve (area = %0.7f)' % auc)\n",
    "    plt.legend(loc='best')\n",
    "\n",
    "    plt.subplot(1, 2, 2)\n",
    "    precision, recall, _ = precision_recall_curve(y_test, y_probabilities_success)\n",
    "\n",
    "    plt.step(recall, precision, color='r', alpha=0.2, where='post')\n",
    "    plt.fill_between(recall, precision, step='post', alpha=0.2, color='r')\n",
    "\n",
    "    plt.xlabel('Recall')\n",
    "    plt.ylabel('Precision')\n",
    "    plt.ylim([0.0, 1.05])\n",
    "    plt.xlim([0.0, 1.0])\n",
    "    plt.title('Precision-Recall curve: AP={0:0.2f}'.format(average_precision))\n",
    "\n",
    "    plt.tight_layout()\n",
    "    plt.show()"
   ]
  },
  {
   "cell_type": "code",
   "execution_count": 11,
   "id": "716a7d2a",
   "metadata": {},
   "outputs": [
    {
     "name": "stderr",
     "output_type": "stream",
     "text": [
      "[Parallel(n_jobs=2)]: Using backend LokyBackend with 2 concurrent workers.\n",
      "[Parallel(n_jobs=2)]: Done   5 out of   5 | elapsed:    1.9s finished\n",
      "[Parallel(n_jobs=2)]: Using backend LokyBackend with 2 concurrent workers.\n",
      "[Parallel(n_jobs=2)]: Done   5 out of   5 | elapsed:    0.0s finished\n",
      "[Parallel(n_jobs=2)]: Using backend LokyBackend with 2 concurrent workers.\n",
      "[Parallel(n_jobs=2)]: Done   5 out of   5 | elapsed:    0.0s finished\n",
      "[Parallel(n_jobs=2)]: Using backend LokyBackend with 2 concurrent workers.\n",
      "[Parallel(n_jobs=2)]: Done   5 out of   5 | elapsed:    0.0s finished\n",
      "[Parallel(n_jobs=2)]: Using backend LokyBackend with 2 concurrent workers.\n",
      "[Parallel(n_jobs=2)]: Done   5 out of   5 | elapsed:    0.0s finished\n"
     ]
    },
    {
     "name": "stdout",
     "output_type": "stream",
     "text": [
      "---------------------------------------------------------------------\n",
      "Logistic Regression\n",
      "---------------------------------------------------------------------\n",
      "For Metric: accuracy\n",
      "Cross Validation scores on training data:\n",
      "CV Mean: 0.94731 CV Standard Deviation: 0.03900\n",
      "\n",
      "---------------------------------------------------------------------\n",
      "Logistic Regression\n",
      "---------------------------------------------------------------------\n",
      "For Metric: precision\n",
      "Cross Validation scores on training data:\n",
      "CV Mean: 0.95117 CV Standard Deviation: 0.04881\n",
      "\n",
      "---------------------------------------------------------------------\n",
      "Logistic Regression\n",
      "---------------------------------------------------------------------\n",
      "For Metric: recall\n",
      "Cross Validation scores on training data:\n",
      "CV Mean: 0.90575 CV Standard Deviation: 0.07172\n",
      "\n",
      "---------------------------------------------------------------------\n",
      "Logistic Regression\n",
      "---------------------------------------------------------------------\n",
      "For Metric: f1\n",
      "Cross Validation scores on training data:\n",
      "CV Mean: 0.92696 CV Standard Deviation: 0.05418\n",
      "\n"
     ]
    },
    {
     "name": "stderr",
     "output_type": "stream",
     "text": [
      "[Parallel(n_jobs=2)]: Using backend LokyBackend with 2 concurrent workers.\n",
      "[Parallel(n_jobs=2)]: Done   5 out of   5 | elapsed:    0.0s finished\n"
     ]
    },
    {
     "name": "stdout",
     "output_type": "stream",
     "text": [
      "---------------------------------------------------------------------\n",
      "Logistic Regression\n",
      "---------------------------------------------------------------------\n",
      "For Metric: average_precision\n",
      "Cross Validation scores on training data:\n",
      "CV Mean: 0.97952 CV Standard Deviation: 0.01923\n",
      "\n",
      "---------------------------------------------------------------------\n",
      "Logistic Regression\n",
      "---------------------------------------------------------------------\n",
      "For Metric: roc_auc\n",
      "Cross Validation scores on training data:\n",
      "CV Mean: 0.98261 CV Standard Deviation: 0.01813\n",
      "\n",
      "Average Precision-Recall score:0.99\n",
      "╒════════════════════════╤═══════════════════════╕\n",
      "│ Metric                 │   Testing Performance │\n",
      "╞════════════════════════╪═══════════════════════╡\n",
      "│ Accuracy               │             0.964912  │\n",
      "├────────────────────────┼───────────────────────┤\n",
      "│ Precision              │             0.967213  │\n",
      "├────────────────────────┼───────────────────────┤\n",
      "│ Recall                 │             0.936508  │\n",
      "├────────────────────────┼───────────────────────┤\n",
      "│ Misclassification rate │             0.0350877 │\n",
      "├────────────────────────┼───────────────────────┤\n",
      "│ F1                     │             0.951613  │\n",
      "├────────────────────────┼───────────────────────┤\n",
      "│ r2                     │             0.849206  │\n",
      "├────────────────────────┼───────────────────────┤\n",
      "│ AUC                    │             0.958995  │\n",
      "├────────────────────────┼───────────────────────┤\n",
      "│ MSE                    │             0.0350877 │\n",
      "├────────────────────────┼───────────────────────┤\n",
      "│ Logloss                │             1.2119    │\n",
      "╘════════════════════════╧═══════════════════════╛\n",
      "\n",
      "Classification report:\n",
      "               precision    recall  f1-score   support\n",
      "\n",
      "           0       0.96      0.98      0.97       108\n",
      "           1       0.97      0.94      0.95        63\n",
      "\n",
      "    accuracy                           0.96       171\n",
      "   macro avg       0.97      0.96      0.96       171\n",
      "weighted avg       0.96      0.96      0.96       171\n",
      "\n",
      "\n",
      "Correct classifications on test data: 165/171   96.491%\n"
     ]
    },
    {
     "data": {
      "image/png": "[encoded data removed]",
      "text/plain": [
       "<Figure size 432x288 with 2 Axes>"
      ]
     },
     "metadata": {
      "needs_background": "light"
     },
     "output_type": "display_data"
    },
    {
     "data": {
      "image/png": "[encoded data removed]",
      "text/plain": [
       "<Figure size 720x360 with 2 Axes>"
      ]
     },
     "metadata": {
      "needs_background": "light"
     },
     "output_type": "display_data"
    },
    {
     "name": "stdout",
     "output_type": "stream",
     "text": [
      "\n"
     ]
    },
    {
     "name": "stderr",
     "output_type": "stream",
     "text": [
      "[Parallel(n_jobs=2)]: Using backend LokyBackend with 2 concurrent workers.\n",
      "[Parallel(n_jobs=2)]: Done   5 out of   5 | elapsed:    0.6s finished\n",
      "[Parallel(n_jobs=2)]: Using backend LokyBackend with 2 concurrent workers.\n"
     ]
    },
    {
     "name": "stdout",
     "output_type": "stream",
     "text": [
      "---------------------------------------------------------------------\n",
      "Random Forest Classifier\n",
      "---------------------------------------------------------------------\n",
      "For Metric: accuracy\n",
      "Cross Validation scores on training data:\n",
      "CV Mean: 0.94472 CV Standard Deviation: 0.03318\n",
      "\n"
     ]
    },
    {
     "name": "stderr",
     "output_type": "stream",
     "text": [
      "[Parallel(n_jobs=2)]: Done   5 out of   5 | elapsed:    0.7s finished\n",
      "[Parallel(n_jobs=2)]: Using backend LokyBackend with 2 concurrent workers.\n"
     ]
    },
    {
     "name": "stdout",
     "output_type": "stream",
     "text": [
      "---------------------------------------------------------------------\n",
      "Random Forest Classifier\n",
      "---------------------------------------------------------------------\n",
      "For Metric: precision\n",
      "Cross Validation scores on training data:\n",
      "CV Mean: 0.95261 CV Standard Deviation: 0.05128\n",
      "\n"
     ]
    },
    {
     "name": "stderr",
     "output_type": "stream",
     "text": [
      "[Parallel(n_jobs=2)]: Done   5 out of   5 | elapsed:    0.8s finished\n",
      "[Parallel(n_jobs=2)]: Using backend LokyBackend with 2 concurrent workers.\n"
     ]
    },
    {
     "name": "stdout",
     "output_type": "stream",
     "text": [
      "---------------------------------------------------------------------\n",
      "Random Forest Classifier\n",
      "---------------------------------------------------------------------\n",
      "For Metric: recall\n",
      "Cross Validation scores on training data:\n",
      "CV Mean: 0.91241 CV Standard Deviation: 0.05498\n",
      "\n"
     ]
    },
    {
     "name": "stderr",
     "output_type": "stream",
     "text": [
      "[Parallel(n_jobs=2)]: Done   5 out of   5 | elapsed:    0.6s finished\n",
      "[Parallel(n_jobs=2)]: Using backend LokyBackend with 2 concurrent workers.\n"
     ]
    },
    {
     "name": "stdout",
     "output_type": "stream",
     "text": [
      "---------------------------------------------------------------------\n",
      "Random Forest Classifier\n",
      "---------------------------------------------------------------------\n",
      "For Metric: f1\n",
      "Cross Validation scores on training data:\n",
      "CV Mean: 0.91962 CV Standard Deviation: 0.03593\n",
      "\n"
     ]
    },
    {
     "name": "stderr",
     "output_type": "stream",
     "text": [
      "[Parallel(n_jobs=2)]: Done   5 out of   5 | elapsed:    0.7s finished\n",
      "[Parallel(n_jobs=2)]: Using backend LokyBackend with 2 concurrent workers.\n"
     ]
    },
    {
     "name": "stdout",
     "output_type": "stream",
     "text": [
      "---------------------------------------------------------------------\n",
      "Random Forest Classifier\n",
      "---------------------------------------------------------------------\n",
      "For Metric: average_precision\n",
      "Cross Validation scores on training data:\n",
      "CV Mean: 0.97592 CV Standard Deviation: 0.02051\n",
      "\n"
     ]
    },
    {
     "name": "stderr",
     "output_type": "stream",
     "text": [
      "[Parallel(n_jobs=2)]: Done   5 out of   5 | elapsed:    0.5s finished\n"
     ]
    },
    {
     "name": "stdout",
     "output_type": "stream",
     "text": [
      "---------------------------------------------------------------------\n",
      "Random Forest Classifier\n",
      "---------------------------------------------------------------------\n",
      "For Metric: roc_auc\n",
      "Cross Validation scores on training data:\n",
      "CV Mean: 0.98139 CV Standard Deviation: 0.01714\n",
      "\n",
      "Average Precision-Recall score:0.98\n",
      "╒════════════════════════╤═══════════════════════╕\n",
      "│ Metric                 │   Testing Performance │\n",
      "╞════════════════════════╪═══════════════════════╡\n",
      "│ Accuracy               │             0.964912  │\n",
      "├────────────────────────┼───────────────────────┤\n",
      "│ Precision              │             0.967213  │\n",
      "├────────────────────────┼───────────────────────┤\n",
      "│ Recall                 │             0.936508  │\n",
      "├────────────────────────┼───────────────────────┤\n",
      "│ Misclassification rate │             0.0350877 │\n",
      "├────────────────────────┼───────────────────────┤\n",
      "│ F1                     │             0.951613  │\n",
      "├────────────────────────┼───────────────────────┤\n",
      "│ r2                     │             0.849206  │\n",
      "├────────────────────────┼───────────────────────┤\n",
      "│ AUC                    │             0.958995  │\n",
      "├────────────────────────┼───────────────────────┤\n",
      "│ MSE                    │             0.0350877 │\n",
      "├────────────────────────┼───────────────────────┤\n",
      "│ Logloss                │             1.2119    │\n",
      "╘════════════════════════╧═══════════════════════╛\n",
      "\n",
      "Classification report:\n",
      "               precision    recall  f1-score   support\n",
      "\n",
      "           0       0.96      0.98      0.97       108\n",
      "           1       0.97      0.94      0.95        63\n",
      "\n",
      "    accuracy                           0.96       171\n",
      "   macro avg       0.97      0.96      0.96       171\n",
      "weighted avg       0.96      0.96      0.96       171\n",
      "\n",
      "\n",
      "Correct classifications on test data: 165/171   96.491%\n"
     ]
    },
    {
     "data": {
      "image/png": "[encoded data removed]",
      "text/plain": [
       "<Figure size 432x288 with 2 Axes>"
      ]
     },
     "metadata": {
      "needs_background": "light"
     },
     "output_type": "display_data"
    },
    {
     "data": {
      "image/png": "[encoded data removed]",
      "text/plain": [
       "<Figure size 720x360 with 2 Axes>"
      ]
     },
     "metadata": {
      "needs_background": "light"
     },
     "output_type": "display_data"
    },
    {
     "name": "stdout",
     "output_type": "stream",
     "text": [
      "\n"
     ]
    },
    {
     "name": "stderr",
     "output_type": "stream",
     "text": [
      "[Parallel(n_jobs=2)]: Using backend LokyBackend with 2 concurrent workers.\n",
      "[Parallel(n_jobs=2)]: Done   5 out of   5 | elapsed:    0.3s finished\n",
      "[Parallel(n_jobs=2)]: Using backend LokyBackend with 2 concurrent workers.\n"
     ]
    },
    {
     "name": "stdout",
     "output_type": "stream",
     "text": [
      "---------------------------------------------------------------------\n",
      "Gradient Boosting Classifier\n",
      "---------------------------------------------------------------------\n",
      "For Metric: accuracy\n",
      "Cross Validation scores on training data:\n",
      "CV Mean: 0.93978 CV Standard Deviation: 0.03897\n",
      "\n"
     ]
    },
    {
     "name": "stderr",
     "output_type": "stream",
     "text": [
      "[Parallel(n_jobs=2)]: Done   5 out of   5 | elapsed:    0.3s finished\n",
      "[Parallel(n_jobs=2)]: Using backend LokyBackend with 2 concurrent workers.\n"
     ]
    },
    {
     "name": "stdout",
     "output_type": "stream",
     "text": [
      "---------------------------------------------------------------------\n",
      "Gradient Boosting Classifier\n",
      "---------------------------------------------------------------------\n",
      "For Metric: precision\n",
      "Cross Validation scores on training data:\n",
      "CV Mean: 0.94483 CV Standard Deviation: 0.06012\n",
      "\n"
     ]
    },
    {
     "name": "stderr",
     "output_type": "stream",
     "text": [
      "[Parallel(n_jobs=2)]: Done   5 out of   5 | elapsed:    0.4s finished\n",
      "[Parallel(n_jobs=2)]: Using backend LokyBackend with 2 concurrent workers.\n"
     ]
    },
    {
     "name": "stdout",
     "output_type": "stream",
     "text": [
      "---------------------------------------------------------------------\n",
      "Gradient Boosting Classifier\n",
      "---------------------------------------------------------------------\n",
      "For Metric: recall\n",
      "Cross Validation scores on training data:\n",
      "CV Mean: 0.89241 CV Standard Deviation: 0.05382\n",
      "\n"
     ]
    },
    {
     "name": "stderr",
     "output_type": "stream",
     "text": [
      "[Parallel(n_jobs=2)]: Done   5 out of   5 | elapsed:    0.4s finished\n",
      "[Parallel(n_jobs=2)]: Using backend LokyBackend with 2 concurrent workers.\n"
     ]
    },
    {
     "name": "stdout",
     "output_type": "stream",
     "text": [
      "---------------------------------------------------------------------\n",
      "Gradient Boosting Classifier\n",
      "---------------------------------------------------------------------\n",
      "For Metric: f1\n",
      "Cross Validation scores on training data:\n",
      "CV Mean: 0.91739 CV Standard Deviation: 0.05269\n",
      "\n"
     ]
    },
    {
     "name": "stderr",
     "output_type": "stream",
     "text": [
      "[Parallel(n_jobs=2)]: Done   5 out of   5 | elapsed:    0.5s finished\n",
      "[Parallel(n_jobs=2)]: Using backend LokyBackend with 2 concurrent workers.\n"
     ]
    },
    {
     "name": "stdout",
     "output_type": "stream",
     "text": [
      "---------------------------------------------------------------------\n",
      "Gradient Boosting Classifier\n",
      "---------------------------------------------------------------------\n",
      "For Metric: average_precision\n",
      "Cross Validation scores on training data:\n",
      "CV Mean: 0.97069 CV Standard Deviation: 0.02134\n",
      "\n"
     ]
    },
    {
     "name": "stderr",
     "output_type": "stream",
     "text": [
      "[Parallel(n_jobs=2)]: Done   5 out of   5 | elapsed:    0.5s finished\n"
     ]
    },
    {
     "name": "stdout",
     "output_type": "stream",
     "text": [
      "---------------------------------------------------------------------\n",
      "Gradient Boosting Classifier\n",
      "---------------------------------------------------------------------\n",
      "For Metric: roc_auc\n",
      "Cross Validation scores on training data:\n",
      "CV Mean: 0.97403 CV Standard Deviation: 0.02278\n",
      "\n",
      "Average Precision-Recall score:0.99\n",
      "╒════════════════════════╤═══════════════════════╕\n",
      "│ Metric                 │   Testing Performance │\n",
      "╞════════════════════════╪═══════════════════════╡\n",
      "│ Accuracy               │             0.953216  │\n",
      "├────────────────────────┼───────────────────────┤\n",
      "│ Precision              │             0.95082   │\n",
      "├────────────────────────┼───────────────────────┤\n",
      "│ Recall                 │             0.920635  │\n",
      "├────────────────────────┼───────────────────────┤\n",
      "│ Misclassification rate │             0.0467836 │\n",
      "├────────────────────────┼───────────────────────┤\n",
      "│ F1                     │             0.935484  │\n",
      "├────────────────────────┼───────────────────────┤\n",
      "│ r2                     │             0.798942  │\n",
      "├────────────────────────┼───────────────────────┤\n",
      "│ AUC                    │             0.946429  │\n",
      "├────────────────────────┼───────────────────────┤\n",
      "│ MSE                    │             0.0467836 │\n",
      "├────────────────────────┼───────────────────────┤\n",
      "│ Logloss                │             1.61586   │\n",
      "╘════════════════════════╧═══════════════════════╛\n",
      "\n",
      "Classification report:\n",
      "               precision    recall  f1-score   support\n",
      "\n",
      "           0       0.95      0.97      0.96       108\n",
      "           1       0.95      0.92      0.94        63\n",
      "\n",
      "    accuracy                           0.95       171\n",
      "   macro avg       0.95      0.95      0.95       171\n",
      "weighted avg       0.95      0.95      0.95       171\n",
      "\n",
      "\n",
      "Correct classifications on test data: 163/171   95.322%\n"
     ]
    },
    {
     "data": {
      "image/png": "[encoded data removed]",
      "text/plain": [
       "<Figure size 432x288 with 2 Axes>"
      ]
     },
     "metadata": {
      "needs_background": "light"
     },
     "output_type": "display_data"
    },
    {
     "data": {
      "image/png": "[encoded data removed]",
      "text/plain": [
       "<Figure size 720x360 with 2 Axes>"
      ]
     },
     "metadata": {
      "needs_background": "light"
     },
     "output_type": "display_data"
    },
    {
     "name": "stdout",
     "output_type": "stream",
     "text": [
      "\n"
     ]
    },
    {
     "name": "stderr",
     "output_type": "stream",
     "text": [
      "[Parallel(n_jobs=2)]: Using backend LokyBackend with 2 concurrent workers.\n",
      "[Parallel(n_jobs=2)]: Done   5 out of   5 | elapsed:    0.6s finished\n",
      "[Parallel(n_jobs=2)]: Using backend LokyBackend with 2 concurrent workers.\n"
     ]
    },
    {
     "name": "stdout",
     "output_type": "stream",
     "text": [
      "---------------------------------------------------------------------\n",
      "Extra Trees Classifier\n",
      "---------------------------------------------------------------------\n",
      "For Metric: accuracy\n",
      "Cross Validation scores on training data:\n",
      "CV Mean: 0.94725 CV Standard Deviation: 0.03296\n",
      "\n"
     ]
    },
    {
     "name": "stderr",
     "output_type": "stream",
     "text": [
      "[Parallel(n_jobs=2)]: Done   5 out of   5 | elapsed:    0.4s finished\n",
      "[Parallel(n_jobs=2)]: Using backend LokyBackend with 2 concurrent workers.\n"
     ]
    },
    {
     "name": "stdout",
     "output_type": "stream",
     "text": [
      "---------------------------------------------------------------------\n",
      "Extra Trees Classifier\n",
      "---------------------------------------------------------------------\n",
      "For Metric: precision\n",
      "Cross Validation scores on training data:\n",
      "CV Mean: 0.95834 CV Standard Deviation: 0.04108\n",
      "\n"
     ]
    },
    {
     "name": "stderr",
     "output_type": "stream",
     "text": [
      "[Parallel(n_jobs=2)]: Done   5 out of   5 | elapsed:    0.4s finished\n",
      "[Parallel(n_jobs=2)]: Using backend LokyBackend with 2 concurrent workers.\n"
     ]
    },
    {
     "name": "stdout",
     "output_type": "stream",
     "text": [
      "---------------------------------------------------------------------\n",
      "Extra Trees Classifier\n",
      "---------------------------------------------------------------------\n",
      "For Metric: recall\n",
      "Cross Validation scores on training data:\n",
      "CV Mean: 0.91241 CV Standard Deviation: 0.04110\n",
      "\n"
     ]
    },
    {
     "name": "stderr",
     "output_type": "stream",
     "text": [
      "[Parallel(n_jobs=2)]: Done   5 out of   5 | elapsed:    0.3s finished\n",
      "[Parallel(n_jobs=2)]: Using backend LokyBackend with 2 concurrent workers.\n"
     ]
    },
    {
     "name": "stdout",
     "output_type": "stream",
     "text": [
      "---------------------------------------------------------------------\n",
      "Extra Trees Classifier\n",
      "---------------------------------------------------------------------\n",
      "For Metric: f1\n",
      "Cross Validation scores on training data:\n",
      "CV Mean: 0.93071 CV Standard Deviation: 0.03955\n",
      "\n"
     ]
    },
    {
     "name": "stderr",
     "output_type": "stream",
     "text": [
      "[Parallel(n_jobs=2)]: Done   5 out of   5 | elapsed:    0.4s finished\n",
      "[Parallel(n_jobs=2)]: Using backend LokyBackend with 2 concurrent workers.\n"
     ]
    },
    {
     "name": "stdout",
     "output_type": "stream",
     "text": [
      "---------------------------------------------------------------------\n",
      "Extra Trees Classifier\n",
      "---------------------------------------------------------------------\n",
      "For Metric: average_precision\n",
      "Cross Validation scores on training data:\n",
      "CV Mean: 0.97514 CV Standard Deviation: 0.02313\n",
      "\n"
     ]
    },
    {
     "name": "stderr",
     "output_type": "stream",
     "text": [
      "[Parallel(n_jobs=2)]: Done   5 out of   5 | elapsed:    0.4s finished\n"
     ]
    },
    {
     "name": "stdout",
     "output_type": "stream",
     "text": [
      "---------------------------------------------------------------------\n",
      "Extra Trees Classifier\n",
      "---------------------------------------------------------------------\n",
      "For Metric: roc_auc\n",
      "Cross Validation scores on training data:\n",
      "CV Mean: 0.97815 CV Standard Deviation: 0.02160\n",
      "\n",
      "Average Precision-Recall score:0.99\n",
      "╒════════════════════════╤═══════════════════════╕\n",
      "│ Metric                 │   Testing Performance │\n",
      "╞════════════════════════╪═══════════════════════╡\n",
      "│ Accuracy               │             0.97076   │\n",
      "├────────────────────────┼───────────────────────┤\n",
      "│ Precision              │             0.967742  │\n",
      "├────────────────────────┼───────────────────────┤\n",
      "│ Recall                 │             0.952381  │\n",
      "├────────────────────────┼───────────────────────┤\n",
      "│ Misclassification rate │             0.0292398 │\n",
      "├────────────────────────┼───────────────────────┤\n",
      "│ F1                     │             0.96      │\n",
      "├────────────────────────┼───────────────────────┤\n",
      "│ r2                     │             0.874339  │\n",
      "├────────────────────────┼───────────────────────┤\n",
      "│ AUC                    │             0.966931  │\n",
      "├────────────────────────┼───────────────────────┤\n",
      "│ MSE                    │             0.0292398 │\n",
      "├────────────────────────┼───────────────────────┤\n",
      "│ Logloss                │             1.00992   │\n",
      "╘════════════════════════╧═══════════════════════╛\n",
      "\n",
      "Classification report:\n",
      "               precision    recall  f1-score   support\n",
      "\n",
      "           0       0.97      0.98      0.98       108\n",
      "           1       0.97      0.95      0.96        63\n",
      "\n",
      "    accuracy                           0.97       171\n",
      "   macro avg       0.97      0.97      0.97       171\n",
      "weighted avg       0.97      0.97      0.97       171\n",
      "\n",
      "\n",
      "Correct classifications on test data: 166/171   97.076%\n"
     ]
    },
    {
     "data": {
      "image/png": "[encoded data removed]",
      "text/plain": [
       "<Figure size 432x288 with 2 Axes>"
      ]
     },
     "metadata": {
      "needs_background": "light"
     },
     "output_type": "display_data"
    },
    {
     "data": {
      "image/png": "[encoded data removed]",
      "text/plain": [
       "<Figure size 720x360 with 2 Axes>"
      ]
     },
     "metadata": {
      "needs_background": "light"
     },
     "output_type": "display_data"
    },
    {
     "name": "stdout",
     "output_type": "stream",
     "text": [
      "\n"
     ]
    },
    {
     "name": "stderr",
     "output_type": "stream",
     "text": [
      "[Parallel(n_jobs=2)]: Using backend LokyBackend with 2 concurrent workers.\n",
      "[Parallel(n_jobs=2)]: Done   5 out of   5 | elapsed:    2.6s finished\n",
      "[Parallel(n_jobs=2)]: Using backend LokyBackend with 2 concurrent workers.\n"
     ]
    },
    {
     "name": "stdout",
     "output_type": "stream",
     "text": [
      "---------------------------------------------------------------------\n",
      "XGB Classifier\n",
      "---------------------------------------------------------------------\n",
      "For Metric: accuracy\n",
      "Cross Validation scores on training data:\n",
      "CV Mean: 0.93972 CV Standard Deviation: 0.02147\n",
      "\n"
     ]
    },
    {
     "name": "stderr",
     "output_type": "stream",
     "text": [
      "[Parallel(n_jobs=2)]: Done   5 out of   5 | elapsed:    0.3s finished\n",
      "[Parallel(n_jobs=2)]: Using backend LokyBackend with 2 concurrent workers.\n"
     ]
    },
    {
     "name": "stdout",
     "output_type": "stream",
     "text": [
      "---------------------------------------------------------------------\n",
      "XGB Classifier\n",
      "---------------------------------------------------------------------\n",
      "For Metric: precision\n",
      "Cross Validation scores on training data:\n",
      "CV Mean: 0.93194 CV Standard Deviation: 0.01805\n",
      "\n"
     ]
    },
    {
     "name": "stderr",
     "output_type": "stream",
     "text": [
      "[Parallel(n_jobs=2)]: Done   5 out of   5 | elapsed:    0.5s finished\n",
      "[Parallel(n_jobs=2)]: Using backend LokyBackend with 2 concurrent workers.\n"
     ]
    },
    {
     "name": "stdout",
     "output_type": "stream",
     "text": [
      "---------------------------------------------------------------------\n",
      "XGB Classifier\n",
      "---------------------------------------------------------------------\n",
      "For Metric: recall\n",
      "Cross Validation scores on training data:\n",
      "CV Mean: 0.90575 CV Standard Deviation: 0.06523\n",
      "\n"
     ]
    },
    {
     "name": "stderr",
     "output_type": "stream",
     "text": [
      "[Parallel(n_jobs=2)]: Done   5 out of   5 | elapsed:    0.9s finished\n",
      "[Parallel(n_jobs=2)]: Using backend LokyBackend with 2 concurrent workers.\n"
     ]
    },
    {
     "name": "stdout",
     "output_type": "stream",
     "text": [
      "---------------------------------------------------------------------\n",
      "XGB Classifier\n",
      "---------------------------------------------------------------------\n",
      "For Metric: f1\n",
      "Cross Validation scores on training data:\n",
      "CV Mean: 0.91717 CV Standard Deviation: 0.03286\n",
      "\n"
     ]
    },
    {
     "name": "stderr",
     "output_type": "stream",
     "text": [
      "[Parallel(n_jobs=2)]: Done   5 out of   5 | elapsed:    0.5s finished\n",
      "[Parallel(n_jobs=2)]: Using backend LokyBackend with 2 concurrent workers.\n"
     ]
    },
    {
     "name": "stdout",
     "output_type": "stream",
     "text": [
      "---------------------------------------------------------------------\n",
      "XGB Classifier\n",
      "---------------------------------------------------------------------\n",
      "For Metric: average_precision\n",
      "Cross Validation scores on training data:\n",
      "CV Mean: 0.97322 CV Standard Deviation: 0.02161\n",
      "\n"
     ]
    },
    {
     "name": "stderr",
     "output_type": "stream",
     "text": [
      "[Parallel(n_jobs=2)]: Done   5 out of   5 | elapsed:    0.6s finished\n"
     ]
    },
    {
     "name": "stdout",
     "output_type": "stream",
     "text": [
      "---------------------------------------------------------------------\n",
      "XGB Classifier\n",
      "---------------------------------------------------------------------\n",
      "For Metric: roc_auc\n",
      "Cross Validation scores on training data:\n",
      "CV Mean: 0.97245 CV Standard Deviation: 0.02722\n",
      "\n",
      "[08:44:35] WARNING: C:/Users/Administrator/workspace/xgboost-win64_release_1.5.1/src/learner.cc:1115: Starting in XGBoost 1.3.0, the default evaluation metric used with the objective 'binary:logistic' was changed from 'error' to 'logloss'. Explicitly set eval_metric if you'd like to restore the old behavior.\n",
      "Average Precision-Recall score:0.99\n",
      "╒════════════════════════╤═══════════════════════╕\n",
      "│ Metric                 │   Testing Performance │\n",
      "╞════════════════════════╪═══════════════════════╡\n",
      "│ Accuracy               │             0.953216  │\n",
      "├────────────────────────┼───────────────────────┤\n",
      "│ Precision              │             0.95082   │\n",
      "├────────────────────────┼───────────────────────┤\n",
      "│ Recall                 │             0.920635  │\n",
      "├────────────────────────┼───────────────────────┤\n",
      "│ Misclassification rate │             0.0467836 │\n",
      "├────────────────────────┼───────────────────────┤\n",
      "│ F1                     │             0.935484  │\n",
      "├────────────────────────┼───────────────────────┤\n",
      "│ r2                     │             0.798942  │\n",
      "├────────────────────────┼───────────────────────┤\n",
      "│ AUC                    │             0.946429  │\n",
      "├────────────────────────┼───────────────────────┤\n",
      "│ MSE                    │             0.0467836 │\n",
      "├────────────────────────┼───────────────────────┤\n",
      "│ Logloss                │             1.61586   │\n",
      "╘════════════════════════╧═══════════════════════╛\n",
      "\n",
      "Classification report:\n",
      "               precision    recall  f1-score   support\n",
      "\n",
      "           0       0.95      0.97      0.96       108\n",
      "           1       0.95      0.92      0.94        63\n",
      "\n",
      "    accuracy                           0.95       171\n",
      "   macro avg       0.95      0.95      0.95       171\n",
      "weighted avg       0.95      0.95      0.95       171\n",
      "\n",
      "\n",
      "Correct classifications on test data: 163/171   95.322%\n"
     ]
    },
    {
     "data": {
      "image/png": "[encoded data removed]",
      "text/plain": [
       "<Figure size 432x288 with 2 Axes>"
      ]
     },
     "metadata": {
      "needs_background": "light"
     },
     "output_type": "display_data"
    },
    {
     "data": {
      "image/png": "[encoded data removed]",
      "text/plain": [
       "<Figure size 720x360 with 2 Axes>"
      ]
     },
     "metadata": {
      "needs_background": "light"
     },
     "output_type": "display_data"
    },
    {
     "name": "stdout",
     "output_type": "stream",
     "text": [
      "\n",
      "---------------------------------------------------------------------\n",
      "KNeighbors Classifier\n",
      "---------------------------------------------------------------------\n",
      "For Metric: accuracy\n",
      "Cross Validation scores on training data:\n",
      "CV Mean: 0.94222 CV Standard Deviation: 0.02580\n",
      "\n",
      "---------------------------------------------------------------------\n",
      "KNeighbors Classifier\n",
      "---------------------------------------------------------------------\n",
      "For Metric: precision\n",
      "Cross Validation scores on training data:\n",
      "CV Mean: 0.95682 CV Standard Deviation: 0.02662\n",
      "\n",
      "---------------------------------------------------------------------\n",
      "KNeighbors Classifier\n",
      "---------------------------------------------------------------------\n",
      "For Metric: recall\n",
      "Cross Validation scores on training data:\n",
      "CV Mean: 0.88552 CV Standard Deviation: 0.06285\n",
      "\n",
      "---------------------------------------------------------------------\n",
      "KNeighbors Classifier\n",
      "---------------------------------------------------------------------\n",
      "For Metric: f1\n",
      "Cross Validation scores on training data:\n",
      "CV Mean: 0.91867 CV Standard Deviation: 0.03862\n",
      "\n",
      "---------------------------------------------------------------------\n",
      "KNeighbors Classifier\n",
      "---------------------------------------------------------------------\n",
      "For Metric: average_precision\n",
      "Cross Validation scores on training data:\n",
      "CV Mean: 0.94677 CV Standard Deviation: 0.04262\n",
      "\n"
     ]
    },
    {
     "name": "stderr",
     "output_type": "stream",
     "text": [
      "[Parallel(n_jobs=2)]: Using backend LokyBackend with 2 concurrent workers.\n",
      "[Parallel(n_jobs=2)]: Done   5 out of   5 | elapsed:    0.0s finished\n",
      "[Parallel(n_jobs=2)]: Using backend LokyBackend with 2 concurrent workers.\n",
      "[Parallel(n_jobs=2)]: Done   5 out of   5 | elapsed:    0.0s finished\n",
      "[Parallel(n_jobs=2)]: Using backend LokyBackend with 2 concurrent workers.\n",
      "[Parallel(n_jobs=2)]: Done   5 out of   5 | elapsed:    0.0s finished\n",
      "[Parallel(n_jobs=2)]: Using backend LokyBackend with 2 concurrent workers.\n",
      "[Parallel(n_jobs=2)]: Done   5 out of   5 | elapsed:    0.0s finished\n",
      "[Parallel(n_jobs=2)]: Using backend LokyBackend with 2 concurrent workers.\n",
      "[Parallel(n_jobs=2)]: Done   5 out of   5 | elapsed:    0.0s finished\n",
      "[Parallel(n_jobs=2)]: Using backend LokyBackend with 2 concurrent workers.\n",
      "[Parallel(n_jobs=2)]: Done   5 out of   5 | elapsed:    0.0s finished\n"
     ]
    },
    {
     "name": "stdout",
     "output_type": "stream",
     "text": [
      "---------------------------------------------------------------------\n",
      "KNeighbors Classifier\n",
      "---------------------------------------------------------------------\n",
      "For Metric: roc_auc\n",
      "Cross Validation scores on training data:\n",
      "CV Mean: 0.96517 CV Standard Deviation: 0.03297\n",
      "\n",
      "Average Precision-Recall score:0.99\n",
      "╒════════════════════════╤═══════════════════════╕\n",
      "│ Metric                 │   Testing Performance │\n",
      "╞════════════════════════╪═══════════════════════╡\n",
      "│ Accuracy               │             0.947368  │\n",
      "├────────────────────────┼───────────────────────┤\n",
      "│ Precision              │             0.921875  │\n",
      "├────────────────────────┼───────────────────────┤\n",
      "│ Recall                 │             0.936508  │\n",
      "├────────────────────────┼───────────────────────┤\n",
      "│ Misclassification rate │             0.0526316 │\n",
      "├────────────────────────┼───────────────────────┤\n",
      "│ F1                     │             0.929134  │\n",
      "├────────────────────────┼───────────────────────┤\n",
      "│ r2                     │             0.77381   │\n",
      "├────────────────────────┼───────────────────────┤\n",
      "│ AUC                    │             0.945106  │\n",
      "├────────────────────────┼───────────────────────┤\n",
      "│ MSE                    │             0.0526316 │\n",
      "├────────────────────────┼───────────────────────┤\n",
      "│ Logloss                │             1.81785   │\n",
      "╘════════════════════════╧═══════════════════════╛\n",
      "\n",
      "Classification report:\n",
      "               precision    recall  f1-score   support\n",
      "\n",
      "           0       0.96      0.95      0.96       108\n",
      "           1       0.92      0.94      0.93        63\n",
      "\n",
      "    accuracy                           0.95       171\n",
      "   macro avg       0.94      0.95      0.94       171\n",
      "weighted avg       0.95      0.95      0.95       171\n",
      "\n",
      "\n",
      "Correct classifications on test data: 162/171   94.737%\n"
     ]
    },
    {
     "data": {
      "image/png": "[encoded data removed]",
      "text/plain": [
       "<Figure size 432x288 with 2 Axes>"
      ]
     },
     "metadata": {
      "needs_background": "light"
     },
     "output_type": "display_data"
    },
    {
     "data": {
      "image/png": "[encoded data removed]",
      "text/plain": [
       "<Figure size 720x360 with 2 Axes>"
      ]
     },
     "metadata": {
      "needs_background": "light"
     },
     "output_type": "display_data"
    },
    {
     "name": "stdout",
     "output_type": "stream",
     "text": [
      "\n",
      "---------------------------------------------------------------------\n",
      "SVM Classifier\n",
      "---------------------------------------------------------------------\n",
      "For Metric: accuracy\n",
      "Cross Validation scores on training data:\n",
      "CV Mean: 0.94731 CV Standard Deviation: 0.03476\n",
      "\n",
      "---------------------------------------------------------------------\n",
      "SVM Classifier\n",
      "---------------------------------------------------------------------\n",
      "For Metric: precision\n",
      "Cross Validation scores on training data:\n",
      "CV Mean: 0.97111 CV Standard Deviation: 0.04309\n",
      "\n",
      "---------------------------------------------------------------------\n",
      "SVM Classifier\n",
      "---------------------------------------------------------------------\n",
      "For Metric: recall\n",
      "Cross Validation scores on training data:\n",
      "CV Mean: 0.88575 CV Standard Deviation: 0.06893\n",
      "\n"
     ]
    },
    {
     "name": "stderr",
     "output_type": "stream",
     "text": [
      "[Parallel(n_jobs=2)]: Using backend LokyBackend with 2 concurrent workers.\n",
      "[Parallel(n_jobs=2)]: Done   5 out of   5 | elapsed:    0.0s finished\n",
      "[Parallel(n_jobs=2)]: Using backend LokyBackend with 2 concurrent workers.\n",
      "[Parallel(n_jobs=2)]: Done   5 out of   5 | elapsed:    0.0s finished\n",
      "[Parallel(n_jobs=2)]: Using backend LokyBackend with 2 concurrent workers.\n",
      "[Parallel(n_jobs=2)]: Done   5 out of   5 | elapsed:    0.0s finished\n",
      "[Parallel(n_jobs=2)]: Using backend LokyBackend with 2 concurrent workers.\n",
      "[Parallel(n_jobs=2)]: Done   5 out of   5 | elapsed:    0.0s finished\n",
      "[Parallel(n_jobs=2)]: Using backend LokyBackend with 2 concurrent workers.\n",
      "[Parallel(n_jobs=2)]: Done   5 out of   5 | elapsed:    0.0s finished\n",
      "[Parallel(n_jobs=2)]: Using backend LokyBackend with 2 concurrent workers.\n",
      "[Parallel(n_jobs=2)]: Done   5 out of   5 | elapsed:    0.0s finished\n"
     ]
    },
    {
     "name": "stdout",
     "output_type": "stream",
     "text": [
      "---------------------------------------------------------------------\n",
      "SVM Classifier\n",
      "---------------------------------------------------------------------\n",
      "For Metric: f1\n",
      "Cross Validation scores on training data:\n",
      "CV Mean: 0.92537 CV Standard Deviation: 0.04946\n",
      "\n",
      "---------------------------------------------------------------------\n",
      "SVM Classifier\n",
      "---------------------------------------------------------------------\n",
      "For Metric: average_precision\n",
      "Cross Validation scores on training data:\n",
      "CV Mean: 0.97910 CV Standard Deviation: 0.02007\n",
      "\n",
      "---------------------------------------------------------------------\n",
      "SVM Classifier\n",
      "---------------------------------------------------------------------\n",
      "For Metric: roc_auc\n",
      "Cross Validation scores on training data:\n",
      "CV Mean: 0.98048 CV Standard Deviation: 0.02039\n",
      "\n",
      "Average Precision-Recall score:0.99\n",
      "╒════════════════════════╤═══════════════════════╕\n",
      "│ Metric                 │   Testing Performance │\n",
      "╞════════════════════════╪═══════════════════════╡\n",
      "│ Accuracy               │             0.953216  │\n",
      "├────────────────────────┼───────────────────────┤\n",
      "│ Precision              │             0.982456  │\n",
      "├────────────────────────┼───────────────────────┤\n",
      "│ Recall                 │             0.888889  │\n",
      "├────────────────────────┼───────────────────────┤\n",
      "│ Misclassification rate │             0.0467836 │\n",
      "├────────────────────────┼───────────────────────┤\n",
      "│ F1                     │             0.933333  │\n",
      "├────────────────────────┼───────────────────────┤\n",
      "│ r2                     │             0.798942  │\n",
      "├────────────────────────┼───────────────────────┤\n",
      "│ AUC                    │             0.939815  │\n",
      "├────────────────────────┼───────────────────────┤\n",
      "│ MSE                    │             0.0467836 │\n",
      "├────────────────────────┼───────────────────────┤\n",
      "│ Logloss                │             1.61585   │\n",
      "╘════════════════════════╧═══════════════════════╛\n",
      "\n",
      "Classification report:\n",
      "               precision    recall  f1-score   support\n",
      "\n",
      "           0       0.94      0.99      0.96       108\n",
      "           1       0.98      0.89      0.93        63\n",
      "\n",
      "    accuracy                           0.95       171\n",
      "   macro avg       0.96      0.94      0.95       171\n",
      "weighted avg       0.95      0.95      0.95       171\n",
      "\n",
      "\n",
      "Correct classifications on test data: 163/171   95.322%\n"
     ]
    },
    {
     "data": {
      "image/png": "[encoded data removed]",
      "text/plain": [
       "<Figure size 432x288 with 2 Axes>"
      ]
     },
     "metadata": {
      "needs_background": "light"
     },
     "output_type": "display_data"
    },
    {
     "data": {
      "image/png": "[encoded data removed]",
      "text/plain": [
       "<Figure size 720x360 with 2 Axes>"
      ]
     },
     "metadata": {
      "needs_background": "light"
     },
     "output_type": "display_data"
    },
    {
     "name": "stdout",
     "output_type": "stream",
     "text": [
      "\n"
     ]
    }
   ],
   "source": [
    "kfolds= 5\n",
    "param_comb = 5\n",
    "skf = StratifiedKFold(n_splits= kfolds, shuffle= True, random_state = 43)\n",
    "metrics=['accuracy','precision','recall', 'f1','average_precision', 'roc_auc']\n",
    "Training_Performance= pd.DataFrame(columns= ['Algorithm','Metric','Mean Cross-Validation', 'CV std']) \n",
    "Testing_Performance= pd.DataFrame(columns= ['Algorithm','Accuracy','AUC','Precision','Recall','F1'])\n",
    "for name, model in model_dict.items():\n",
    "    for m in metrics:\n",
    "        score= cross_val_score(model, x_train, y_train, scoring=m, cv=skf, verbose=1, n_jobs=2)\n",
    "        print(\"---------------------------------------------------------------------\") \n",
    "        print(name)\n",
    "        print(\"---------------------------------------------------------------------\")\n",
    "        print(\"For Metric: %s\" % (m))\n",
    "        print(\"Cross Validation scores on training data:\")\n",
    "        print ('CV Mean: %.5f CV Standard Deviation: %.5f'% (np.mean(np.abs(score)), np.std(score)))\n",
    "        print(\"\") \n",
    "         \n",
    "        Training_Performance= Training_Performance.append({'Algorithm' : name, 'Metric' : m, 'Mean Cross-Validation' : np.mean(np.abs(score)),'CV std' : np.std(score)},  \n",
    "                ignore_index = True) \n",
    "        \n",
    "    model.fit(x_train, y_train)\n",
    "    y_predicted_test= model.predict(x_test)\n",
    "    y_probabilities_test= model.predict_proba(x_test)\n",
    "    y_probabilities_success= y_probabilities_test[:, 1]\n",
    "\n",
    "    from sklearn.metrics import average_precision_score\n",
    "    average_precision= average_precision_score(y_test, y_probabilities_success)\n",
    "    print('Average Precision-Recall score:{0:0.2f}'.format(average_precision))\n",
    "\n",
    "    false_positive_rate, true_positive_rate, threshold= roc_curve(y_test, y_probabilities_success)\n",
    "\n",
    "    mse        = mean_squared_error(y_test, y_predicted_test)\n",
    "    logloss    = log_loss(y_test, y_predicted_test)\n",
    "    accuracy   = accuracy_score(y_test, y_predicted_test)\n",
    "    precision  = precision_score(y_test, y_predicted_test, average='binary')\n",
    "    recall     = recall_score(y_test, y_predicted_test, average='binary')\n",
    "    F1         = f1_score(y_test, y_predicted_test)\n",
    "    r2         = r2_score(y_test, y_predicted_test)\n",
    "    auc        = roc_auc_score(y_test, y_predicted_test)\n",
    "    cm         = confusion_matrix(y_test, y_predicted_test)\n",
    "    \n",
    "    Model_metrics(name)\n",
    "    Confusion_Matrix(model)\n",
    "    plot_roc_precision_recall_curve(name)\n",
    "    \n",
    "    print(\"\")"
   ]
  },
  {
   "cell_type": "code",
   "execution_count": 12,
   "id": "97106a29",
   "metadata": {},
   "outputs": [
    {
     "data": {
      "text/html": [
       "<div>\n",
       "<style scoped>\n",
       "    .dataframe tbody tr th:only-of-type {\n",
       "        vertical-align: middle;\n",
       "    }\n",
       "\n",
       "    .dataframe tbody tr th {\n",
       "        vertical-align: top;\n",
       "    }\n",
       "\n",
       "    .dataframe thead tr th {\n",
       "        text-align: left;\n",
       "    }\n",
       "\n",
       "    .dataframe thead tr:last-of-type th {\n",
       "        text-align: right;\n",
       "    }\n",
       "</style>\n",
       "<table border=\"1\" class=\"dataframe\">\n",
       "  <thead>\n",
       "    <tr>\n",
       "      <th></th>\n",
       "      <th colspan=\"6\" halign=\"left\">amin</th>\n",
       "    </tr>\n",
       "    <tr>\n",
       "      <th></th>\n",
       "      <th colspan=\"6\" halign=\"left\">Mean Cross-Validation</th>\n",
       "    </tr>\n",
       "    <tr>\n",
       "      <th>Metric</th>\n",
       "      <th>accuracy</th>\n",
       "      <th>average_precision</th>\n",
       "      <th>f1</th>\n",
       "      <th>precision</th>\n",
       "      <th>recall</th>\n",
       "      <th>roc_auc</th>\n",
       "    </tr>\n",
       "    <tr>\n",
       "      <th>Algorithm</th>\n",
       "      <th></th>\n",
       "      <th></th>\n",
       "      <th></th>\n",
       "      <th></th>\n",
       "      <th></th>\n",
       "      <th></th>\n",
       "    </tr>\n",
       "  </thead>\n",
       "  <tbody>\n",
       "    <tr>\n",
       "      <th>Extra Trees Classifier</th>\n",
       "      <td>0.947247</td>\n",
       "      <td>0.975141</td>\n",
       "      <td>0.930706</td>\n",
       "      <td>0.958342</td>\n",
       "      <td>0.912414</td>\n",
       "      <td>0.978147</td>\n",
       "    </tr>\n",
       "    <tr>\n",
       "      <th>Gradient Boosting Classifier</th>\n",
       "      <td>0.939778</td>\n",
       "      <td>0.970690</td>\n",
       "      <td>0.917389</td>\n",
       "      <td>0.944828</td>\n",
       "      <td>0.892414</td>\n",
       "      <td>0.974032</td>\n",
       "    </tr>\n",
       "    <tr>\n",
       "      <th>KNeighbors Classifier</th>\n",
       "      <td>0.942215</td>\n",
       "      <td>0.946770</td>\n",
       "      <td>0.918674</td>\n",
       "      <td>0.956816</td>\n",
       "      <td>0.885517</td>\n",
       "      <td>0.965167</td>\n",
       "    </tr>\n",
       "    <tr>\n",
       "      <th>Logistic Regression</th>\n",
       "      <td>0.947310</td>\n",
       "      <td>0.979515</td>\n",
       "      <td>0.926964</td>\n",
       "      <td>0.951167</td>\n",
       "      <td>0.905747</td>\n",
       "      <td>0.982606</td>\n",
       "    </tr>\n",
       "    <tr>\n",
       "      <th>Random Forest Classifier</th>\n",
       "      <td>0.944715</td>\n",
       "      <td>0.975915</td>\n",
       "      <td>0.919622</td>\n",
       "      <td>0.952614</td>\n",
       "      <td>0.912414</td>\n",
       "      <td>0.981390</td>\n",
       "    </tr>\n",
       "    <tr>\n",
       "      <th>SVM Classifier</th>\n",
       "      <td>0.947310</td>\n",
       "      <td>0.979099</td>\n",
       "      <td>0.925368</td>\n",
       "      <td>0.971111</td>\n",
       "      <td>0.885747</td>\n",
       "      <td>0.980478</td>\n",
       "    </tr>\n",
       "    <tr>\n",
       "      <th>XGB Classifier</th>\n",
       "      <td>0.939715</td>\n",
       "      <td>0.973218</td>\n",
       "      <td>0.917174</td>\n",
       "      <td>0.931937</td>\n",
       "      <td>0.905747</td>\n",
       "      <td>0.972452</td>\n",
       "    </tr>\n",
       "  </tbody>\n",
       "</table>\n",
       "</div>"
      ],
      "text/plain": [
       "                                              amin                    \\\n",
       "                             Mean Cross-Validation                     \n",
       "Metric                                    accuracy average_precision   \n",
       "Algorithm                                                              \n",
       "Extra Trees Classifier                    0.947247          0.975141   \n",
       "Gradient Boosting Classifier              0.939778          0.970690   \n",
       "KNeighbors Classifier                     0.942215          0.946770   \n",
       "Logistic Regression                       0.947310          0.979515   \n",
       "Random Forest Classifier                  0.944715          0.975915   \n",
       "SVM Classifier                            0.947310          0.979099   \n",
       "XGB Classifier                            0.939715          0.973218   \n",
       "\n",
       "                                                                      \n",
       "                                                                      \n",
       "Metric                              f1 precision    recall   roc_auc  \n",
       "Algorithm                                                             \n",
       "Extra Trees Classifier        0.930706  0.958342  0.912414  0.978147  \n",
       "Gradient Boosting Classifier  0.917389  0.944828  0.892414  0.974032  \n",
       "KNeighbors Classifier         0.918674  0.956816  0.885517  0.965167  \n",
       "Logistic Regression           0.926964  0.951167  0.905747  0.982606  \n",
       "Random Forest Classifier      0.919622  0.952614  0.912414  0.981390  \n",
       "SVM Classifier                0.925368  0.971111  0.885747  0.980478  \n",
       "XGB Classifier                0.917174  0.931937  0.905747  0.972452  "
      ]
     },
     "execution_count": 12,
     "metadata": {},
     "output_type": "execute_result"
    }
   ],
   "source": [
    "Training_PerformancePivot= pd.pivot_table(Training_Performance,index=[\"Algorithm\"],values=[\"Mean Cross-Validation\"],columns=[\"Metric\"], aggfunc=[np.min])\n",
    "Training_PerformancePivot"
   ]
  },
  {
   "cell_type": "code",
   "execution_count": 13,
   "id": "044594ab",
   "metadata": {},
   "outputs": [
    {
     "data": {
      "text/html": [
       "<div>\n",
       "<style scoped>\n",
       "    .dataframe tbody tr th:only-of-type {\n",
       "        vertical-align: middle;\n",
       "    }\n",
       "\n",
       "    .dataframe tbody tr th {\n",
       "        vertical-align: top;\n",
       "    }\n",
       "\n",
       "    .dataframe thead th {\n",
       "        text-align: right;\n",
       "    }\n",
       "</style>\n",
       "<table border=\"1\" class=\"dataframe\">\n",
       "  <thead>\n",
       "    <tr style=\"text-align: right;\">\n",
       "      <th></th>\n",
       "      <th>Algorithm</th>\n",
       "      <th>Accuracy</th>\n",
       "      <th>AUC</th>\n",
       "      <th>Precision</th>\n",
       "      <th>Recall</th>\n",
       "      <th>F1</th>\n",
       "    </tr>\n",
       "  </thead>\n",
       "  <tbody>\n",
       "    <tr>\n",
       "      <th>3</th>\n",
       "      <td>Extra Trees Classifier</td>\n",
       "      <td>0.970760</td>\n",
       "      <td>0.966931</td>\n",
       "      <td>0.967742</td>\n",
       "      <td>0.952381</td>\n",
       "      <td>0.960000</td>\n",
       "    </tr>\n",
       "    <tr>\n",
       "      <th>2</th>\n",
       "      <td>Gradient Boosting Classifier</td>\n",
       "      <td>0.953216</td>\n",
       "      <td>0.946429</td>\n",
       "      <td>0.950820</td>\n",
       "      <td>0.920635</td>\n",
       "      <td>0.935484</td>\n",
       "    </tr>\n",
       "    <tr>\n",
       "      <th>5</th>\n",
       "      <td>KNeighbors Classifier</td>\n",
       "      <td>0.947368</td>\n",
       "      <td>0.945106</td>\n",
       "      <td>0.921875</td>\n",
       "      <td>0.936508</td>\n",
       "      <td>0.929134</td>\n",
       "    </tr>\n",
       "    <tr>\n",
       "      <th>0</th>\n",
       "      <td>Logistic Regression</td>\n",
       "      <td>0.964912</td>\n",
       "      <td>0.958995</td>\n",
       "      <td>0.967213</td>\n",
       "      <td>0.936508</td>\n",
       "      <td>0.951613</td>\n",
       "    </tr>\n",
       "    <tr>\n",
       "      <th>1</th>\n",
       "      <td>Random Forest Classifier</td>\n",
       "      <td>0.964912</td>\n",
       "      <td>0.958995</td>\n",
       "      <td>0.967213</td>\n",
       "      <td>0.936508</td>\n",
       "      <td>0.951613</td>\n",
       "    </tr>\n",
       "    <tr>\n",
       "      <th>6</th>\n",
       "      <td>SVM Classifier</td>\n",
       "      <td>0.953216</td>\n",
       "      <td>0.939815</td>\n",
       "      <td>0.982456</td>\n",
       "      <td>0.888889</td>\n",
       "      <td>0.933333</td>\n",
       "    </tr>\n",
       "    <tr>\n",
       "      <th>4</th>\n",
       "      <td>XGB Classifier</td>\n",
       "      <td>0.953216</td>\n",
       "      <td>0.946429</td>\n",
       "      <td>0.950820</td>\n",
       "      <td>0.920635</td>\n",
       "      <td>0.935484</td>\n",
       "    </tr>\n",
       "  </tbody>\n",
       "</table>\n",
       "</div>"
      ],
      "text/plain": [
       "                      Algorithm  Accuracy       AUC  Precision    Recall  \\\n",
       "3        Extra Trees Classifier  0.970760  0.966931   0.967742  0.952381   \n",
       "2  Gradient Boosting Classifier  0.953216  0.946429   0.950820  0.920635   \n",
       "5         KNeighbors Classifier  0.947368  0.945106   0.921875  0.936508   \n",
       "0           Logistic Regression  0.964912  0.958995   0.967213  0.936508   \n",
       "1      Random Forest Classifier  0.964912  0.958995   0.967213  0.936508   \n",
       "6                SVM Classifier  0.953216  0.939815   0.982456  0.888889   \n",
       "4                XGB Classifier  0.953216  0.946429   0.950820  0.920635   \n",
       "\n",
       "         F1  \n",
       "3  0.960000  \n",
       "2  0.935484  \n",
       "5  0.929134  \n",
       "0  0.951613  \n",
       "1  0.951613  \n",
       "6  0.933333  \n",
       "4  0.935484  "
      ]
     },
     "execution_count": 13,
     "metadata": {},
     "output_type": "execute_result"
    }
   ],
   "source": [
    "Testing_Performance.sort_values(by=['Algorithm'])"
   ]
  },
  {
   "cell_type": "code",
   "execution_count": null,
   "id": "6b10131e",
   "metadata": {},
   "outputs": [],
   "source": []
  }
 ],
 "metadata": {
  "kernelspec": {
   "display_name": "Python 3",
   "language": "python",
   "name": "python3"
  },
  "language_info": {
   "codemirror_mode": {
    "name": "ipython",
    "version": 3
   },
   "file_extension": ".py",
   "mimetype": "text/x-python",
   "name": "python",
   "nbconvert_exporter": "python",
   "pygments_lexer": "ipython3",
   "version": "3.8.8"
  }
 },
 "nbformat": 4,
 "nbformat_minor": 5
}
