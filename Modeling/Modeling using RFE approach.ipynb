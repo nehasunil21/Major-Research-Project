{
 "cells": [
  {
   "cell_type": "code",
   "execution_count": 1,
   "id": "afbc1679",
   "metadata": {},
   "outputs": [],
   "source": [
    "import numpy as np\n",
    "import pandas as pd\n",
    "import matplotlib.pyplot as plt\n",
    "import seaborn as sns\n",
    "from sklearn.preprocessing import LabelEncoder\n",
    "\n",
    "from sklearn import datasets\n",
    "from sklearn.metrics import accuracy_score\n",
    "from sklearn.linear_model import LogisticRegression\n",
    "from sklearn.ensemble import RandomForestClassifier\n",
    "from sklearn.neighbors import KNeighborsClassifier\n",
    "from sklearn.svm import SVC\n",
    "\n",
    "from sklearn.model_selection import train_test_split\n",
    "from sklearn.model_selection import StratifiedKFold\n",
    "from sklearn.model_selection import cross_val_score\n",
    "from tabulate import tabulate\n",
    "import itertools\n",
    "from sklearn import metrics\n",
    "from sklearn.metrics import roc_auc_score, roc_curve, classification_report\n",
    "from sklearn.metrics import confusion_matrix, accuracy_score, mean_squared_error\n",
    "from sklearn.metrics import f1_score, precision_score, recall_score, log_loss, r2_score\n",
    "from sklearn.metrics import precision_recall_curve\n",
    "from sklearn.svm import SVC\n",
    "\n",
    "from sklearn.preprocessing import StandardScaler\n",
    "\n",
    "\n",
    "import warnings\n",
    "warnings.simplefilter('ignore')"
   ]
  },
  {
   "cell_type": "code",
   "execution_count": 2,
   "id": "8a620161",
   "metadata": {},
   "outputs": [],
   "source": [
    "breast_cancer_data= pd.read_csv(\"data.csv\")\n",
    "drop_list= ['Unnamed: 32','id']\n",
    "breast_cancer_data.drop(drop_list, axis=1, inplace= True)\n",
    "x_drop= ['diagnosis']\n",
    "x= breast_cancer_data.drop(x_drop,axis=1)\n",
    "y= breast_cancer_data.diagnosis\n",
    "y= y.replace(\"B\", 0)\n",
    "y= y.replace(\"M\", 1)"
   ]
  },
  {
   "cell_type": "code",
   "execution_count": 3,
   "id": "aa833911",
   "metadata": {},
   "outputs": [],
   "source": [
    "x_train, x_test, y_train, y_test= train_test_split(x,y,test_size=0.3,random_state=42 )"
   ]
  },
  {
   "cell_type": "code",
   "execution_count": 4,
   "id": "e9d7c222",
   "metadata": {},
   "outputs": [],
   "source": [
    "model_dict= {}\n",
    "\n",
    "# Logistic Regression\n",
    "clf = LogisticRegression()\n",
    "model_dict['Logistic Regression'] = clf\n",
    "\n",
    "# Random Forest Classifier\n",
    "clf = RandomForestClassifier()\n",
    "model_dict['Random Forest Classifier'] = clf\n",
    "\n",
    "# Gradient Boosting Classifier\n",
    "from sklearn.ensemble import GradientBoostingClassifier\n",
    "clf = GradientBoostingClassifier()\n",
    "model_dict['Gradient Boosting Classifier'] = clf\n",
    "\n",
    "# Extra Trees Classifier\n",
    "from sklearn.ensemble import ExtraTreesClassifier\n",
    "clf = ExtraTreesClassifier()\n",
    "model_dict['Extra Trees Classifier'] = clf\n",
    "\n",
    "# XGB Classifier\n",
    "from xgboost import XGBClassifier\n",
    "clf = XGBClassifier()\n",
    "model_dict['XGB Classifier'] = clf\n",
    "\n",
    "# K Nearest Neighbor\n",
    "clf = KNeighborsClassifier()\n",
    "model_dict['KNeighbors Classifier'] = clf\n",
    "\n",
    "# Support Vector Machine\n",
    "from sklearn.svm import SVC\n",
    "clf = SVC(kernel='rbf',probability=True)   \n",
    "model_dict['SVM Classifier'] = clf"
   ]
  },
  {
   "cell_type": "code",
   "execution_count": 5,
   "id": "66de4c55",
   "metadata": {},
   "outputs": [],
   "source": [
    "#Correlation features\n",
    "corr_features=['radius_mean','texture_mean','perimeter_mean','area_mean','perimeter_se','area_se','radius_worst','texture_worst','perimeter_worst','area_worst']\n",
    "\n",
    "#Chi-Square features\n",
    "chi_sq_features= ['area_worst','area_mean','area_se','perimeter_worst','perimeter_mean','radius_worst','radius_mean','perimeter_se','texture_worst','texture_mean']\n",
    "\n",
    "# RFE features\n",
    "rfe_features= ['area_worst','area_mean','area_se','perimeter_worst','perimeter_mean','radius_worst','texture_worst','texture_mean','concavity_worst','concavity_mean','compactness_worst','concave points_worst','concave points_mean','compactness_mean','symmetry_worst','smoothness_worst']\n",
    "\n",
    "#RFECV features\n",
    "rfecv_features= ['area_worst','area_mean','area_se','perimeter_worst','perimeter_mean','radius_worst','radius_mean','perimeter_se','texture_worst','texture_mean','concavity_worst','radius_se','concavity_mean','compactness_worst','concave points_worst','concave points_mean','compactness_mean','symmetry_worst','smoothness_worst','fractal_dimension_worst','fractal_dimension_se']\n",
    "\n",
    "#ExtraTrees features\n",
    "extra_trees_features= ['area_worst','area_mean','perimeter_worst','perimeter_mean','radius_worst','radius_mean','concavity_worst','concavity_mean','concave points_worst','concave points_mean']\n",
    "\n",
    "#Vote based features\n",
    "voted_features= ['area_worst','area_mean','area_se','perimeter_worst','perimeter_mean','radius_worst','radius_mean','perimeter_se','texture_worst','texture_mean','concavity_worst','concavity_mean','compactness_worst','concave points_worst','concave points_mean','compactness_mean','symmetry_worst','smoothness_worst']"
   ]
  },
  {
   "cell_type": "code",
   "execution_count": 6,
   "id": "65f11d88",
   "metadata": {},
   "outputs": [],
   "source": [
    "# RFE\n",
    "x_train = x_train[rfe_features]\n",
    "x_test = x_test[rfe_features]"
   ]
  },
  {
   "cell_type": "code",
   "execution_count": 7,
   "id": "d9f663e3",
   "metadata": {},
   "outputs": [],
   "source": [
    "scale = StandardScaler()\n",
    "x_train = scale.fit_transform(x_train)\n",
    "x_test = scale.fit_transform(x_test)"
   ]
  },
  {
   "cell_type": "code",
   "execution_count": 8,
   "id": "2f8825f8",
   "metadata": {},
   "outputs": [],
   "source": [
    "def Model_metrics(name):\n",
    "    global Testing_Performance\n",
    "    true_negative  = cm[0, 0]\n",
    "    true_positive  = cm[1, 1]\n",
    "    false_negative = cm[1, 0]\n",
    "    false_positive = cm[0, 1]\n",
    "    total = true_negative + true_positive + false_negative + false_positive\n",
    "\n",
    "    accuracy_ = (true_positive + true_negative)/total\n",
    "    precision_ = (true_positive)/(true_positive + false_positive)\n",
    "    recall_ = (true_positive)/(true_positive + false_negative)\n",
    "    misclassification_rate = (false_positive + false_negative)/total\n",
    "    F1_ = (2*true_positive)/(2*true_positive + false_positive + false_negative)\n",
    "    assert accuracy == accuracy_, \"accuracy score does not agree\"\n",
    "    assert precision == precision_, \"precision score does not agree\"\n",
    "    assert recall == recall_, \"recall score does not agree\"\n",
    "    assert round(F1,6) == round(F1_,6), \"F1: \" + str(F1) + \" != F1_: \" + str(F1_)\n",
    "\n",
    "    header = [\"Metric\", \"Testing Performance\"]\n",
    "    table = [[\"Accuracy\",               accuracy],\n",
    "             [\"Precision\",              precision],\n",
    "             [\"Recall\",                 recall],\n",
    "             [\"Misclassification rate\", misclassification_rate],\n",
    "             [\"F1\",                     F1],\n",
    "             [\"r2\",                     r2],\n",
    "             [\"AUC\",                    auc],\n",
    "             [\"MSE\",                    mse],\n",
    "             [\"Logloss\",                logloss]\n",
    "            ]\n",
    "\n",
    "    print(tabulate(table, header, tablefmt=\"fancy_grid\"))\n",
    "    Testing_Performance = Testing_Performance.append({'Algorithm' : name,'Accuracy' : accuracy,'AUC' : auc,'Precision' : precision,'Recall' : recall,'F1' : F1},ignore_index = True)"
   ]
  },
  {
   "cell_type": "code",
   "execution_count": 9,
   "id": "77ee487c",
   "metadata": {},
   "outputs": [],
   "source": [
    "def Confusion_Matrix(best_model):\n",
    "    cmap= plt.cm.Oranges\n",
    "    plt.imshow(cm, interpolation='nearest', cmap=cmap)\n",
    "    classes = [0, 1]\n",
    "    plt.title('Confusion matrix (on test data)')\n",
    "    plt.colorbar()\n",
    "    tick_marks = np.arange(len(classes))\n",
    "    plt.xticks(tick_marks, classes, rotation=0)\n",
    "    plt.yticks(tick_marks, classes)\n",
    "\n",
    "    thresh = cm.max() / 2.\n",
    "    for i, j in itertools.product(range(cm.shape[0]), range(cm.shape[1])):\n",
    "        plt.text(j, i, cm[i, j],\n",
    "                 horizontalalignment=\"center\",\n",
    "                 color=\"white\" if cm[i, j] > thresh else \"black\")\n",
    "\n",
    "    plt.tight_layout()\n",
    "    plt.ylabel('True label')\n",
    "    plt.xlabel('Predicted label')\n",
    "\n",
    "    c_report = classification_report(y_test, y_predicted_test)\n",
    "    print('\\nClassification report:\\n', c_report)\n",
    "\n",
    "    ntotal = len(y_test)\n",
    "    correct = y_test == y_predicted_test\n",
    "    numCorrect = sum(correct)\n",
    "    percent = round((numCorrect*100.0)/ntotal, 6)\n",
    "    print(\"\\nCorrect classifications on test data: {0:d}/{1:d} {2:8.3f}%\".format(numCorrect, ntotal, percent))\n",
    "    prediction_score= (best_model.score(x_test, y_test))*100.0\n",
    "    assert (round(percent,3) == round(prediction_score, 3)), \"prediction score does not agree\""
   ]
  },
  {
   "cell_type": "code",
   "execution_count": 10,
   "id": "6c8c91c4",
   "metadata": {},
   "outputs": [],
   "source": [
    "def plot_roc_precision_recall_curve(label):\n",
    "    class_names = [0, 1]\n",
    "    fig, (left, right) = plt.subplots(nrows=1, ncols=2, figsize=(10,5))\n",
    "\n",
    "    plt.subplot(1, 2, 1)\n",
    "    plt.plot([0, 1], [0, 1], 'k--')\n",
    "    plt.plot(false_positive_rate, true_positive_rate, color='darkorange', label=label)\n",
    "    #x label\n",
    "    plt.xlabel('False positive rate')\n",
    "    #y label\n",
    "    plt.ylabel('True positive rate')\n",
    "    plt.title('ROC curve (area = %0.7f)' % auc)\n",
    "    plt.legend(loc='best')\n",
    "\n",
    "    plt.subplot(1, 2, 2)\n",
    "    precision, recall, _ = precision_recall_curve(y_test, y_probabilities_success)\n",
    "\n",
    "    plt.step(recall, precision, color='r', alpha=0.2, where='post')\n",
    "    plt.fill_between(recall, precision, step='post', alpha=0.2, color='r')\n",
    "\n",
    "    plt.xlabel('Recall')\n",
    "    plt.ylabel('Precision')\n",
    "    plt.ylim([0.0, 1.05])\n",
    "    plt.xlim([0.0, 1.0])\n",
    "    plt.title('Precision-Recall curve: AP={0:0.2f}'.format(average_precision))\n",
    "\n",
    "    plt.tight_layout()\n",
    "    plt.show()"
   ]
  },
  {
   "cell_type": "code",
   "execution_count": 11,
   "id": "2ea815d1",
   "metadata": {},
   "outputs": [
    {
     "name": "stderr",
     "output_type": "stream",
     "text": [
      "[Parallel(n_jobs=2)]: Using backend LokyBackend with 2 concurrent workers.\n",
      "[Parallel(n_jobs=2)]: Done   5 out of   5 | elapsed:    3.2s finished\n",
      "[Parallel(n_jobs=2)]: Using backend LokyBackend with 2 concurrent workers.\n",
      "[Parallel(n_jobs=2)]: Done   5 out of   5 | elapsed:    0.0s finished\n",
      "[Parallel(n_jobs=2)]: Using backend LokyBackend with 2 concurrent workers.\n",
      "[Parallel(n_jobs=2)]: Done   5 out of   5 | elapsed:    0.0s finished\n",
      "[Parallel(n_jobs=2)]: Using backend LokyBackend with 2 concurrent workers.\n",
      "[Parallel(n_jobs=2)]: Done   5 out of   5 | elapsed:    0.0s finished\n",
      "[Parallel(n_jobs=2)]: Using backend LokyBackend with 2 concurrent workers.\n",
      "[Parallel(n_jobs=2)]: Done   5 out of   5 | elapsed:    0.0s finished\n"
     ]
    },
    {
     "name": "stdout",
     "output_type": "stream",
     "text": [
      "---------------------------------------------------------------------\n",
      "Logistic Regression\n",
      "---------------------------------------------------------------------\n",
      "For Metric: accuracy\n",
      "Cross Validation scores on training data:\n",
      "CV Mean: 0.97487 CV Standard Deviation: 0.02250\n",
      "\n",
      "---------------------------------------------------------------------\n",
      "Logistic Regression\n",
      "---------------------------------------------------------------------\n",
      "For Metric: precision\n",
      "Cross Validation scores on training data:\n",
      "CV Mean: 0.98009 CV Standard Deviation: 0.02568\n",
      "\n",
      "---------------------------------------------------------------------\n",
      "Logistic Regression\n",
      "---------------------------------------------------------------------\n",
      "For Metric: recall\n",
      "Cross Validation scores on training data:\n",
      "CV Mean: 0.95264 CV Standard Deviation: 0.05876\n",
      "\n",
      "---------------------------------------------------------------------\n",
      "Logistic Regression\n",
      "---------------------------------------------------------------------\n",
      "For Metric: f1\n",
      "Cross Validation scores on training data:\n",
      "CV Mean: 0.96498 CV Standard Deviation: 0.03197\n",
      "\n"
     ]
    },
    {
     "name": "stderr",
     "output_type": "stream",
     "text": [
      "[Parallel(n_jobs=2)]: Using backend LokyBackend with 2 concurrent workers.\n",
      "[Parallel(n_jobs=2)]: Done   5 out of   5 | elapsed:    0.0s finished\n"
     ]
    },
    {
     "name": "stdout",
     "output_type": "stream",
     "text": [
      "---------------------------------------------------------------------\n",
      "Logistic Regression\n",
      "---------------------------------------------------------------------\n",
      "For Metric: average_precision\n",
      "Cross Validation scores on training data:\n",
      "CV Mean: 0.98931 CV Standard Deviation: 0.01487\n",
      "\n",
      "---------------------------------------------------------------------\n",
      "Logistic Regression\n",
      "---------------------------------------------------------------------\n",
      "For Metric: roc_auc\n",
      "Cross Validation scores on training data:\n",
      "CV Mean: 0.98986 CV Standard Deviation: 0.01568\n",
      "\n",
      "Average Precision-Recall score:1.00\n",
      "╒════════════════════════╤═══════════════════════╕\n",
      "│ Metric                 │   Testing Performance │\n",
      "╞════════════════════════╪═══════════════════════╡\n",
      "│ Accuracy               │             0.982456  │\n",
      "├────────────────────────┼───────────────────────┤\n",
      "│ Precision              │             1         │\n",
      "├────────────────────────┼───────────────────────┤\n",
      "│ Recall                 │             0.952381  │\n",
      "├────────────────────────┼───────────────────────┤\n",
      "│ Misclassification rate │             0.0175439 │\n",
      "├────────────────────────┼───────────────────────┤\n",
      "│ F1                     │             0.97561   │\n",
      "├────────────────────────┼───────────────────────┤\n",
      "│ r2                     │             0.924603  │\n",
      "├────────────────────────┼───────────────────────┤\n",
      "│ AUC                    │             0.97619   │\n",
      "├────────────────────────┼───────────────────────┤\n",
      "│ MSE                    │             0.0175439 │\n",
      "├────────────────────────┼───────────────────────┤\n",
      "│ Logloss                │             0.605943  │\n",
      "╘════════════════════════╧═══════════════════════╛\n",
      "\n",
      "Classification report:\n",
      "               precision    recall  f1-score   support\n",
      "\n",
      "           0       0.97      1.00      0.99       108\n",
      "           1       1.00      0.95      0.98        63\n",
      "\n",
      "    accuracy                           0.98       171\n",
      "   macro avg       0.99      0.98      0.98       171\n",
      "weighted avg       0.98      0.98      0.98       171\n",
      "\n",
      "\n",
      "Correct classifications on test data: 168/171   98.246%\n"
     ]
    },
    {
     "data": {
      "image/png": "[encoded data removed]",
      "text/plain": [
       "<Figure size 432x288 with 2 Axes>"
      ]
     },
     "metadata": {
      "needs_background": "light"
     },
     "output_type": "display_data"
    },
    {
     "data": {
      "image/png": "[encoded data removed]",
      "text/plain": [
       "<Figure size 720x360 with 2 Axes>"
      ]
     },
     "metadata": {
      "needs_background": "light"
     },
     "output_type": "display_data"
    },
    {
     "name": "stdout",
     "output_type": "stream",
     "text": [
      "\n"
     ]
    },
    {
     "name": "stderr",
     "output_type": "stream",
     "text": [
      "[Parallel(n_jobs=2)]: Using backend LokyBackend with 2 concurrent workers.\n",
      "[Parallel(n_jobs=2)]: Done   5 out of   5 | elapsed:    0.9s finished\n",
      "[Parallel(n_jobs=2)]: Using backend LokyBackend with 2 concurrent workers.\n"
     ]
    },
    {
     "name": "stdout",
     "output_type": "stream",
     "text": [
      "---------------------------------------------------------------------\n",
      "Random Forest Classifier\n",
      "---------------------------------------------------------------------\n",
      "For Metric: accuracy\n",
      "Cross Validation scores on training data:\n",
      "CV Mean: 0.96228 CV Standard Deviation: 0.02379\n",
      "\n"
     ]
    },
    {
     "name": "stderr",
     "output_type": "stream",
     "text": [
      "[Parallel(n_jobs=2)]: Done   5 out of   5 | elapsed:    0.6s finished\n",
      "[Parallel(n_jobs=2)]: Using backend LokyBackend with 2 concurrent workers.\n"
     ]
    },
    {
     "name": "stdout",
     "output_type": "stream",
     "text": [
      "---------------------------------------------------------------------\n",
      "Random Forest Classifier\n",
      "---------------------------------------------------------------------\n",
      "For Metric: precision\n",
      "Cross Validation scores on training data:\n",
      "CV Mean: 0.95353 CV Standard Deviation: 0.04967\n",
      "\n"
     ]
    },
    {
     "name": "stderr",
     "output_type": "stream",
     "text": [
      "[Parallel(n_jobs=2)]: Done   5 out of   5 | elapsed:    0.6s finished\n",
      "[Parallel(n_jobs=2)]: Using backend LokyBackend with 2 concurrent workers.\n"
     ]
    },
    {
     "name": "stdout",
     "output_type": "stream",
     "text": [
      "---------------------------------------------------------------------\n",
      "Random Forest Classifier\n",
      "---------------------------------------------------------------------\n",
      "For Metric: recall\n",
      "Cross Validation scores on training data:\n",
      "CV Mean: 0.91908 CV Standard Deviation: 0.06264\n",
      "\n"
     ]
    },
    {
     "name": "stderr",
     "output_type": "stream",
     "text": [
      "[Parallel(n_jobs=2)]: Done   5 out of   5 | elapsed:    0.7s finished\n",
      "[Parallel(n_jobs=2)]: Using backend LokyBackend with 2 concurrent workers.\n"
     ]
    },
    {
     "name": "stdout",
     "output_type": "stream",
     "text": [
      "---------------------------------------------------------------------\n",
      "Random Forest Classifier\n",
      "---------------------------------------------------------------------\n",
      "For Metric: f1\n",
      "Cross Validation scores on training data:\n",
      "CV Mean: 0.93817 CV Standard Deviation: 0.05023\n",
      "\n"
     ]
    },
    {
     "name": "stderr",
     "output_type": "stream",
     "text": [
      "[Parallel(n_jobs=2)]: Done   5 out of   5 | elapsed:    0.6s finished\n",
      "[Parallel(n_jobs=2)]: Using backend LokyBackend with 2 concurrent workers.\n"
     ]
    },
    {
     "name": "stdout",
     "output_type": "stream",
     "text": [
      "---------------------------------------------------------------------\n",
      "Random Forest Classifier\n",
      "---------------------------------------------------------------------\n",
      "For Metric: average_precision\n",
      "Cross Validation scores on training data:\n",
      "CV Mean: 0.98267 CV Standard Deviation: 0.01886\n",
      "\n"
     ]
    },
    {
     "name": "stderr",
     "output_type": "stream",
     "text": [
      "[Parallel(n_jobs=2)]: Done   5 out of   5 | elapsed:    0.7s finished\n"
     ]
    },
    {
     "name": "stdout",
     "output_type": "stream",
     "text": [
      "---------------------------------------------------------------------\n",
      "Random Forest Classifier\n",
      "---------------------------------------------------------------------\n",
      "For Metric: roc_auc\n",
      "Cross Validation scores on training data:\n",
      "CV Mean: 0.98781 CV Standard Deviation: 0.01389\n",
      "\n",
      "Average Precision-Recall score:0.99\n",
      "╒════════════════════════╤═══════════════════════╕\n",
      "│ Metric                 │   Testing Performance │\n",
      "╞════════════════════════╪═══════════════════════╡\n",
      "│ Accuracy               │             0.97076   │\n",
      "├────────────────────────┼───────────────────────┤\n",
      "│ Precision              │             0.983333  │\n",
      "├────────────────────────┼───────────────────────┤\n",
      "│ Recall                 │             0.936508  │\n",
      "├────────────────────────┼───────────────────────┤\n",
      "│ Misclassification rate │             0.0292398 │\n",
      "├────────────────────────┼───────────────────────┤\n",
      "│ F1                     │             0.95935   │\n",
      "├────────────────────────┼───────────────────────┤\n",
      "│ r2                     │             0.874339  │\n",
      "├────────────────────────┼───────────────────────┤\n",
      "│ AUC                    │             0.963624  │\n",
      "├────────────────────────┼───────────────────────┤\n",
      "│ MSE                    │             0.0292398 │\n",
      "├────────────────────────┼───────────────────────┤\n",
      "│ Logloss                │             1.00991   │\n",
      "╘════════════════════════╧═══════════════════════╛\n",
      "\n",
      "Classification report:\n",
      "               precision    recall  f1-score   support\n",
      "\n",
      "           0       0.96      0.99      0.98       108\n",
      "           1       0.98      0.94      0.96        63\n",
      "\n",
      "    accuracy                           0.97       171\n",
      "   macro avg       0.97      0.96      0.97       171\n",
      "weighted avg       0.97      0.97      0.97       171\n",
      "\n",
      "\n",
      "Correct classifications on test data: 166/171   97.076%\n"
     ]
    },
    {
     "data": {
      "image/png": "[encoded data removed]",
      "text/plain": [
       "<Figure size 432x288 with 2 Axes>"
      ]
     },
     "metadata": {
      "needs_background": "light"
     },
     "output_type": "display_data"
    },
    {
     "data": {
      "image/png": "[encoded data removed]",
      "text/plain": [
       "<Figure size 720x360 with 2 Axes>"
      ]
     },
     "metadata": {
      "needs_background": "light"
     },
     "output_type": "display_data"
    },
    {
     "name": "stdout",
     "output_type": "stream",
     "text": [
      "\n"
     ]
    },
    {
     "name": "stderr",
     "output_type": "stream",
     "text": [
      "[Parallel(n_jobs=2)]: Using backend LokyBackend with 2 concurrent workers.\n",
      "[Parallel(n_jobs=2)]: Done   5 out of   5 | elapsed:    0.5s finished\n",
      "[Parallel(n_jobs=2)]: Using backend LokyBackend with 2 concurrent workers.\n"
     ]
    },
    {
     "name": "stdout",
     "output_type": "stream",
     "text": [
      "---------------------------------------------------------------------\n",
      "Gradient Boosting Classifier\n",
      "---------------------------------------------------------------------\n",
      "For Metric: accuracy\n",
      "Cross Validation scores on training data:\n",
      "CV Mean: 0.94225 CV Standard Deviation: 0.04224\n",
      "\n"
     ]
    },
    {
     "name": "stderr",
     "output_type": "stream",
     "text": [
      "[Parallel(n_jobs=2)]: Done   5 out of   5 | elapsed:    0.4s finished\n",
      "[Parallel(n_jobs=2)]: Using backend LokyBackend with 2 concurrent workers.\n"
     ]
    },
    {
     "name": "stdout",
     "output_type": "stream",
     "text": [
      "---------------------------------------------------------------------\n",
      "Gradient Boosting Classifier\n",
      "---------------------------------------------------------------------\n",
      "For Metric: precision\n",
      "Cross Validation scores on training data:\n",
      "CV Mean: 0.93884 CV Standard Deviation: 0.05949\n",
      "\n"
     ]
    },
    {
     "name": "stderr",
     "output_type": "stream",
     "text": [
      "[Parallel(n_jobs=2)]: Done   5 out of   5 | elapsed:    0.5s finished\n",
      "[Parallel(n_jobs=2)]: Using backend LokyBackend with 2 concurrent workers.\n"
     ]
    },
    {
     "name": "stdout",
     "output_type": "stream",
     "text": [
      "---------------------------------------------------------------------\n",
      "Gradient Boosting Classifier\n",
      "---------------------------------------------------------------------\n",
      "For Metric: recall\n",
      "Cross Validation scores on training data:\n",
      "CV Mean: 0.90575 CV Standard Deviation: 0.06855\n",
      "\n"
     ]
    },
    {
     "name": "stderr",
     "output_type": "stream",
     "text": [
      "[Parallel(n_jobs=2)]: Done   5 out of   5 | elapsed:    0.4s finished\n",
      "[Parallel(n_jobs=2)]: Using backend LokyBackend with 2 concurrent workers.\n"
     ]
    },
    {
     "name": "stdout",
     "output_type": "stream",
     "text": [
      "---------------------------------------------------------------------\n",
      "Gradient Boosting Classifier\n",
      "---------------------------------------------------------------------\n",
      "For Metric: f1\n",
      "Cross Validation scores on training data:\n",
      "CV Mean: 0.92112 CV Standard Deviation: 0.05733\n",
      "\n"
     ]
    },
    {
     "name": "stderr",
     "output_type": "stream",
     "text": [
      "[Parallel(n_jobs=2)]: Done   5 out of   5 | elapsed:    0.4s finished\n",
      "[Parallel(n_jobs=2)]: Using backend LokyBackend with 2 concurrent workers.\n"
     ]
    },
    {
     "name": "stdout",
     "output_type": "stream",
     "text": [
      "---------------------------------------------------------------------\n",
      "Gradient Boosting Classifier\n",
      "---------------------------------------------------------------------\n",
      "For Metric: average_precision\n",
      "Cross Validation scores on training data:\n",
      "CV Mean: 0.97955 CV Standard Deviation: 0.01989\n",
      "\n"
     ]
    },
    {
     "name": "stderr",
     "output_type": "stream",
     "text": [
      "[Parallel(n_jobs=2)]: Done   5 out of   5 | elapsed:    0.4s finished\n"
     ]
    },
    {
     "name": "stdout",
     "output_type": "stream",
     "text": [
      "---------------------------------------------------------------------\n",
      "Gradient Boosting Classifier\n",
      "---------------------------------------------------------------------\n",
      "For Metric: roc_auc\n",
      "Cross Validation scores on training data:\n",
      "CV Mean: 0.97925 CV Standard Deviation: 0.02631\n",
      "\n",
      "Average Precision-Recall score:0.99\n",
      "╒════════════════════════╤═══════════════════════╕\n",
      "│ Metric                 │   Testing Performance │\n",
      "╞════════════════════════╪═══════════════════════╡\n",
      "│ Accuracy               │             0.97076   │\n",
      "├────────────────────────┼───────────────────────┤\n",
      "│ Precision              │             0.983333  │\n",
      "├────────────────────────┼───────────────────────┤\n",
      "│ Recall                 │             0.936508  │\n",
      "├────────────────────────┼───────────────────────┤\n",
      "│ Misclassification rate │             0.0292398 │\n",
      "├────────────────────────┼───────────────────────┤\n",
      "│ F1                     │             0.95935   │\n",
      "├────────────────────────┼───────────────────────┤\n",
      "│ r2                     │             0.874339  │\n",
      "├────────────────────────┼───────────────────────┤\n",
      "│ AUC                    │             0.963624  │\n",
      "├────────────────────────┼───────────────────────┤\n",
      "│ MSE                    │             0.0292398 │\n",
      "├────────────────────────┼───────────────────────┤\n",
      "│ Logloss                │             1.00991   │\n",
      "╘════════════════════════╧═══════════════════════╛\n",
      "\n",
      "Classification report:\n",
      "               precision    recall  f1-score   support\n",
      "\n",
      "           0       0.96      0.99      0.98       108\n",
      "           1       0.98      0.94      0.96        63\n",
      "\n",
      "    accuracy                           0.97       171\n",
      "   macro avg       0.97      0.96      0.97       171\n",
      "weighted avg       0.97      0.97      0.97       171\n",
      "\n",
      "\n",
      "Correct classifications on test data: 166/171   97.076%\n"
     ]
    },
    {
     "data": {
      "image/png": "[encoded data removed]",
      "text/plain": [
       "<Figure size 432x288 with 2 Axes>"
      ]
     },
     "metadata": {
      "needs_background": "light"
     },
     "output_type": "display_data"
    },
    {
     "data": {
      "image/png": "[encoded data removed]",
      "text/plain": [
       "<Figure size 720x360 with 2 Axes>"
      ]
     },
     "metadata": {
      "needs_background": "light"
     },
     "output_type": "display_data"
    },
    {
     "name": "stdout",
     "output_type": "stream",
     "text": [
      "\n"
     ]
    },
    {
     "name": "stderr",
     "output_type": "stream",
     "text": [
      "[Parallel(n_jobs=2)]: Using backend LokyBackend with 2 concurrent workers.\n",
      "[Parallel(n_jobs=2)]: Done   5 out of   5 | elapsed:    0.4s finished\n",
      "[Parallel(n_jobs=2)]: Using backend LokyBackend with 2 concurrent workers.\n"
     ]
    },
    {
     "name": "stdout",
     "output_type": "stream",
     "text": [
      "---------------------------------------------------------------------\n",
      "Extra Trees Classifier\n",
      "---------------------------------------------------------------------\n",
      "For Metric: accuracy\n",
      "Cross Validation scores on training data:\n",
      "CV Mean: 0.95975 CV Standard Deviation: 0.02563\n",
      "\n"
     ]
    },
    {
     "name": "stderr",
     "output_type": "stream",
     "text": [
      "[Parallel(n_jobs=2)]: Done   5 out of   5 | elapsed:    0.5s finished\n",
      "[Parallel(n_jobs=2)]: Using backend LokyBackend with 2 concurrent workers.\n"
     ]
    },
    {
     "name": "stdout",
     "output_type": "stream",
     "text": [
      "---------------------------------------------------------------------\n",
      "Extra Trees Classifier\n",
      "---------------------------------------------------------------------\n",
      "For Metric: precision\n",
      "Cross Validation scores on training data:\n",
      "CV Mean: 0.97309 CV Standard Deviation: 0.02564\n",
      "\n"
     ]
    },
    {
     "name": "stderr",
     "output_type": "stream",
     "text": [
      "[Parallel(n_jobs=2)]: Done   5 out of   5 | elapsed:    0.4s finished\n",
      "[Parallel(n_jobs=2)]: Using backend LokyBackend with 2 concurrent workers.\n"
     ]
    },
    {
     "name": "stdout",
     "output_type": "stream",
     "text": [
      "---------------------------------------------------------------------\n",
      "Extra Trees Classifier\n",
      "---------------------------------------------------------------------\n",
      "For Metric: recall\n",
      "Cross Validation scores on training data:\n",
      "CV Mean: 0.93241 CV Standard Deviation: 0.07082\n",
      "\n"
     ]
    },
    {
     "name": "stderr",
     "output_type": "stream",
     "text": [
      "[Parallel(n_jobs=2)]: Done   5 out of   5 | elapsed:    0.5s finished\n",
      "[Parallel(n_jobs=2)]: Using backend LokyBackend with 2 concurrent workers.\n"
     ]
    },
    {
     "name": "stdout",
     "output_type": "stream",
     "text": [
      "---------------------------------------------------------------------\n",
      "Extra Trees Classifier\n",
      "---------------------------------------------------------------------\n",
      "For Metric: f1\n",
      "Cross Validation scores on training data:\n",
      "CV Mean: 0.95378 CV Standard Deviation: 0.04479\n",
      "\n"
     ]
    },
    {
     "name": "stderr",
     "output_type": "stream",
     "text": [
      "[Parallel(n_jobs=2)]: Done   5 out of   5 | elapsed:    0.4s finished\n",
      "[Parallel(n_jobs=2)]: Using backend LokyBackend with 2 concurrent workers.\n"
     ]
    },
    {
     "name": "stdout",
     "output_type": "stream",
     "text": [
      "---------------------------------------------------------------------\n",
      "Extra Trees Classifier\n",
      "---------------------------------------------------------------------\n",
      "For Metric: average_precision\n",
      "Cross Validation scores on training data:\n",
      "CV Mean: 0.98866 CV Standard Deviation: 0.01277\n",
      "\n"
     ]
    },
    {
     "name": "stderr",
     "output_type": "stream",
     "text": [
      "[Parallel(n_jobs=2)]: Done   5 out of   5 | elapsed:    0.4s finished\n"
     ]
    },
    {
     "name": "stdout",
     "output_type": "stream",
     "text": [
      "---------------------------------------------------------------------\n",
      "Extra Trees Classifier\n",
      "---------------------------------------------------------------------\n",
      "For Metric: roc_auc\n",
      "Cross Validation scores on training data:\n",
      "CV Mean: 0.98839 CV Standard Deviation: 0.01540\n",
      "\n",
      "Average Precision-Recall score:1.00\n",
      "╒════════════════════════╤═══════════════════════╕\n",
      "│ Metric                 │   Testing Performance │\n",
      "╞════════════════════════╪═══════════════════════╡\n",
      "│ Accuracy               │             0.976608  │\n",
      "├────────────────────────┼───────────────────────┤\n",
      "│ Precision              │             0.983607  │\n",
      "├────────────────────────┼───────────────────────┤\n",
      "│ Recall                 │             0.952381  │\n",
      "├────────────────────────┼───────────────────────┤\n",
      "│ Misclassification rate │             0.0233918 │\n",
      "├────────────────────────┼───────────────────────┤\n",
      "│ F1                     │             0.967742  │\n",
      "├────────────────────────┼───────────────────────┤\n",
      "│ r2                     │             0.899471  │\n",
      "├────────────────────────┼───────────────────────┤\n",
      "│ AUC                    │             0.971561  │\n",
      "├────────────────────────┼───────────────────────┤\n",
      "│ MSE                    │             0.0233918 │\n",
      "├────────────────────────┼───────────────────────┤\n",
      "│ Logloss                │             0.807929  │\n",
      "╘════════════════════════╧═══════════════════════╛\n",
      "\n",
      "Classification report:\n",
      "               precision    recall  f1-score   support\n",
      "\n",
      "           0       0.97      0.99      0.98       108\n",
      "           1       0.98      0.95      0.97        63\n",
      "\n",
      "    accuracy                           0.98       171\n",
      "   macro avg       0.98      0.97      0.97       171\n",
      "weighted avg       0.98      0.98      0.98       171\n",
      "\n",
      "\n",
      "Correct classifications on test data: 167/171   97.661%\n"
     ]
    },
    {
     "data": {
      "image/png": "[encoded data removed]",
      "text/plain": [
       "<Figure size 432x288 with 2 Axes>"
      ]
     },
     "metadata": {
      "needs_background": "light"
     },
     "output_type": "display_data"
    },
    {
     "data": {
      "image/png": "[encoded data removed]",
      "text/plain": [
       "<Figure size 720x360 with 2 Axes>"
      ]
     },
     "metadata": {
      "needs_background": "light"
     },
     "output_type": "display_data"
    },
    {
     "name": "stdout",
     "output_type": "stream",
     "text": [
      "\n"
     ]
    },
    {
     "name": "stderr",
     "output_type": "stream",
     "text": [
      "[Parallel(n_jobs=2)]: Using backend LokyBackend with 2 concurrent workers.\n",
      "[Parallel(n_jobs=2)]: Done   5 out of   5 | elapsed:    2.4s finished\n",
      "[Parallel(n_jobs=2)]: Using backend LokyBackend with 2 concurrent workers.\n"
     ]
    },
    {
     "name": "stdout",
     "output_type": "stream",
     "text": [
      "---------------------------------------------------------------------\n",
      "XGB Classifier\n",
      "---------------------------------------------------------------------\n",
      "For Metric: accuracy\n",
      "Cross Validation scores on training data:\n",
      "CV Mean: 0.94975 CV Standard Deviation: 0.03710\n",
      "\n"
     ]
    },
    {
     "name": "stderr",
     "output_type": "stream",
     "text": [
      "[Parallel(n_jobs=2)]: Done   5 out of   5 | elapsed:    0.1s finished\n",
      "[Parallel(n_jobs=2)]: Using backend LokyBackend with 2 concurrent workers.\n"
     ]
    },
    {
     "name": "stdout",
     "output_type": "stream",
     "text": [
      "---------------------------------------------------------------------\n",
      "XGB Classifier\n",
      "---------------------------------------------------------------------\n",
      "For Metric: precision\n",
      "Cross Validation scores on training data:\n",
      "CV Mean: 0.94133 CV Standard Deviation: 0.05337\n",
      "\n"
     ]
    },
    {
     "name": "stderr",
     "output_type": "stream",
     "text": [
      "[Parallel(n_jobs=2)]: Done   5 out of   5 | elapsed:    0.1s finished\n",
      "[Parallel(n_jobs=2)]: Using backend LokyBackend with 2 concurrent workers.\n"
     ]
    },
    {
     "name": "stdout",
     "output_type": "stream",
     "text": [
      "---------------------------------------------------------------------\n",
      "XGB Classifier\n",
      "---------------------------------------------------------------------\n",
      "For Metric: recall\n",
      "Cross Validation scores on training data:\n",
      "CV Mean: 0.92552 CV Standard Deviation: 0.07858\n",
      "\n"
     ]
    },
    {
     "name": "stderr",
     "output_type": "stream",
     "text": [
      "[Parallel(n_jobs=2)]: Done   5 out of   5 | elapsed:    0.1s finished\n",
      "[Parallel(n_jobs=2)]: Using backend LokyBackend with 2 concurrent workers.\n"
     ]
    },
    {
     "name": "stdout",
     "output_type": "stream",
     "text": [
      "---------------------------------------------------------------------\n",
      "XGB Classifier\n",
      "---------------------------------------------------------------------\n",
      "For Metric: f1\n",
      "Cross Validation scores on training data:\n",
      "CV Mean: 0.93126 CV Standard Deviation: 0.05144\n",
      "\n"
     ]
    },
    {
     "name": "stderr",
     "output_type": "stream",
     "text": [
      "[Parallel(n_jobs=2)]: Done   5 out of   5 | elapsed:    0.1s finished\n",
      "[Parallel(n_jobs=2)]: Using backend LokyBackend with 2 concurrent workers.\n"
     ]
    },
    {
     "name": "stdout",
     "output_type": "stream",
     "text": [
      "---------------------------------------------------------------------\n",
      "XGB Classifier\n",
      "---------------------------------------------------------------------\n",
      "For Metric: average_precision\n",
      "Cross Validation scores on training data:\n",
      "CV Mean: 0.98461 CV Standard Deviation: 0.01834\n",
      "\n"
     ]
    },
    {
     "name": "stderr",
     "output_type": "stream",
     "text": [
      "[Parallel(n_jobs=2)]: Done   5 out of   5 | elapsed:    0.1s finished\n"
     ]
    },
    {
     "name": "stdout",
     "output_type": "stream",
     "text": [
      "---------------------------------------------------------------------\n",
      "XGB Classifier\n",
      "---------------------------------------------------------------------\n",
      "For Metric: roc_auc\n",
      "Cross Validation scores on training data:\n",
      "CV Mean: 0.98552 CV Standard Deviation: 0.01977\n",
      "\n",
      "[19:30:59] WARNING: C:/Users/Administrator/workspace/xgboost-win64_release_1.5.1/src/learner.cc:1115: Starting in XGBoost 1.3.0, the default evaluation metric used with the objective 'binary:logistic' was changed from 'error' to 'logloss'. Explicitly set eval_metric if you'd like to restore the old behavior.\n",
      "Average Precision-Recall score:1.00\n",
      "╒════════════════════════╤═══════════════════════╕\n",
      "│ Metric                 │   Testing Performance │\n",
      "╞════════════════════════╪═══════════════════════╡\n",
      "│ Accuracy               │             0.976608  │\n",
      "├────────────────────────┼───────────────────────┤\n",
      "│ Precision              │             0.983607  │\n",
      "├────────────────────────┼───────────────────────┤\n",
      "│ Recall                 │             0.952381  │\n",
      "├────────────────────────┼───────────────────────┤\n",
      "│ Misclassification rate │             0.0233918 │\n",
      "├────────────────────────┼───────────────────────┤\n",
      "│ F1                     │             0.967742  │\n",
      "├────────────────────────┼───────────────────────┤\n",
      "│ r2                     │             0.899471  │\n",
      "├────────────────────────┼───────────────────────┤\n",
      "│ AUC                    │             0.971561  │\n",
      "├────────────────────────┼───────────────────────┤\n",
      "│ MSE                    │             0.0233918 │\n",
      "├────────────────────────┼───────────────────────┤\n",
      "│ Logloss                │             0.807929  │\n",
      "╘════════════════════════╧═══════════════════════╛\n",
      "\n",
      "Classification report:\n",
      "               precision    recall  f1-score   support\n",
      "\n",
      "           0       0.97      0.99      0.98       108\n",
      "           1       0.98      0.95      0.97        63\n",
      "\n",
      "    accuracy                           0.98       171\n",
      "   macro avg       0.98      0.97      0.97       171\n",
      "weighted avg       0.98      0.98      0.98       171\n",
      "\n",
      "\n",
      "Correct classifications on test data: 167/171   97.661%\n"
     ]
    },
    {
     "data": {
      "image/png": "[encoded data removed]",
      "text/plain": [
       "<Figure size 432x288 with 2 Axes>"
      ]
     },
     "metadata": {
      "needs_background": "light"
     },
     "output_type": "display_data"
    },
    {
     "data": {
      "image/png": "[encoded data removed]",
      "text/plain": [
       "<Figure size 720x360 with 2 Axes>"
      ]
     },
     "metadata": {
      "needs_background": "light"
     },
     "output_type": "display_data"
    },
    {
     "name": "stdout",
     "output_type": "stream",
     "text": [
      "\n"
     ]
    },
    {
     "name": "stderr",
     "output_type": "stream",
     "text": [
      "[Parallel(n_jobs=2)]: Using backend LokyBackend with 2 concurrent workers.\n",
      "[Parallel(n_jobs=2)]: Done   5 out of   5 | elapsed:    0.3s finished\n",
      "[Parallel(n_jobs=2)]: Using backend LokyBackend with 2 concurrent workers.\n",
      "[Parallel(n_jobs=2)]: Done   5 out of   5 | elapsed:    0.0s finished\n",
      "[Parallel(n_jobs=2)]: Using backend LokyBackend with 2 concurrent workers.\n",
      "[Parallel(n_jobs=2)]: Done   5 out of   5 | elapsed:    0.0s finished\n",
      "[Parallel(n_jobs=2)]: Using backend LokyBackend with 2 concurrent workers.\n",
      "[Parallel(n_jobs=2)]: Done   5 out of   5 | elapsed:    0.0s finished\n",
      "[Parallel(n_jobs=2)]: Using backend LokyBackend with 2 concurrent workers.\n",
      "[Parallel(n_jobs=2)]: Done   5 out of   5 | elapsed:    0.0s finished\n",
      "[Parallel(n_jobs=2)]: Using backend LokyBackend with 2 concurrent workers.\n",
      "[Parallel(n_jobs=2)]: Done   5 out of   5 | elapsed:    0.0s finished\n"
     ]
    },
    {
     "name": "stdout",
     "output_type": "stream",
     "text": [
      "---------------------------------------------------------------------\n",
      "KNeighbors Classifier\n",
      "---------------------------------------------------------------------\n",
      "For Metric: accuracy\n",
      "Cross Validation scores on training data:\n",
      "CV Mean: 0.96728 CV Standard Deviation: 0.02052\n",
      "\n",
      "---------------------------------------------------------------------\n",
      "KNeighbors Classifier\n",
      "---------------------------------------------------------------------\n",
      "For Metric: precision\n",
      "Cross Validation scores on training data:\n",
      "CV Mean: 0.96559 CV Standard Deviation: 0.00239\n",
      "\n",
      "---------------------------------------------------------------------\n",
      "KNeighbors Classifier\n",
      "---------------------------------------------------------------------\n",
      "For Metric: recall\n",
      "Cross Validation scores on training data:\n",
      "CV Mean: 0.94575 CV Standard Deviation: 0.05553\n",
      "\n",
      "---------------------------------------------------------------------\n",
      "KNeighbors Classifier\n",
      "---------------------------------------------------------------------\n",
      "For Metric: f1\n",
      "Cross Validation scores on training data:\n",
      "CV Mean: 0.95480 CV Standard Deviation: 0.02985\n",
      "\n",
      "---------------------------------------------------------------------\n",
      "KNeighbors Classifier\n",
      "---------------------------------------------------------------------\n",
      "For Metric: average_precision\n",
      "Cross Validation scores on training data:\n",
      "CV Mean: 0.97646 CV Standard Deviation: 0.02901\n",
      "\n",
      "---------------------------------------------------------------------\n",
      "KNeighbors Classifier\n",
      "---------------------------------------------------------------------\n",
      "For Metric: roc_auc\n",
      "Cross Validation scores on training data:\n",
      "CV Mean: 0.98157 CV Standard Deviation: 0.02467\n",
      "\n",
      "Average Precision-Recall score:0.98\n",
      "╒════════════════════════╤═══════════════════════╕\n",
      "│ Metric                 │   Testing Performance │\n",
      "╞════════════════════════╪═══════════════════════╡\n",
      "│ Accuracy               │             0.964912  │\n",
      "├────────────────────────┼───────────────────────┤\n",
      "│ Precision              │             0.967213  │\n",
      "├────────────────────────┼───────────────────────┤\n",
      "│ Recall                 │             0.936508  │\n",
      "├────────────────────────┼───────────────────────┤\n",
      "│ Misclassification rate │             0.0350877 │\n",
      "├────────────────────────┼───────────────────────┤\n",
      "│ F1                     │             0.951613  │\n",
      "├────────────────────────┼───────────────────────┤\n",
      "│ r2                     │             0.849206  │\n",
      "├────────────────────────┼───────────────────────┤\n",
      "│ AUC                    │             0.958995  │\n",
      "├────────────────────────┼───────────────────────┤\n",
      "│ MSE                    │             0.0350877 │\n",
      "├────────────────────────┼───────────────────────┤\n",
      "│ Logloss                │             1.2119    │\n",
      "╘════════════════════════╧═══════════════════════╛\n",
      "\n",
      "Classification report:\n",
      "               precision    recall  f1-score   support\n",
      "\n",
      "           0       0.96      0.98      0.97       108\n",
      "           1       0.97      0.94      0.95        63\n",
      "\n",
      "    accuracy                           0.96       171\n",
      "   macro avg       0.97      0.96      0.96       171\n",
      "weighted avg       0.96      0.96      0.96       171\n",
      "\n",
      "\n",
      "Correct classifications on test data: 165/171   96.491%\n"
     ]
    },
    {
     "data": {
      "image/png": "[encoded data removed]",
      "text/plain": [
       "<Figure size 432x288 with 2 Axes>"
      ]
     },
     "metadata": {
      "needs_background": "light"
     },
     "output_type": "display_data"
    },
    {
     "data": {
      "image/png": "[encoded data removed]",
      "text/plain": [
       "<Figure size 720x360 with 2 Axes>"
      ]
     },
     "metadata": {
      "needs_background": "light"
     },
     "output_type": "display_data"
    },
    {
     "name": "stdout",
     "output_type": "stream",
     "text": [
      "\n",
      "---------------------------------------------------------------------\n",
      "SVM Classifier\n",
      "---------------------------------------------------------------------\n",
      "For Metric: accuracy\n",
      "Cross Validation scores on training data:\n",
      "CV Mean: 0.97484 CV Standard Deviation: 0.02397\n",
      "\n",
      "---------------------------------------------------------------------\n",
      "SVM Classifier\n",
      "---------------------------------------------------------------------\n",
      "For Metric: precision\n",
      "Cross Validation scores on training data:\n",
      "CV Mean: 0.97981 CV Standard Deviation: 0.02587\n",
      "\n",
      "---------------------------------------------------------------------\n",
      "SVM Classifier\n",
      "---------------------------------------------------------------------\n",
      "For Metric: recall\n",
      "Cross Validation scores on training data:\n",
      "CV Mean: 0.95241 CV Standard Deviation: 0.05950\n",
      "\n"
     ]
    },
    {
     "name": "stderr",
     "output_type": "stream",
     "text": [
      "[Parallel(n_jobs=2)]: Using backend LokyBackend with 2 concurrent workers.\n",
      "[Parallel(n_jobs=2)]: Done   5 out of   5 | elapsed:    0.0s finished\n",
      "[Parallel(n_jobs=2)]: Using backend LokyBackend with 2 concurrent workers.\n",
      "[Parallel(n_jobs=2)]: Done   5 out of   5 | elapsed:    0.0s finished\n",
      "[Parallel(n_jobs=2)]: Using backend LokyBackend with 2 concurrent workers.\n",
      "[Parallel(n_jobs=2)]: Done   5 out of   5 | elapsed:    0.0s finished\n",
      "[Parallel(n_jobs=2)]: Using backend LokyBackend with 2 concurrent workers.\n",
      "[Parallel(n_jobs=2)]: Done   5 out of   5 | elapsed:    0.0s finished\n",
      "[Parallel(n_jobs=2)]: Using backend LokyBackend with 2 concurrent workers.\n",
      "[Parallel(n_jobs=2)]: Done   5 out of   5 | elapsed:    0.0s finished\n",
      "[Parallel(n_jobs=2)]: Using backend LokyBackend with 2 concurrent workers.\n",
      "[Parallel(n_jobs=2)]: Done   5 out of   5 | elapsed:    0.0s finished\n"
     ]
    },
    {
     "name": "stdout",
     "output_type": "stream",
     "text": [
      "---------------------------------------------------------------------\n",
      "SVM Classifier\n",
      "---------------------------------------------------------------------\n",
      "For Metric: f1\n",
      "Cross Validation scores on training data:\n",
      "CV Mean: 0.96484 CV Standard Deviation: 0.03433\n",
      "\n",
      "---------------------------------------------------------------------\n",
      "SVM Classifier\n",
      "---------------------------------------------------------------------\n",
      "For Metric: average_precision\n",
      "Cross Validation scores on training data:\n",
      "CV Mean: 0.99208 CV Standard Deviation: 0.00966\n",
      "\n",
      "---------------------------------------------------------------------\n",
      "SVM Classifier\n",
      "---------------------------------------------------------------------\n",
      "For Metric: roc_auc\n",
      "Cross Validation scores on training data:\n",
      "CV Mean: 0.99303 CV Standard Deviation: 0.00965\n",
      "\n",
      "Average Precision-Recall score:0.99\n",
      "╒════════════════════════╤═══════════════════════╕\n",
      "│ Metric                 │   Testing Performance │\n",
      "╞════════════════════════╪═══════════════════════╡\n",
      "│ Accuracy               │             0.982456  │\n",
      "├────────────────────────┼───────────────────────┤\n",
      "│ Precision              │             0.983871  │\n",
      "├────────────────────────┼───────────────────────┤\n",
      "│ Recall                 │             0.968254  │\n",
      "├────────────────────────┼───────────────────────┤\n",
      "│ Misclassification rate │             0.0175439 │\n",
      "├────────────────────────┼───────────────────────┤\n",
      "│ F1                     │             0.976     │\n",
      "├────────────────────────┼───────────────────────┤\n",
      "│ r2                     │             0.924603  │\n",
      "├────────────────────────┼───────────────────────┤\n",
      "│ AUC                    │             0.979497  │\n",
      "├────────────────────────┼───────────────────────┤\n",
      "│ MSE                    │             0.0175439 │\n",
      "├────────────────────────┼───────────────────────┤\n",
      "│ Logloss                │             0.605948  │\n",
      "╘════════════════════════╧═══════════════════════╛\n",
      "\n",
      "Classification report:\n",
      "               precision    recall  f1-score   support\n",
      "\n",
      "           0       0.98      0.99      0.99       108\n",
      "           1       0.98      0.97      0.98        63\n",
      "\n",
      "    accuracy                           0.98       171\n",
      "   macro avg       0.98      0.98      0.98       171\n",
      "weighted avg       0.98      0.98      0.98       171\n",
      "\n",
      "\n",
      "Correct classifications on test data: 168/171   98.246%\n"
     ]
    },
    {
     "data": {
      "image/png": "[encoded data removed]",
      "text/plain": [
       "<Figure size 432x288 with 2 Axes>"
      ]
     },
     "metadata": {
      "needs_background": "light"
     },
     "output_type": "display_data"
    },
    {
     "data": {
      "image/png": "[encoded data removed]",
      "text/plain": [
       "<Figure size 720x360 with 2 Axes>"
      ]
     },
     "metadata": {
      "needs_background": "light"
     },
     "output_type": "display_data"
    },
    {
     "name": "stdout",
     "output_type": "stream",
     "text": [
      "\n"
     ]
    }
   ],
   "source": [
    "kfolds= 5\n",
    "param_comb = 5\n",
    "skf = StratifiedKFold(n_splits= kfolds, shuffle= True, random_state = 43)\n",
    "metrics=['accuracy','precision','recall', 'f1','average_precision', 'roc_auc']\n",
    "Training_Performance= pd.DataFrame(columns= ['Algorithm','Metric','Mean Cross-Validation', 'CV std']) \n",
    "Testing_Performance= pd.DataFrame(columns= ['Algorithm','Accuracy','AUC','Precision','Recall','F1'])\n",
    "for name, model in model_dict.items():\n",
    "    for m in metrics:\n",
    "        score= cross_val_score(model, x_train, y_train, scoring=m, cv=skf, verbose=1, n_jobs=2)\n",
    "        print(\"---------------------------------------------------------------------\") \n",
    "        print(name)\n",
    "        print(\"---------------------------------------------------------------------\")\n",
    "        print(\"For Metric: %s\" % (m))\n",
    "        print(\"Cross Validation scores on training data:\")\n",
    "        print ('CV Mean: %.5f CV Standard Deviation: %.5f'% (np.mean(np.abs(score)), np.std(score)))\n",
    "        print(\"\") \n",
    "         \n",
    "        Training_Performance= Training_Performance.append({'Algorithm' : name, 'Metric' : m, 'Mean Cross-Validation' : np.mean(np.abs(score)),'CV std' : np.std(score)},  \n",
    "                ignore_index = True) \n",
    "        \n",
    "    model.fit(x_train, y_train)\n",
    "    y_predicted_test= model.predict(x_test)\n",
    "    y_probabilities_test= model.predict_proba(x_test)\n",
    "    y_probabilities_success= y_probabilities_test[:, 1]\n",
    "\n",
    "    from sklearn.metrics import average_precision_score\n",
    "    average_precision= average_precision_score(y_test, y_probabilities_success)\n",
    "    print('Average Precision-Recall score:{0:0.2f}'.format(average_precision))\n",
    "\n",
    "    false_positive_rate, true_positive_rate, threshold= roc_curve(y_test, y_probabilities_success)\n",
    "\n",
    "    mse        = mean_squared_error(y_test, y_predicted_test)\n",
    "    logloss    = log_loss(y_test, y_predicted_test)\n",
    "    accuracy   = accuracy_score(y_test, y_predicted_test)\n",
    "    precision  = precision_score(y_test, y_predicted_test, average='binary')\n",
    "    recall     = recall_score(y_test, y_predicted_test, average='binary')\n",
    "    F1         = f1_score(y_test, y_predicted_test)\n",
    "    r2         = r2_score(y_test, y_predicted_test)\n",
    "    auc        = roc_auc_score(y_test, y_predicted_test)\n",
    "    cm         = confusion_matrix(y_test, y_predicted_test)\n",
    "    \n",
    "    Model_metrics(name)\n",
    "    Confusion_Matrix(model)\n",
    "    plot_roc_precision_recall_curve(name)\n",
    "    \n",
    "    print(\"\")"
   ]
  },
  {
   "cell_type": "code",
   "execution_count": 12,
   "id": "a3bbb7c3",
   "metadata": {},
   "outputs": [
    {
     "data": {
      "text/html": [
       "<div>\n",
       "<style scoped>\n",
       "    .dataframe tbody tr th:only-of-type {\n",
       "        vertical-align: middle;\n",
       "    }\n",
       "\n",
       "    .dataframe tbody tr th {\n",
       "        vertical-align: top;\n",
       "    }\n",
       "\n",
       "    .dataframe thead tr th {\n",
       "        text-align: left;\n",
       "    }\n",
       "\n",
       "    .dataframe thead tr:last-of-type th {\n",
       "        text-align: right;\n",
       "    }\n",
       "</style>\n",
       "<table border=\"1\" class=\"dataframe\">\n",
       "  <thead>\n",
       "    <tr>\n",
       "      <th></th>\n",
       "      <th colspan=\"6\" halign=\"left\">amin</th>\n",
       "    </tr>\n",
       "    <tr>\n",
       "      <th></th>\n",
       "      <th colspan=\"6\" halign=\"left\">Mean Cross-Validation</th>\n",
       "    </tr>\n",
       "    <tr>\n",
       "      <th>Metric</th>\n",
       "      <th>accuracy</th>\n",
       "      <th>average_precision</th>\n",
       "      <th>f1</th>\n",
       "      <th>precision</th>\n",
       "      <th>recall</th>\n",
       "      <th>roc_auc</th>\n",
       "    </tr>\n",
       "    <tr>\n",
       "      <th>Algorithm</th>\n",
       "      <th></th>\n",
       "      <th></th>\n",
       "      <th></th>\n",
       "      <th></th>\n",
       "      <th></th>\n",
       "      <th></th>\n",
       "    </tr>\n",
       "  </thead>\n",
       "  <tbody>\n",
       "    <tr>\n",
       "      <th>Extra Trees Classifier</th>\n",
       "      <td>0.959747</td>\n",
       "      <td>0.988665</td>\n",
       "      <td>0.953776</td>\n",
       "      <td>0.973089</td>\n",
       "      <td>0.932414</td>\n",
       "      <td>0.988392</td>\n",
       "    </tr>\n",
       "    <tr>\n",
       "      <th>Gradient Boosting Classifier</th>\n",
       "      <td>0.942247</td>\n",
       "      <td>0.979549</td>\n",
       "      <td>0.921116</td>\n",
       "      <td>0.938836</td>\n",
       "      <td>0.905747</td>\n",
       "      <td>0.979253</td>\n",
       "    </tr>\n",
       "    <tr>\n",
       "      <th>KNeighbors Classifier</th>\n",
       "      <td>0.967278</td>\n",
       "      <td>0.976460</td>\n",
       "      <td>0.954801</td>\n",
       "      <td>0.965595</td>\n",
       "      <td>0.945747</td>\n",
       "      <td>0.981568</td>\n",
       "    </tr>\n",
       "    <tr>\n",
       "      <th>Logistic Regression</th>\n",
       "      <td>0.974873</td>\n",
       "      <td>0.989306</td>\n",
       "      <td>0.964977</td>\n",
       "      <td>0.980093</td>\n",
       "      <td>0.952644</td>\n",
       "      <td>0.989862</td>\n",
       "    </tr>\n",
       "    <tr>\n",
       "      <th>Random Forest Classifier</th>\n",
       "      <td>0.962278</td>\n",
       "      <td>0.982672</td>\n",
       "      <td>0.938172</td>\n",
       "      <td>0.953534</td>\n",
       "      <td>0.919080</td>\n",
       "      <td>0.987805</td>\n",
       "    </tr>\n",
       "    <tr>\n",
       "      <th>SVM Classifier</th>\n",
       "      <td>0.974842</td>\n",
       "      <td>0.992078</td>\n",
       "      <td>0.964840</td>\n",
       "      <td>0.979808</td>\n",
       "      <td>0.952414</td>\n",
       "      <td>0.993030</td>\n",
       "    </tr>\n",
       "    <tr>\n",
       "      <th>XGB Classifier</th>\n",
       "      <td>0.949747</td>\n",
       "      <td>0.984612</td>\n",
       "      <td>0.931264</td>\n",
       "      <td>0.941329</td>\n",
       "      <td>0.925517</td>\n",
       "      <td>0.985516</td>\n",
       "    </tr>\n",
       "  </tbody>\n",
       "</table>\n",
       "</div>"
      ],
      "text/plain": [
       "                                              amin                    \\\n",
       "                             Mean Cross-Validation                     \n",
       "Metric                                    accuracy average_precision   \n",
       "Algorithm                                                              \n",
       "Extra Trees Classifier                    0.959747          0.988665   \n",
       "Gradient Boosting Classifier              0.942247          0.979549   \n",
       "KNeighbors Classifier                     0.967278          0.976460   \n",
       "Logistic Regression                       0.974873          0.989306   \n",
       "Random Forest Classifier                  0.962278          0.982672   \n",
       "SVM Classifier                            0.974842          0.992078   \n",
       "XGB Classifier                            0.949747          0.984612   \n",
       "\n",
       "                                                                      \n",
       "                                                                      \n",
       "Metric                              f1 precision    recall   roc_auc  \n",
       "Algorithm                                                             \n",
       "Extra Trees Classifier        0.953776  0.973089  0.932414  0.988392  \n",
       "Gradient Boosting Classifier  0.921116  0.938836  0.905747  0.979253  \n",
       "KNeighbors Classifier         0.954801  0.965595  0.945747  0.981568  \n",
       "Logistic Regression           0.964977  0.980093  0.952644  0.989862  \n",
       "Random Forest Classifier      0.938172  0.953534  0.919080  0.987805  \n",
       "SVM Classifier                0.964840  0.979808  0.952414  0.993030  \n",
       "XGB Classifier                0.931264  0.941329  0.925517  0.985516  "
      ]
     },
     "execution_count": 12,
     "metadata": {},
     "output_type": "execute_result"
    }
   ],
   "source": [
    "Training_PerformancePivot= pd.pivot_table(Training_Performance,index=[\"Algorithm\"],values=[\"Mean Cross-Validation\"],columns=[\"Metric\"], aggfunc=[np.min])\n",
    "Training_PerformancePivot"
   ]
  },
  {
   "cell_type": "code",
   "execution_count": 13,
   "id": "26fd7d36",
   "metadata": {},
   "outputs": [
    {
     "data": {
      "text/html": [
       "<div>\n",
       "<style scoped>\n",
       "    .dataframe tbody tr th:only-of-type {\n",
       "        vertical-align: middle;\n",
       "    }\n",
       "\n",
       "    .dataframe tbody tr th {\n",
       "        vertical-align: top;\n",
       "    }\n",
       "\n",
       "    .dataframe thead th {\n",
       "        text-align: right;\n",
       "    }\n",
       "</style>\n",
       "<table border=\"1\" class=\"dataframe\">\n",
       "  <thead>\n",
       "    <tr style=\"text-align: right;\">\n",
       "      <th></th>\n",
       "      <th>Algorithm</th>\n",
       "      <th>Accuracy</th>\n",
       "      <th>AUC</th>\n",
       "      <th>Precision</th>\n",
       "      <th>Recall</th>\n",
       "      <th>F1</th>\n",
       "    </tr>\n",
       "  </thead>\n",
       "  <tbody>\n",
       "    <tr>\n",
       "      <th>3</th>\n",
       "      <td>Extra Trees Classifier</td>\n",
       "      <td>0.976608</td>\n",
       "      <td>0.971561</td>\n",
       "      <td>0.983607</td>\n",
       "      <td>0.952381</td>\n",
       "      <td>0.967742</td>\n",
       "    </tr>\n",
       "    <tr>\n",
       "      <th>2</th>\n",
       "      <td>Gradient Boosting Classifier</td>\n",
       "      <td>0.970760</td>\n",
       "      <td>0.963624</td>\n",
       "      <td>0.983333</td>\n",
       "      <td>0.936508</td>\n",
       "      <td>0.959350</td>\n",
       "    </tr>\n",
       "    <tr>\n",
       "      <th>5</th>\n",
       "      <td>KNeighbors Classifier</td>\n",
       "      <td>0.964912</td>\n",
       "      <td>0.958995</td>\n",
       "      <td>0.967213</td>\n",
       "      <td>0.936508</td>\n",
       "      <td>0.951613</td>\n",
       "    </tr>\n",
       "    <tr>\n",
       "      <th>0</th>\n",
       "      <td>Logistic Regression</td>\n",
       "      <td>0.982456</td>\n",
       "      <td>0.976190</td>\n",
       "      <td>1.000000</td>\n",
       "      <td>0.952381</td>\n",
       "      <td>0.975610</td>\n",
       "    </tr>\n",
       "    <tr>\n",
       "      <th>1</th>\n",
       "      <td>Random Forest Classifier</td>\n",
       "      <td>0.970760</td>\n",
       "      <td>0.963624</td>\n",
       "      <td>0.983333</td>\n",
       "      <td>0.936508</td>\n",
       "      <td>0.959350</td>\n",
       "    </tr>\n",
       "    <tr>\n",
       "      <th>6</th>\n",
       "      <td>SVM Classifier</td>\n",
       "      <td>0.982456</td>\n",
       "      <td>0.979497</td>\n",
       "      <td>0.983871</td>\n",
       "      <td>0.968254</td>\n",
       "      <td>0.976000</td>\n",
       "    </tr>\n",
       "    <tr>\n",
       "      <th>4</th>\n",
       "      <td>XGB Classifier</td>\n",
       "      <td>0.976608</td>\n",
       "      <td>0.971561</td>\n",
       "      <td>0.983607</td>\n",
       "      <td>0.952381</td>\n",
       "      <td>0.967742</td>\n",
       "    </tr>\n",
       "  </tbody>\n",
       "</table>\n",
       "</div>"
      ],
      "text/plain": [
       "                      Algorithm  Accuracy       AUC  Precision    Recall  \\\n",
       "3        Extra Trees Classifier  0.976608  0.971561   0.983607  0.952381   \n",
       "2  Gradient Boosting Classifier  0.970760  0.963624   0.983333  0.936508   \n",
       "5         KNeighbors Classifier  0.964912  0.958995   0.967213  0.936508   \n",
       "0           Logistic Regression  0.982456  0.976190   1.000000  0.952381   \n",
       "1      Random Forest Classifier  0.970760  0.963624   0.983333  0.936508   \n",
       "6                SVM Classifier  0.982456  0.979497   0.983871  0.968254   \n",
       "4                XGB Classifier  0.976608  0.971561   0.983607  0.952381   \n",
       "\n",
       "         F1  \n",
       "3  0.967742  \n",
       "2  0.959350  \n",
       "5  0.951613  \n",
       "0  0.975610  \n",
       "1  0.959350  \n",
       "6  0.976000  \n",
       "4  0.967742  "
      ]
     },
     "execution_count": 13,
     "metadata": {},
     "output_type": "execute_result"
    }
   ],
   "source": [
    "Testing_Performance.sort_values(by=['Algorithm'])"
   ]
  },
  {
   "cell_type": "code",
   "execution_count": null,
   "id": "da70c0da",
   "metadata": {},
   "outputs": [],
   "source": []
  }
 ],
 "metadata": {
  "kernelspec": {
   "display_name": "Python 3",
   "language": "python",
   "name": "python3"
  },
  "language_info": {
   "codemirror_mode": {
    "name": "ipython",
    "version": 3
   },
   "file_extension": ".py",
   "mimetype": "text/x-python",
   "name": "python",
   "nbconvert_exporter": "python",
   "pygments_lexer": "ipython3",
   "version": "3.8.8"
  }
 },
 "nbformat": 4,
 "nbformat_minor": 5
}
