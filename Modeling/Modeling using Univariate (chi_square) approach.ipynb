{
 "cells": [
  {
   "cell_type": "code",
   "execution_count": 1,
   "id": "c7489fd5",
   "metadata": {},
   "outputs": [],
   "source": [
    "import numpy as np\n",
    "import pandas as pd\n",
    "import matplotlib.pyplot as plt\n",
    "import seaborn as sns\n",
    "from sklearn.preprocessing import LabelEncoder\n",
    "\n",
    "from sklearn import datasets\n",
    "from sklearn.metrics import accuracy_score\n",
    "from sklearn.linear_model import LogisticRegression\n",
    "from sklearn.ensemble import RandomForestClassifier\n",
    "from sklearn.neighbors import KNeighborsClassifier\n",
    "from sklearn.svm import SVC\n",
    "\n",
    "from sklearn.model_selection import train_test_split\n",
    "from sklearn.model_selection import StratifiedKFold\n",
    "from sklearn.model_selection import cross_val_score\n",
    "from tabulate import tabulate\n",
    "import itertools\n",
    "from sklearn import metrics\n",
    "from sklearn.metrics import roc_auc_score, roc_curve, classification_report\n",
    "from sklearn.metrics import confusion_matrix, accuracy_score, mean_squared_error\n",
    "from sklearn.metrics import f1_score, precision_score, recall_score, log_loss, r2_score\n",
    "from sklearn.metrics import precision_recall_curve\n",
    "from sklearn.svm import SVC\n",
    "\n",
    "from sklearn.preprocessing import StandardScaler\n",
    "\n",
    "\n",
    "import warnings\n",
    "warnings.simplefilter('ignore')"
   ]
  },
  {
   "cell_type": "code",
   "execution_count": 14,
   "id": "92261790",
   "metadata": {},
   "outputs": [],
   "source": [
    "breast_cancer_data= pd.read_csv(\"data.csv\")\n",
    "drop_list= ['Unnamed: 32','id']\n",
    "breast_cancer_data.drop(drop_list, axis=1, inplace= True)\n",
    "x_drop= ['diagnosis']\n",
    "x= breast_cancer_data.drop(x_drop,axis=1)\n",
    "y= breast_cancer_data.diagnosis\n",
    "y= y.replace(\"B\", 0)\n",
    "y= y.replace(\"M\", 1)"
   ]
  },
  {
   "cell_type": "code",
   "execution_count": 15,
   "id": "b6de1ba8",
   "metadata": {},
   "outputs": [],
   "source": [
    "x_train, x_test, y_train, y_test= train_test_split(x,y,test_size=0.3,random_state=42 )"
   ]
  },
  {
   "cell_type": "code",
   "execution_count": 16,
   "id": "e5eb45ee",
   "metadata": {},
   "outputs": [],
   "source": [
    "model_dict= {}\n",
    "\n",
    "# Logistic Regression\n",
    "clf = LogisticRegression()\n",
    "model_dict['Logistic Regression'] = clf\n",
    "\n",
    "# Random Forest Classifier\n",
    "clf = RandomForestClassifier()\n",
    "model_dict['Random Forest Classifier'] = clf\n",
    "\n",
    "# Gradient Boosting Classifier\n",
    "from sklearn.ensemble import GradientBoostingClassifier\n",
    "clf = GradientBoostingClassifier()\n",
    "model_dict['Gradient Boosting Classifier'] = clf\n",
    "\n",
    "# Extra Trees Classifier\n",
    "from sklearn.ensemble import ExtraTreesClassifier\n",
    "clf = ExtraTreesClassifier()\n",
    "model_dict['Extra Trees Classifier'] = clf\n",
    "\n",
    "# XGB Classifier\n",
    "from xgboost import XGBClassifier\n",
    "clf = XGBClassifier()\n",
    "model_dict['XGB Classifier'] = clf\n",
    "\n",
    "# K Nearest Neighbor\n",
    "clf = KNeighborsClassifier()\n",
    "model_dict['KNeighbors Classifier'] = clf\n",
    "\n",
    "# Support Vector Machine\n",
    "from sklearn.svm import SVC\n",
    "clf = SVC(kernel='rbf',probability=True)   \n",
    "model_dict['SVM Classifier'] = clf"
   ]
  },
  {
   "cell_type": "code",
   "execution_count": 17,
   "id": "47ede94f",
   "metadata": {},
   "outputs": [],
   "source": [
    "#Correlation features\n",
    "corr_features=['radius_mean','texture_mean','perimeter_mean','area_mean','perimeter_se','area_se','radius_worst','texture_worst','perimeter_worst','area_worst']\n",
    "\n",
    "#Chi-Square features\n",
    "chi_sq_features= ['area_worst','area_mean','area_se','perimeter_worst','perimeter_mean','radius_worst','radius_mean','perimeter_se','texture_worst','texture_mean']\n",
    "\n",
    "# RFE features\n",
    "rfe_features= ['area_worst','area_mean','area_se','perimeter_worst','perimeter_mean','radius_worst','texture_worst','texture_mean','concavity_worst','concavity_mean','compactness_worst','concave points_worst','concave points_mean','compactness_mean','symmetry_worst','smoothness_worst']\n",
    "\n",
    "#RFECV features\n",
    "rfecv_features= ['area_worst','area_mean','area_se','perimeter_worst','perimeter_mean','radius_worst','radius_mean','perimeter_se','texture_worst','texture_mean','concavity_worst','radius_se','concavity_mean','compactness_worst','concave points_worst','concave points_mean','compactness_mean','symmetry_worst','smoothness_worst','fractal_dimension_worst','fractal_dimension_se']\n",
    "\n",
    "#ExtraTrees features\n",
    "extra_trees_features= ['area_worst','area_mean','perimeter_worst','perimeter_mean','radius_worst','radius_mean','concavity_worst','concavity_mean','concave points_worst','concave points_mean']\n",
    "\n",
    "#Vote based features\n",
    "voted_features= ['area_worst','area_mean','area_se','perimeter_worst','perimeter_mean','radius_worst','radius_mean','perimeter_se','texture_worst','texture_mean','concavity_worst','concavity_mean','compactness_worst','concave points_worst','concave points_mean','compactness_mean','symmetry_worst','smoothness_worst']"
   ]
  },
  {
   "cell_type": "code",
   "execution_count": 18,
   "id": "4faaec22",
   "metadata": {},
   "outputs": [],
   "source": [
    "x_train = x_train[chi_sq_features]\n",
    "x_test = x_test[chi_sq_features]"
   ]
  },
  {
   "cell_type": "code",
   "execution_count": 19,
   "id": "942021df",
   "metadata": {},
   "outputs": [],
   "source": [
    "scale = StandardScaler()\n",
    "x_train = scale.fit_transform(x_train)\n",
    "x_test = scale.fit_transform(x_test)"
   ]
  },
  {
   "cell_type": "code",
   "execution_count": 20,
   "id": "628414d8",
   "metadata": {},
   "outputs": [],
   "source": [
    "def Model_metrics(name):\n",
    "    global Testing_Performance\n",
    "    true_negative  = cm[0, 0]\n",
    "    true_positive  = cm[1, 1]\n",
    "    false_negative = cm[1, 0]\n",
    "    false_positive = cm[0, 1]\n",
    "    total = true_negative + true_positive + false_negative + false_positive\n",
    "\n",
    "    accuracy_ = (true_positive + true_negative)/total\n",
    "    precision_ = (true_positive)/(true_positive + false_positive)\n",
    "    recall_ = (true_positive)/(true_positive + false_negative)\n",
    "    misclassification_rate = (false_positive + false_negative)/total\n",
    "    F1_ = (2*true_positive)/(2*true_positive + false_positive + false_negative)\n",
    "    assert accuracy == accuracy_, \"accuracy score does not agree\"\n",
    "    assert precision == precision_, \"precision score does not agree\"\n",
    "    assert recall == recall_, \"recall score does not agree\"\n",
    "    assert round(F1,6) == round(F1_,6), \"F1: \" + str(F1) + \" != F1_: \" + str(F1_)\n",
    "\n",
    "    header = [\"Metric\", \"Testing Performance\"]\n",
    "    table = [[\"Accuracy\",               accuracy],\n",
    "             [\"Precision\",              precision],\n",
    "             [\"Recall\",                 recall],\n",
    "             [\"Misclassification rate\", misclassification_rate],\n",
    "             [\"F1\",                     F1],\n",
    "             [\"r2\",                     r2],\n",
    "             [\"AUC\",                    auc],\n",
    "             [\"MSE\",                    mse],\n",
    "             [\"Logloss\",                logloss]\n",
    "            ]\n",
    "\n",
    "    print(tabulate(table, header, tablefmt=\"fancy_grid\"))\n",
    "    Testing_Performance = Testing_Performance.append({'Algorithm' : name,'Accuracy' : accuracy,'AUC' : auc,'Precision' : precision,'Recall' : recall,'F1' : F1},ignore_index = True)"
   ]
  },
  {
   "cell_type": "code",
   "execution_count": 21,
   "id": "7027bb66",
   "metadata": {},
   "outputs": [],
   "source": [
    "def Confusion_Matrix(best_model):\n",
    "    cmap= plt.cm.Oranges\n",
    "    plt.imshow(cm, interpolation='nearest', cmap=cmap)\n",
    "    classes = [0, 1]\n",
    "    plt.title('Confusion matrix (on test data)')\n",
    "    plt.colorbar()\n",
    "    tick_marks = np.arange(len(classes))\n",
    "    plt.xticks(tick_marks, classes, rotation=0)\n",
    "    plt.yticks(tick_marks, classes)\n",
    "\n",
    "    thresh = cm.max() / 2.\n",
    "    for i, j in itertools.product(range(cm.shape[0]), range(cm.shape[1])):\n",
    "        plt.text(j, i, cm[i, j],\n",
    "                 horizontalalignment=\"center\",\n",
    "                 color=\"white\" if cm[i, j] > thresh else \"black\")\n",
    "\n",
    "    plt.tight_layout()\n",
    "    plt.ylabel('True label')\n",
    "    plt.xlabel('Predicted label')\n",
    "\n",
    "    c_report = classification_report(y_test, y_predicted_test)\n",
    "    print('\\nClassification report:\\n', c_report)\n",
    "\n",
    "    ntotal = len(y_test)\n",
    "    correct = y_test == y_predicted_test\n",
    "    numCorrect = sum(correct)\n",
    "    percent = round((numCorrect*100.0)/ntotal, 6)\n",
    "    print(\"\\nCorrect classifications on test data: {0:d}/{1:d} {2:8.3f}%\".format(numCorrect, ntotal, percent))\n",
    "    prediction_score= (best_model.score(x_test, y_test))*100.0\n",
    "    assert (round(percent,3) == round(prediction_score, 3)), \"prediction score does not agree\""
   ]
  },
  {
   "cell_type": "code",
   "execution_count": 22,
   "id": "1bd481ee",
   "metadata": {},
   "outputs": [],
   "source": [
    "def plot_roc_precision_recall_curve(label):\n",
    "    class_names = [0, 1]\n",
    "    fig, (left, right) = plt.subplots(nrows=1, ncols=2, figsize=(10,5))\n",
    "\n",
    "    plt.subplot(1, 2, 1)\n",
    "    plt.plot([0, 1], [0, 1], 'k--')\n",
    "    plt.plot(false_positive_rate, true_positive_rate, color='darkorange', label=label)\n",
    "    #x label\n",
    "    plt.xlabel('False positive rate')\n",
    "    #y label\n",
    "    plt.ylabel('True positive rate')\n",
    "    plt.title('ROC curve (area = %0.7f)' % auc)\n",
    "    plt.legend(loc='best')\n",
    "\n",
    "    plt.subplot(1, 2, 2)\n",
    "    precision, recall, _ = precision_recall_curve(y_test, y_probabilities_success)\n",
    "\n",
    "    plt.step(recall, precision, color='r', alpha=0.2, where='post')\n",
    "    plt.fill_between(recall, precision, step='post', alpha=0.2, color='r')\n",
    "\n",
    "    plt.xlabel('Recall')\n",
    "    plt.ylabel('Precision')\n",
    "    plt.ylim([0.0, 1.05])\n",
    "    plt.xlim([0.0, 1.0])\n",
    "    plt.title('Precision-Recall curve: AP={0:0.2f}'.format(average_precision))\n",
    "\n",
    "    plt.tight_layout()\n",
    "    plt.show()"
   ]
  },
  {
   "cell_type": "code",
   "execution_count": 23,
   "id": "fda75216",
   "metadata": {
    "scrolled": true
   },
   "outputs": [
    {
     "name": "stderr",
     "output_type": "stream",
     "text": [
      "[Parallel(n_jobs=2)]: Using backend LokyBackend with 2 concurrent workers.\n",
      "[Parallel(n_jobs=2)]: Done   5 out of   5 | elapsed:    0.0s finished\n",
      "[Parallel(n_jobs=2)]: Using backend LokyBackend with 2 concurrent workers.\n",
      "[Parallel(n_jobs=2)]: Done   5 out of   5 | elapsed:    0.0s finished\n",
      "[Parallel(n_jobs=2)]: Using backend LokyBackend with 2 concurrent workers.\n",
      "[Parallel(n_jobs=2)]: Done   5 out of   5 | elapsed:    0.0s finished\n"
     ]
    },
    {
     "name": "stdout",
     "output_type": "stream",
     "text": [
      "---------------------------------------------------------------------\n",
      "Logistic Regression\n",
      "---------------------------------------------------------------------\n",
      "For Metric: accuracy\n",
      "Cross Validation scores on training data:\n",
      "CV Mean: 0.93453 CV Standard Deviation: 0.03536\n",
      "\n",
      "---------------------------------------------------------------------\n",
      "Logistic Regression\n",
      "---------------------------------------------------------------------\n",
      "For Metric: precision\n",
      "Cross Validation scores on training data:\n",
      "CV Mean: 0.94853 CV Standard Deviation: 0.03688\n",
      "\n",
      "---------------------------------------------------------------------\n",
      "Logistic Regression\n",
      "---------------------------------------------------------------------\n",
      "For Metric: recall\n",
      "Cross Validation scores on training data:\n",
      "CV Mean: 0.87149 CV Standard Deviation: 0.08052\n",
      "\n",
      "---------------------------------------------------------------------\n",
      "Logistic Regression\n",
      "---------------------------------------------------------------------\n",
      "For Metric: f1\n",
      "Cross Validation scores on training data:\n",
      "CV Mean: 0.90680 CV Standard Deviation: 0.05501\n",
      "\n",
      "---------------------------------------------------------------------\n",
      "Logistic Regression\n",
      "---------------------------------------------------------------------\n",
      "For Metric: average_precision\n",
      "Cross Validation scores on training data:\n",
      "CV Mean: 0.97673 CV Standard Deviation: 0.01301\n",
      "\n"
     ]
    },
    {
     "name": "stderr",
     "output_type": "stream",
     "text": [
      "[Parallel(n_jobs=2)]: Using backend LokyBackend with 2 concurrent workers.\n",
      "[Parallel(n_jobs=2)]: Done   5 out of   5 | elapsed:    0.0s finished\n",
      "[Parallel(n_jobs=2)]: Using backend LokyBackend with 2 concurrent workers.\n",
      "[Parallel(n_jobs=2)]: Done   5 out of   5 | elapsed:    0.0s finished\n",
      "[Parallel(n_jobs=2)]: Using backend LokyBackend with 2 concurrent workers.\n",
      "[Parallel(n_jobs=2)]: Done   5 out of   5 | elapsed:    0.0s finished\n"
     ]
    },
    {
     "name": "stdout",
     "output_type": "stream",
     "text": [
      "---------------------------------------------------------------------\n",
      "Logistic Regression\n",
      "---------------------------------------------------------------------\n",
      "For Metric: roc_auc\n",
      "Cross Validation scores on training data:\n",
      "CV Mean: 0.98401 CV Standard Deviation: 0.00890\n",
      "\n",
      "Average Precision-Recall score:0.99\n",
      "╒════════════════════════╤═══════════════════════╕\n",
      "│ Metric                 │   Testing Performance │\n",
      "╞════════════════════════╪═══════════════════════╡\n",
      "│ Accuracy               │             0.964912  │\n",
      "├────────────────────────┼───────────────────────┤\n",
      "│ Precision              │             0.967213  │\n",
      "├────────────────────────┼───────────────────────┤\n",
      "│ Recall                 │             0.936508  │\n",
      "├────────────────────────┼───────────────────────┤\n",
      "│ Misclassification rate │             0.0350877 │\n",
      "├────────────────────────┼───────────────────────┤\n",
      "│ F1                     │             0.951613  │\n",
      "├────────────────────────┼───────────────────────┤\n",
      "│ r2                     │             0.849206  │\n",
      "├────────────────────────┼───────────────────────┤\n",
      "│ AUC                    │             0.958995  │\n",
      "├────────────────────────┼───────────────────────┤\n",
      "│ MSE                    │             0.0350877 │\n",
      "├────────────────────────┼───────────────────────┤\n",
      "│ Logloss                │             1.2119    │\n",
      "╘════════════════════════╧═══════════════════════╛\n",
      "\n",
      "Classification report:\n",
      "               precision    recall  f1-score   support\n",
      "\n",
      "           0       0.96      0.98      0.97       108\n",
      "           1       0.97      0.94      0.95        63\n",
      "\n",
      "    accuracy                           0.96       171\n",
      "   macro avg       0.97      0.96      0.96       171\n",
      "weighted avg       0.96      0.96      0.96       171\n",
      "\n",
      "\n",
      "Correct classifications on test data: 165/171   96.491%\n"
     ]
    },
    {
     "data": {
      "image/png": "[encoded data removed]",
      "text/plain": [
       "<Figure size 432x288 with 2 Axes>"
      ]
     },
     "metadata": {
      "needs_background": "light"
     },
     "output_type": "display_data"
    },
    {
     "data": {
      "image/png": "[encoded data removed]",
      "text/plain": [
       "<Figure size 720x360 with 2 Axes>"
      ]
     },
     "metadata": {
      "needs_background": "light"
     },
     "output_type": "display_data"
    },
    {
     "name": "stdout",
     "output_type": "stream",
     "text": [
      "\n"
     ]
    },
    {
     "name": "stderr",
     "output_type": "stream",
     "text": [
      "[Parallel(n_jobs=2)]: Using backend LokyBackend with 2 concurrent workers.\n",
      "[Parallel(n_jobs=2)]: Done   5 out of   5 | elapsed:    0.4s finished\n",
      "[Parallel(n_jobs=2)]: Using backend LokyBackend with 2 concurrent workers.\n"
     ]
    },
    {
     "name": "stdout",
     "output_type": "stream",
     "text": [
      "---------------------------------------------------------------------\n",
      "Random Forest Classifier\n",
      "---------------------------------------------------------------------\n",
      "For Metric: accuracy\n",
      "Cross Validation scores on training data:\n",
      "CV Mean: 0.94468 CV Standard Deviation: 0.01715\n",
      "\n"
     ]
    },
    {
     "name": "stderr",
     "output_type": "stream",
     "text": [
      "[Parallel(n_jobs=2)]: Done   5 out of   5 | elapsed:    0.4s finished\n",
      "[Parallel(n_jobs=2)]: Using backend LokyBackend with 2 concurrent workers.\n"
     ]
    },
    {
     "name": "stdout",
     "output_type": "stream",
     "text": [
      "---------------------------------------------------------------------\n",
      "Random Forest Classifier\n",
      "---------------------------------------------------------------------\n",
      "For Metric: precision\n",
      "Cross Validation scores on training data:\n",
      "CV Mean: 0.93694 CV Standard Deviation: 0.02425\n",
      "\n"
     ]
    },
    {
     "name": "stderr",
     "output_type": "stream",
     "text": [
      "[Parallel(n_jobs=2)]: Done   5 out of   5 | elapsed:    0.4s finished\n",
      "[Parallel(n_jobs=2)]: Using backend LokyBackend with 2 concurrent workers.\n"
     ]
    },
    {
     "name": "stdout",
     "output_type": "stream",
     "text": [
      "---------------------------------------------------------------------\n",
      "Random Forest Classifier\n",
      "---------------------------------------------------------------------\n",
      "For Metric: recall\n",
      "Cross Validation scores on training data:\n",
      "CV Mean: 0.89218 CV Standard Deviation: 0.04581\n",
      "\n"
     ]
    },
    {
     "name": "stderr",
     "output_type": "stream",
     "text": [
      "[Parallel(n_jobs=2)]: Done   5 out of   5 | elapsed:    0.5s finished\n",
      "[Parallel(n_jobs=2)]: Using backend LokyBackend with 2 concurrent workers.\n"
     ]
    },
    {
     "name": "stdout",
     "output_type": "stream",
     "text": [
      "---------------------------------------------------------------------\n",
      "Random Forest Classifier\n",
      "---------------------------------------------------------------------\n",
      "For Metric: f1\n",
      "Cross Validation scores on training data:\n",
      "CV Mean: 0.92362 CV Standard Deviation: 0.02471\n",
      "\n"
     ]
    },
    {
     "name": "stderr",
     "output_type": "stream",
     "text": [
      "[Parallel(n_jobs=2)]: Done   5 out of   5 | elapsed:    0.4s finished\n",
      "[Parallel(n_jobs=2)]: Using backend LokyBackend with 2 concurrent workers.\n"
     ]
    },
    {
     "name": "stdout",
     "output_type": "stream",
     "text": [
      "---------------------------------------------------------------------\n",
      "Random Forest Classifier\n",
      "---------------------------------------------------------------------\n",
      "For Metric: average_precision\n",
      "Cross Validation scores on training data:\n",
      "CV Mean: 0.97546 CV Standard Deviation: 0.01277\n",
      "\n"
     ]
    },
    {
     "name": "stderr",
     "output_type": "stream",
     "text": [
      "[Parallel(n_jobs=2)]: Done   5 out of   5 | elapsed:    0.5s finished\n"
     ]
    },
    {
     "name": "stdout",
     "output_type": "stream",
     "text": [
      "---------------------------------------------------------------------\n",
      "Random Forest Classifier\n",
      "---------------------------------------------------------------------\n",
      "For Metric: roc_auc\n",
      "Cross Validation scores on training data:\n",
      "CV Mean: 0.97817 CV Standard Deviation: 0.01259\n",
      "\n",
      "Average Precision-Recall score:0.99\n",
      "╒════════════════════════╤═══════════════════════╕\n",
      "│ Metric                 │   Testing Performance │\n",
      "╞════════════════════════╪═══════════════════════╡\n",
      "│ Accuracy               │             0.964912  │\n",
      "├────────────────────────┼───────────────────────┤\n",
      "│ Precision              │             0.983051  │\n",
      "├────────────────────────┼───────────────────────┤\n",
      "│ Recall                 │             0.920635  │\n",
      "├────────────────────────┼───────────────────────┤\n",
      "│ Misclassification rate │             0.0350877 │\n",
      "├────────────────────────┼───────────────────────┤\n",
      "│ F1                     │             0.95082   │\n",
      "├────────────────────────┼───────────────────────┤\n",
      "│ r2                     │             0.849206  │\n",
      "├────────────────────────┼───────────────────────┤\n",
      "│ AUC                    │             0.955688  │\n",
      "├────────────────────────┼───────────────────────┤\n",
      "│ MSE                    │             0.0350877 │\n",
      "├────────────────────────┼───────────────────────┤\n",
      "│ Logloss                │             1.21189   │\n",
      "╘════════════════════════╧═══════════════════════╛\n",
      "\n",
      "Classification report:\n",
      "               precision    recall  f1-score   support\n",
      "\n",
      "           0       0.96      0.99      0.97       108\n",
      "           1       0.98      0.92      0.95        63\n",
      "\n",
      "    accuracy                           0.96       171\n",
      "   macro avg       0.97      0.96      0.96       171\n",
      "weighted avg       0.97      0.96      0.96       171\n",
      "\n",
      "\n",
      "Correct classifications on test data: 165/171   96.491%\n"
     ]
    },
    {
     "data": {
      "image/png": "[encoded data removed]",
      "text/plain": [
       "<Figure size 432x288 with 2 Axes>"
      ]
     },
     "metadata": {
      "needs_background": "light"
     },
     "output_type": "display_data"
    },
    {
     "data": {
      "image/png": "[encoded data removed]",
      "text/plain": [
       "<Figure size 720x360 with 2 Axes>"
      ]
     },
     "metadata": {
      "needs_background": "light"
     },
     "output_type": "display_data"
    },
    {
     "name": "stdout",
     "output_type": "stream",
     "text": [
      "\n"
     ]
    },
    {
     "name": "stderr",
     "output_type": "stream",
     "text": [
      "[Parallel(n_jobs=2)]: Using backend LokyBackend with 2 concurrent workers.\n",
      "[Parallel(n_jobs=2)]: Done   5 out of   5 | elapsed:    0.3s finished\n",
      "[Parallel(n_jobs=2)]: Using backend LokyBackend with 2 concurrent workers.\n"
     ]
    },
    {
     "name": "stdout",
     "output_type": "stream",
     "text": [
      "---------------------------------------------------------------------\n",
      "Gradient Boosting Classifier\n",
      "---------------------------------------------------------------------\n",
      "For Metric: accuracy\n",
      "Cross Validation scores on training data:\n",
      "CV Mean: 0.92209 CV Standard Deviation: 0.03114\n",
      "\n"
     ]
    },
    {
     "name": "stderr",
     "output_type": "stream",
     "text": [
      "[Parallel(n_jobs=2)]: Done   5 out of   5 | elapsed:    0.3s finished\n",
      "[Parallel(n_jobs=2)]: Using backend LokyBackend with 2 concurrent workers.\n"
     ]
    },
    {
     "name": "stdout",
     "output_type": "stream",
     "text": [
      "---------------------------------------------------------------------\n",
      "Gradient Boosting Classifier\n",
      "---------------------------------------------------------------------\n",
      "For Metric: precision\n",
      "Cross Validation scores on training data:\n",
      "CV Mean: 0.91347 CV Standard Deviation: 0.02046\n",
      "\n"
     ]
    },
    {
     "name": "stderr",
     "output_type": "stream",
     "text": [
      "[Parallel(n_jobs=2)]: Done   5 out of   5 | elapsed:    0.3s finished\n",
      "[Parallel(n_jobs=2)]: Using backend LokyBackend with 2 concurrent workers.\n"
     ]
    },
    {
     "name": "stdout",
     "output_type": "stream",
     "text": [
      "---------------------------------------------------------------------\n",
      "Gradient Boosting Classifier\n",
      "---------------------------------------------------------------------\n",
      "For Metric: recall\n",
      "Cross Validation scores on training data:\n",
      "CV Mean: 0.85885 CV Standard Deviation: 0.06515\n",
      "\n"
     ]
    },
    {
     "name": "stderr",
     "output_type": "stream",
     "text": [
      "[Parallel(n_jobs=2)]: Done   5 out of   5 | elapsed:    0.3s finished\n",
      "[Parallel(n_jobs=2)]: Using backend LokyBackend with 2 concurrent workers.\n"
     ]
    },
    {
     "name": "stdout",
     "output_type": "stream",
     "text": [
      "---------------------------------------------------------------------\n",
      "Gradient Boosting Classifier\n",
      "---------------------------------------------------------------------\n",
      "For Metric: f1\n",
      "Cross Validation scores on training data:\n",
      "CV Mean: 0.88850 CV Standard Deviation: 0.03966\n",
      "\n"
     ]
    },
    {
     "name": "stderr",
     "output_type": "stream",
     "text": [
      "[Parallel(n_jobs=2)]: Done   5 out of   5 | elapsed:    0.3s finished\n",
      "[Parallel(n_jobs=2)]: Using backend LokyBackend with 2 concurrent workers.\n"
     ]
    },
    {
     "name": "stdout",
     "output_type": "stream",
     "text": [
      "---------------------------------------------------------------------\n",
      "Gradient Boosting Classifier\n",
      "---------------------------------------------------------------------\n",
      "For Metric: average_precision\n",
      "Cross Validation scores on training data:\n",
      "CV Mean: 0.96044 CV Standard Deviation: 0.01861\n",
      "\n"
     ]
    },
    {
     "name": "stderr",
     "output_type": "stream",
     "text": [
      "[Parallel(n_jobs=2)]: Done   5 out of   5 | elapsed:    0.3s finished\n"
     ]
    },
    {
     "name": "stdout",
     "output_type": "stream",
     "text": [
      "---------------------------------------------------------------------\n",
      "Gradient Boosting Classifier\n",
      "---------------------------------------------------------------------\n",
      "For Metric: roc_auc\n",
      "Cross Validation scores on training data:\n",
      "CV Mean: 0.97662 CV Standard Deviation: 0.01017\n",
      "\n",
      "Average Precision-Recall score:0.99\n",
      "╒════════════════════════╤═══════════════════════╕\n",
      "│ Metric                 │   Testing Performance │\n",
      "╞════════════════════════╪═══════════════════════╡\n",
      "│ Accuracy               │             0.94152   │\n",
      "├────────────────────────┼───────────────────────┤\n",
      "│ Precision              │             0.934426  │\n",
      "├────────────────────────┼───────────────────────┤\n",
      "│ Recall                 │             0.904762  │\n",
      "├────────────────────────┼───────────────────────┤\n",
      "│ Misclassification rate │             0.0584795 │\n",
      "├────────────────────────┼───────────────────────┤\n",
      "│ F1                     │             0.919355  │\n",
      "├────────────────────────┼───────────────────────┤\n",
      "│ r2                     │             0.748677  │\n",
      "├────────────────────────┼───────────────────────┤\n",
      "│ AUC                    │             0.933862  │\n",
      "├────────────────────────┼───────────────────────┤\n",
      "│ MSE                    │             0.0584795 │\n",
      "├────────────────────────┼───────────────────────┤\n",
      "│ Logloss                │             2.01983   │\n",
      "╘════════════════════════╧═══════════════════════╛\n",
      "\n",
      "Classification report:\n",
      "               precision    recall  f1-score   support\n",
      "\n",
      "           0       0.95      0.96      0.95       108\n",
      "           1       0.93      0.90      0.92        63\n",
      "\n",
      "    accuracy                           0.94       171\n",
      "   macro avg       0.94      0.93      0.94       171\n",
      "weighted avg       0.94      0.94      0.94       171\n",
      "\n",
      "\n",
      "Correct classifications on test data: 161/171   94.152%\n"
     ]
    },
    {
     "data": {
      "image/png": "[encoded data removed]",
      "text/plain": [
       "<Figure size 432x288 with 2 Axes>"
      ]
     },
     "metadata": {
      "needs_background": "light"
     },
     "output_type": "display_data"
    },
    {
     "data": {
      "image/png": "[encoded data removed]",
      "text/plain": [
       "<Figure size 720x360 with 2 Axes>"
      ]
     },
     "metadata": {
      "needs_background": "light"
     },
     "output_type": "display_data"
    },
    {
     "name": "stdout",
     "output_type": "stream",
     "text": [
      "\n"
     ]
    },
    {
     "name": "stderr",
     "output_type": "stream",
     "text": [
      "[Parallel(n_jobs=2)]: Using backend LokyBackend with 2 concurrent workers.\n",
      "[Parallel(n_jobs=2)]: Done   5 out of   5 | elapsed:    0.2s finished\n",
      "[Parallel(n_jobs=2)]: Using backend LokyBackend with 2 concurrent workers.\n"
     ]
    },
    {
     "name": "stdout",
     "output_type": "stream",
     "text": [
      "---------------------------------------------------------------------\n",
      "Extra Trees Classifier\n",
      "---------------------------------------------------------------------\n",
      "For Metric: accuracy\n",
      "Cross Validation scores on training data:\n",
      "CV Mean: 0.94215 CV Standard Deviation: 0.02206\n",
      "\n"
     ]
    },
    {
     "name": "stderr",
     "output_type": "stream",
     "text": [
      "[Parallel(n_jobs=2)]: Done   5 out of   5 | elapsed:    0.2s finished\n",
      "[Parallel(n_jobs=2)]: Using backend LokyBackend with 2 concurrent workers.\n"
     ]
    },
    {
     "name": "stdout",
     "output_type": "stream",
     "text": [
      "---------------------------------------------------------------------\n",
      "Extra Trees Classifier\n",
      "---------------------------------------------------------------------\n",
      "For Metric: precision\n",
      "Cross Validation scores on training data:\n",
      "CV Mean: 0.93245 CV Standard Deviation: 0.04678\n",
      "\n"
     ]
    },
    {
     "name": "stderr",
     "output_type": "stream",
     "text": [
      "[Parallel(n_jobs=2)]: Done   5 out of   5 | elapsed:    0.2s finished\n",
      "[Parallel(n_jobs=2)]: Using backend LokyBackend with 2 concurrent workers.\n"
     ]
    },
    {
     "name": "stdout",
     "output_type": "stream",
     "text": [
      "---------------------------------------------------------------------\n",
      "Extra Trees Classifier\n",
      "---------------------------------------------------------------------\n",
      "For Metric: recall\n",
      "Cross Validation scores on training data:\n",
      "CV Mean: 0.89218 CV Standard Deviation: 0.04581\n",
      "\n"
     ]
    },
    {
     "name": "stderr",
     "output_type": "stream",
     "text": [
      "[Parallel(n_jobs=2)]: Done   5 out of   5 | elapsed:    0.2s finished\n",
      "[Parallel(n_jobs=2)]: Using backend LokyBackend with 2 concurrent workers.\n"
     ]
    },
    {
     "name": "stdout",
     "output_type": "stream",
     "text": [
      "---------------------------------------------------------------------\n",
      "Extra Trees Classifier\n",
      "---------------------------------------------------------------------\n",
      "For Metric: f1\n",
      "Cross Validation scores on training data:\n",
      "CV Mean: 0.91835 CV Standard Deviation: 0.02651\n",
      "\n"
     ]
    },
    {
     "name": "stderr",
     "output_type": "stream",
     "text": [
      "[Parallel(n_jobs=2)]: Done   5 out of   5 | elapsed:    0.2s finished\n",
      "[Parallel(n_jobs=2)]: Using backend LokyBackend with 2 concurrent workers.\n"
     ]
    },
    {
     "name": "stdout",
     "output_type": "stream",
     "text": [
      "---------------------------------------------------------------------\n",
      "Extra Trees Classifier\n",
      "---------------------------------------------------------------------\n",
      "For Metric: average_precision\n",
      "Cross Validation scores on training data:\n",
      "CV Mean: 0.97740 CV Standard Deviation: 0.01251\n",
      "\n"
     ]
    },
    {
     "name": "stderr",
     "output_type": "stream",
     "text": [
      "[Parallel(n_jobs=2)]: Done   5 out of   5 | elapsed:    0.3s finished\n"
     ]
    },
    {
     "name": "stdout",
     "output_type": "stream",
     "text": [
      "---------------------------------------------------------------------\n",
      "Extra Trees Classifier\n",
      "---------------------------------------------------------------------\n",
      "For Metric: roc_auc\n",
      "Cross Validation scores on training data:\n",
      "CV Mean: 0.98399 CV Standard Deviation: 0.00979\n",
      "\n",
      "Average Precision-Recall score:0.99\n",
      "╒════════════════════════╤═══════════════════════╕\n",
      "│ Metric                 │   Testing Performance │\n",
      "╞════════════════════════╪═══════════════════════╡\n",
      "│ Accuracy               │             0.964912  │\n",
      "├────────────────────────┼───────────────────────┤\n",
      "│ Precision              │             0.983051  │\n",
      "├────────────────────────┼───────────────────────┤\n",
      "│ Recall                 │             0.920635  │\n",
      "├────────────────────────┼───────────────────────┤\n",
      "│ Misclassification rate │             0.0350877 │\n",
      "├────────────────────────┼───────────────────────┤\n",
      "│ F1                     │             0.95082   │\n",
      "├────────────────────────┼───────────────────────┤\n",
      "│ r2                     │             0.849206  │\n",
      "├────────────────────────┼───────────────────────┤\n",
      "│ AUC                    │             0.955688  │\n",
      "├────────────────────────┼───────────────────────┤\n",
      "│ MSE                    │             0.0350877 │\n",
      "├────────────────────────┼───────────────────────┤\n",
      "│ Logloss                │             1.21189   │\n",
      "╘════════════════════════╧═══════════════════════╛\n",
      "\n",
      "Classification report:\n",
      "               precision    recall  f1-score   support\n",
      "\n",
      "           0       0.96      0.99      0.97       108\n",
      "           1       0.98      0.92      0.95        63\n",
      "\n",
      "    accuracy                           0.96       171\n",
      "   macro avg       0.97      0.96      0.96       171\n",
      "weighted avg       0.97      0.96      0.96       171\n",
      "\n",
      "\n",
      "Correct classifications on test data: 165/171   96.491%\n"
     ]
    },
    {
     "data": {
      "image/png": "[encoded data removed]",
      "text/plain": [
       "<Figure size 432x288 with 2 Axes>"
      ]
     },
     "metadata": {
      "needs_background": "light"
     },
     "output_type": "display_data"
    },
    {
     "data": {
      "image/png": "[encoded data removed]",
      "text/plain": [
       "<Figure size 720x360 with 2 Axes>"
      ]
     },
     "metadata": {
      "needs_background": "light"
     },
     "output_type": "display_data"
    },
    {
     "name": "stdout",
     "output_type": "stream",
     "text": [
      "\n"
     ]
    },
    {
     "name": "stderr",
     "output_type": "stream",
     "text": [
      "[Parallel(n_jobs=2)]: Using backend LokyBackend with 2 concurrent workers.\n",
      "[Parallel(n_jobs=2)]: Done   5 out of   5 | elapsed:    0.2s finished\n",
      "[Parallel(n_jobs=2)]: Using backend LokyBackend with 2 concurrent workers.\n"
     ]
    },
    {
     "name": "stdout",
     "output_type": "stream",
     "text": [
      "---------------------------------------------------------------------\n",
      "XGB Classifier\n",
      "---------------------------------------------------------------------\n",
      "For Metric: accuracy\n",
      "Cross Validation scores on training data:\n",
      "CV Mean: 0.92709 CV Standard Deviation: 0.01858\n",
      "\n"
     ]
    },
    {
     "name": "stderr",
     "output_type": "stream",
     "text": [
      "[Parallel(n_jobs=2)]: Done   5 out of   5 | elapsed:    0.2s finished\n",
      "[Parallel(n_jobs=2)]: Using backend LokyBackend with 2 concurrent workers.\n"
     ]
    },
    {
     "name": "stdout",
     "output_type": "stream",
     "text": [
      "---------------------------------------------------------------------\n",
      "XGB Classifier\n",
      "---------------------------------------------------------------------\n",
      "For Metric: precision\n",
      "Cross Validation scores on training data:\n",
      "CV Mean: 0.92837 CV Standard Deviation: 0.00370\n",
      "\n"
     ]
    },
    {
     "name": "stderr",
     "output_type": "stream",
     "text": [
      "[Parallel(n_jobs=2)]: Done   5 out of   5 | elapsed:    0.2s finished\n",
      "[Parallel(n_jobs=2)]: Using backend LokyBackend with 2 concurrent workers.\n"
     ]
    },
    {
     "name": "stdout",
     "output_type": "stream",
     "text": [
      "---------------------------------------------------------------------\n",
      "XGB Classifier\n",
      "---------------------------------------------------------------------\n",
      "For Metric: recall\n",
      "Cross Validation scores on training data:\n",
      "CV Mean: 0.87241 CV Standard Deviation: 0.04915\n",
      "\n"
     ]
    },
    {
     "name": "stderr",
     "output_type": "stream",
     "text": [
      "[Parallel(n_jobs=2)]: Done   5 out of   5 | elapsed:    0.2s finished\n",
      "[Parallel(n_jobs=2)]: Using backend LokyBackend with 2 concurrent workers.\n"
     ]
    },
    {
     "name": "stdout",
     "output_type": "stream",
     "text": [
      "---------------------------------------------------------------------\n",
      "XGB Classifier\n",
      "---------------------------------------------------------------------\n",
      "For Metric: f1\n",
      "Cross Validation scores on training data:\n",
      "CV Mean: 0.89892 CV Standard Deviation: 0.02713\n",
      "\n"
     ]
    },
    {
     "name": "stderr",
     "output_type": "stream",
     "text": [
      "[Parallel(n_jobs=2)]: Done   5 out of   5 | elapsed:    0.2s finished\n",
      "[Parallel(n_jobs=2)]: Using backend LokyBackend with 2 concurrent workers.\n"
     ]
    },
    {
     "name": "stdout",
     "output_type": "stream",
     "text": [
      "---------------------------------------------------------------------\n",
      "XGB Classifier\n",
      "---------------------------------------------------------------------\n",
      "For Metric: average_precision\n",
      "Cross Validation scores on training data:\n",
      "CV Mean: 0.96852 CV Standard Deviation: 0.01120\n",
      "\n"
     ]
    },
    {
     "name": "stderr",
     "output_type": "stream",
     "text": [
      "[Parallel(n_jobs=2)]: Done   5 out of   5 | elapsed:    0.2s finished\n"
     ]
    },
    {
     "name": "stdout",
     "output_type": "stream",
     "text": [
      "---------------------------------------------------------------------\n",
      "XGB Classifier\n",
      "---------------------------------------------------------------------\n",
      "For Metric: roc_auc\n",
      "Cross Validation scores on training data:\n",
      "CV Mean: 0.97839 CV Standard Deviation: 0.00769\n",
      "\n",
      "[19:24:54] WARNING: C:/Users/Administrator/workspace/xgboost-win64_release_1.5.1/src/learner.cc:1115: Starting in XGBoost 1.3.0, the default evaluation metric used with the objective 'binary:logistic' was changed from 'error' to 'logloss'. Explicitly set eval_metric if you'd like to restore the old behavior.\n",
      "Average Precision-Recall score:0.99\n",
      "╒════════════════════════╤═══════════════════════╕\n",
      "│ Metric                 │   Testing Performance │\n",
      "╞════════════════════════╪═══════════════════════╡\n",
      "│ Accuracy               │             0.964912  │\n",
      "├────────────────────────┼───────────────────────┤\n",
      "│ Precision              │             0.952381  │\n",
      "├────────────────────────┼───────────────────────┤\n",
      "│ Recall                 │             0.952381  │\n",
      "├────────────────────────┼───────────────────────┤\n",
      "│ Misclassification rate │             0.0350877 │\n",
      "├────────────────────────┼───────────────────────┤\n",
      "│ F1                     │             0.952381  │\n",
      "├────────────────────────┼───────────────────────┤\n",
      "│ r2                     │             0.849206  │\n",
      "├────────────────────────┼───────────────────────┤\n",
      "│ AUC                    │             0.962302  │\n",
      "├────────────────────────┼───────────────────────┤\n",
      "│ MSE                    │             0.0350877 │\n",
      "├────────────────────────┼───────────────────────┤\n",
      "│ Logloss                │             1.2119    │\n",
      "╘════════════════════════╧═══════════════════════╛\n",
      "\n",
      "Classification report:\n",
      "               precision    recall  f1-score   support\n",
      "\n",
      "           0       0.97      0.97      0.97       108\n",
      "           1       0.95      0.95      0.95        63\n",
      "\n",
      "    accuracy                           0.96       171\n",
      "   macro avg       0.96      0.96      0.96       171\n",
      "weighted avg       0.96      0.96      0.96       171\n",
      "\n",
      "\n",
      "Correct classifications on test data: 165/171   96.491%\n"
     ]
    },
    {
     "data": {
      "image/png": "[encoded data removed]",
      "text/plain": [
       "<Figure size 432x288 with 2 Axes>"
      ]
     },
     "metadata": {
      "needs_background": "light"
     },
     "output_type": "display_data"
    },
    {
     "data": {
      "image/png": "[encoded data removed]",
      "text/plain": [
       "<Figure size 720x360 with 2 Axes>"
      ]
     },
     "metadata": {
      "needs_background": "light"
     },
     "output_type": "display_data"
    },
    {
     "name": "stdout",
     "output_type": "stream",
     "text": [
      "\n",
      "---------------------------------------------------------------------\n",
      "KNeighbors Classifier\n",
      "---------------------------------------------------------------------\n",
      "For Metric: accuracy\n",
      "Cross Validation scores on training data:\n",
      "CV Mean: 0.93718 CV Standard Deviation: 0.02240\n",
      "\n",
      "---------------------------------------------------------------------\n",
      "KNeighbors Classifier\n",
      "---------------------------------------------------------------------\n",
      "For Metric: precision\n",
      "Cross Validation scores on training data:\n",
      "CV Mean: 0.95019 CV Standard Deviation: 0.02523\n",
      "\n",
      "---------------------------------------------------------------------\n",
      "KNeighbors Classifier\n",
      "---------------------------------------------------------------------\n",
      "For Metric: recall\n",
      "Cross Validation scores on training data:\n",
      "CV Mean: 0.87885 CV Standard Deviation: 0.05908\n",
      "\n",
      "---------------------------------------------------------------------\n",
      "KNeighbors Classifier\n",
      "---------------------------------------------------------------------\n",
      "For Metric: f1\n",
      "Cross Validation scores on training data:\n",
      "CV Mean: 0.91186 CV Standard Deviation: 0.03338\n",
      "\n",
      "---------------------------------------------------------------------\n",
      "KNeighbors Classifier\n",
      "---------------------------------------------------------------------\n",
      "For Metric: average_precision\n",
      "Cross Validation scores on training data:\n",
      "CV Mean: 0.93407 CV Standard Deviation: 0.04025\n",
      "\n",
      "---------------------------------------------------------------------\n",
      "KNeighbors Classifier\n",
      "---------------------------------------------------------------------\n",
      "For Metric: roc_auc\n",
      "Cross Validation scores on training data:\n",
      "CV Mean: 0.95860 CV Standard Deviation: 0.02310\n",
      "\n",
      "Average Precision-Recall score:0.97\n",
      "╒════════════════════════╤═══════════════════════╕\n",
      "│ Metric                 │   Testing Performance │\n",
      "╞════════════════════════╪═══════════════════════╡\n",
      "│ Accuracy               │             0.964912  │\n",
      "├────────────────────────┼───────────────────────┤\n",
      "│ Precision              │             0.967213  │\n",
      "├────────────────────────┼───────────────────────┤\n",
      "│ Recall                 │             0.936508  │\n",
      "├────────────────────────┼───────────────────────┤\n",
      "│ Misclassification rate │             0.0350877 │\n",
      "├────────────────────────┼───────────────────────┤\n",
      "│ F1                     │             0.951613  │\n",
      "├────────────────────────┼───────────────────────┤\n",
      "│ r2                     │             0.849206  │\n",
      "├────────────────────────┼───────────────────────┤\n",
      "│ AUC                    │             0.958995  │\n",
      "├────────────────────────┼───────────────────────┤\n",
      "│ MSE                    │             0.0350877 │\n",
      "├────────────────────────┼───────────────────────┤\n",
      "│ Logloss                │             1.2119    │\n",
      "╘════════════════════════╧═══════════════════════╛\n"
     ]
    },
    {
     "name": "stderr",
     "output_type": "stream",
     "text": [
      "[Parallel(n_jobs=2)]: Using backend LokyBackend with 2 concurrent workers.\n",
      "[Parallel(n_jobs=2)]: Done   5 out of   5 | elapsed:    0.0s finished\n",
      "[Parallel(n_jobs=2)]: Using backend LokyBackend with 2 concurrent workers.\n",
      "[Parallel(n_jobs=2)]: Done   5 out of   5 | elapsed:    0.0s finished\n",
      "[Parallel(n_jobs=2)]: Using backend LokyBackend with 2 concurrent workers.\n",
      "[Parallel(n_jobs=2)]: Done   5 out of   5 | elapsed:    0.0s finished\n",
      "[Parallel(n_jobs=2)]: Using backend LokyBackend with 2 concurrent workers.\n",
      "[Parallel(n_jobs=2)]: Done   5 out of   5 | elapsed:    0.0s finished\n",
      "[Parallel(n_jobs=2)]: Using backend LokyBackend with 2 concurrent workers.\n",
      "[Parallel(n_jobs=2)]: Done   5 out of   5 | elapsed:    0.0s finished\n",
      "[Parallel(n_jobs=2)]: Using backend LokyBackend with 2 concurrent workers.\n",
      "[Parallel(n_jobs=2)]: Done   5 out of   5 | elapsed:    0.0s finished\n"
     ]
    },
    {
     "name": "stdout",
     "output_type": "stream",
     "text": [
      "\n",
      "Classification report:\n",
      "               precision    recall  f1-score   support\n",
      "\n",
      "           0       0.96      0.98      0.97       108\n",
      "           1       0.97      0.94      0.95        63\n",
      "\n",
      "    accuracy                           0.96       171\n",
      "   macro avg       0.97      0.96      0.96       171\n",
      "weighted avg       0.96      0.96      0.96       171\n",
      "\n",
      "\n",
      "Correct classifications on test data: 165/171   96.491%\n"
     ]
    },
    {
     "data": {
      "image/png": "[encoded data removed]",
      "text/plain": [
       "<Figure size 432x288 with 2 Axes>"
      ]
     },
     "metadata": {
      "needs_background": "light"
     },
     "output_type": "display_data"
    },
    {
     "data": {
      "image/png": "[encoded data removed]",
      "text/plain": [
       "<Figure size 720x360 with 2 Axes>"
      ]
     },
     "metadata": {
      "needs_background": "light"
     },
     "output_type": "display_data"
    },
    {
     "name": "stdout",
     "output_type": "stream",
     "text": [
      "\n",
      "---------------------------------------------------------------------\n",
      "SVM Classifier\n",
      "---------------------------------------------------------------------\n",
      "For Metric: accuracy\n",
      "Cross Validation scores on training data:\n",
      "CV Mean: 0.94215 CV Standard Deviation: 0.01729\n",
      "\n",
      "---------------------------------------------------------------------\n",
      "SVM Classifier\n",
      "---------------------------------------------------------------------\n",
      "For Metric: precision\n",
      "Cross Validation scores on training data:\n",
      "CV Mean: 0.95078 CV Standard Deviation: 0.02827\n",
      "\n",
      "---------------------------------------------------------------------\n",
      "SVM Classifier\n",
      "---------------------------------------------------------------------\n",
      "For Metric: recall\n",
      "Cross Validation scores on training data:\n",
      "CV Mean: 0.89218 CV Standard Deviation: 0.04581\n",
      "\n"
     ]
    },
    {
     "name": "stderr",
     "output_type": "stream",
     "text": [
      "[Parallel(n_jobs=2)]: Using backend LokyBackend with 2 concurrent workers.\n",
      "[Parallel(n_jobs=2)]: Done   5 out of   5 | elapsed:    0.0s finished\n",
      "[Parallel(n_jobs=2)]: Using backend LokyBackend with 2 concurrent workers.\n",
      "[Parallel(n_jobs=2)]: Done   5 out of   5 | elapsed:    0.0s finished\n",
      "[Parallel(n_jobs=2)]: Using backend LokyBackend with 2 concurrent workers.\n",
      "[Parallel(n_jobs=2)]: Done   5 out of   5 | elapsed:    0.0s finished\n",
      "[Parallel(n_jobs=2)]: Using backend LokyBackend with 2 concurrent workers.\n",
      "[Parallel(n_jobs=2)]: Done   5 out of   5 | elapsed:    0.0s finished\n"
     ]
    },
    {
     "name": "stdout",
     "output_type": "stream",
     "text": [
      "---------------------------------------------------------------------\n",
      "SVM Classifier\n",
      "---------------------------------------------------------------------\n",
      "For Metric: f1\n",
      "Cross Validation scores on training data:\n",
      "CV Mean: 0.91968 CV Standard Deviation: 0.02608\n",
      "\n",
      "---------------------------------------------------------------------\n",
      "SVM Classifier\n",
      "---------------------------------------------------------------------\n",
      "For Metric: average_precision\n",
      "Cross Validation scores on training data:\n",
      "CV Mean: 0.97416 CV Standard Deviation: 0.01380\n",
      "\n",
      "---------------------------------------------------------------------\n",
      "SVM Classifier\n",
      "---------------------------------------------------------------------\n",
      "For Metric: roc_auc\n",
      "Cross Validation scores on training data:\n",
      "CV Mean: 0.98280 CV Standard Deviation: 0.00883\n",
      "\n",
      "Average Precision-Recall score:0.99\n",
      "╒════════════════════════╤═══════════════════════╕\n",
      "│ Metric                 │   Testing Performance │\n",
      "╞════════════════════════╪═══════════════════════╡\n",
      "│ Accuracy               │             0.964912  │\n",
      "├────────────────────────┼───────────────────────┤\n",
      "│ Precision              │             0.967213  │\n",
      "├────────────────────────┼───────────────────────┤\n",
      "│ Recall                 │             0.936508  │\n",
      "├────────────────────────┼───────────────────────┤\n",
      "│ Misclassification rate │             0.0350877 │\n",
      "├────────────────────────┼───────────────────────┤\n",
      "│ F1                     │             0.951613  │\n",
      "├────────────────────────┼───────────────────────┤\n",
      "│ r2                     │             0.849206  │\n",
      "├────────────────────────┼───────────────────────┤\n",
      "│ AUC                    │             0.958995  │\n",
      "├────────────────────────┼───────────────────────┤\n",
      "│ MSE                    │             0.0350877 │\n",
      "├────────────────────────┼───────────────────────┤\n",
      "│ Logloss                │             1.2119    │\n",
      "╘════════════════════════╧═══════════════════════╛\n",
      "\n",
      "Classification report:\n",
      "               precision    recall  f1-score   support\n",
      "\n",
      "           0       0.96      0.98      0.97       108\n",
      "           1       0.97      0.94      0.95        63\n",
      "\n",
      "    accuracy                           0.96       171\n",
      "   macro avg       0.97      0.96      0.96       171\n",
      "weighted avg       0.96      0.96      0.96       171\n",
      "\n",
      "\n",
      "Correct classifications on test data: 165/171   96.491%\n"
     ]
    },
    {
     "name": "stderr",
     "output_type": "stream",
     "text": [
      "[Parallel(n_jobs=2)]: Using backend LokyBackend with 2 concurrent workers.\n",
      "[Parallel(n_jobs=2)]: Done   5 out of   5 | elapsed:    0.0s finished\n",
      "[Parallel(n_jobs=2)]: Using backend LokyBackend with 2 concurrent workers.\n",
      "[Parallel(n_jobs=2)]: Done   5 out of   5 | elapsed:    0.0s finished\n"
     ]
    },
    {
     "data": {
      "image/png": "[encoded data removed]",
      "text/plain": [
       "<Figure size 432x288 with 2 Axes>"
      ]
     },
     "metadata": {
      "needs_background": "light"
     },
     "output_type": "display_data"
    },
    {
     "data": {
      "image/png": "[encoded data removed]",
      "text/plain": [
       "<Figure size 720x360 with 2 Axes>"
      ]
     },
     "metadata": {
      "needs_background": "light"
     },
     "output_type": "display_data"
    },
    {
     "name": "stdout",
     "output_type": "stream",
     "text": [
      "\n"
     ]
    }
   ],
   "source": [
    "kfolds= 5\n",
    "param_comb = 5\n",
    "skf = StratifiedKFold(n_splits= kfolds, shuffle= True, random_state = 43)\n",
    "metrics=['accuracy','precision','recall', 'f1','average_precision', 'roc_auc']\n",
    "Training_Performance= pd.DataFrame(columns= ['Algorithm','Metric','Mean Cross-Validation', 'CV std']) \n",
    "Testing_Performance= pd.DataFrame(columns= ['Algorithm','Accuracy','AUC','Precision','Recall','F1'])\n",
    "for name, model in model_dict.items():\n",
    "    for m in metrics:\n",
    "        score= cross_val_score(model, x_train, y_train, scoring=m, cv=skf, verbose=1, n_jobs=2)\n",
    "        print(\"---------------------------------------------------------------------\") \n",
    "        print(name)\n",
    "        print(\"---------------------------------------------------------------------\")\n",
    "        print(\"For Metric: %s\" % (m))\n",
    "        print(\"Cross Validation scores on training data:\")\n",
    "        print ('CV Mean: %.5f CV Standard Deviation: %.5f'% (np.mean(np.abs(score)), np.std(score)))\n",
    "        print(\"\") \n",
    "         \n",
    "        Training_Performance= Training_Performance.append({'Algorithm' : name, 'Metric' : m, 'Mean Cross-Validation' : np.mean(np.abs(score)),'CV std' : np.std(score)},  \n",
    "                ignore_index = True) \n",
    "        \n",
    "    model.fit(x_train, y_train)\n",
    "    y_predicted_test= model.predict(x_test)\n",
    "    y_probabilities_test= model.predict_proba(x_test)\n",
    "    y_probabilities_success= y_probabilities_test[:, 1]\n",
    "\n",
    "    from sklearn.metrics import average_precision_score\n",
    "    average_precision= average_precision_score(y_test, y_probabilities_success)\n",
    "    print('Average Precision-Recall score:{0:0.2f}'.format(average_precision))\n",
    "\n",
    "    false_positive_rate, true_positive_rate, threshold= roc_curve(y_test, y_probabilities_success)\n",
    "\n",
    "    mse        = mean_squared_error(y_test, y_predicted_test)\n",
    "    logloss    = log_loss(y_test, y_predicted_test)\n",
    "    accuracy   = accuracy_score(y_test, y_predicted_test)\n",
    "    precision  = precision_score(y_test, y_predicted_test, average='binary')\n",
    "    recall     = recall_score(y_test, y_predicted_test, average='binary')\n",
    "    F1         = f1_score(y_test, y_predicted_test)\n",
    "    r2         = r2_score(y_test, y_predicted_test)\n",
    "    auc        = roc_auc_score(y_test, y_predicted_test)\n",
    "    cm         = confusion_matrix(y_test, y_predicted_test)\n",
    "    \n",
    "    Model_metrics(name)\n",
    "    Confusion_Matrix(model)\n",
    "    plot_roc_precision_recall_curve(name)\n",
    "    \n",
    "    print(\"\")"
   ]
  },
  {
   "cell_type": "code",
   "execution_count": 24,
   "id": "8ecd47e4",
   "metadata": {},
   "outputs": [
    {
     "data": {
      "text/html": [
       "<div>\n",
       "<style scoped>\n",
       "    .dataframe tbody tr th:only-of-type {\n",
       "        vertical-align: middle;\n",
       "    }\n",
       "\n",
       "    .dataframe tbody tr th {\n",
       "        vertical-align: top;\n",
       "    }\n",
       "\n",
       "    .dataframe thead tr th {\n",
       "        text-align: left;\n",
       "    }\n",
       "\n",
       "    .dataframe thead tr:last-of-type th {\n",
       "        text-align: right;\n",
       "    }\n",
       "</style>\n",
       "<table border=\"1\" class=\"dataframe\">\n",
       "  <thead>\n",
       "    <tr>\n",
       "      <th></th>\n",
       "      <th colspan=\"6\" halign=\"left\">amin</th>\n",
       "    </tr>\n",
       "    <tr>\n",
       "      <th></th>\n",
       "      <th colspan=\"6\" halign=\"left\">Mean Cross-Validation</th>\n",
       "    </tr>\n",
       "    <tr>\n",
       "      <th>Metric</th>\n",
       "      <th>accuracy</th>\n",
       "      <th>average_precision</th>\n",
       "      <th>f1</th>\n",
       "      <th>precision</th>\n",
       "      <th>recall</th>\n",
       "      <th>roc_auc</th>\n",
       "    </tr>\n",
       "    <tr>\n",
       "      <th>Algorithm</th>\n",
       "      <th></th>\n",
       "      <th></th>\n",
       "      <th></th>\n",
       "      <th></th>\n",
       "      <th></th>\n",
       "      <th></th>\n",
       "    </tr>\n",
       "  </thead>\n",
       "  <tbody>\n",
       "    <tr>\n",
       "      <th>Extra Trees Classifier</th>\n",
       "      <td>0.942152</td>\n",
       "      <td>0.977397</td>\n",
       "      <td>0.918346</td>\n",
       "      <td>0.932454</td>\n",
       "      <td>0.892184</td>\n",
       "      <td>0.983991</td>\n",
       "    </tr>\n",
       "    <tr>\n",
       "      <th>Gradient Boosting Classifier</th>\n",
       "      <td>0.922089</td>\n",
       "      <td>0.960437</td>\n",
       "      <td>0.888503</td>\n",
       "      <td>0.913475</td>\n",
       "      <td>0.858851</td>\n",
       "      <td>0.976615</td>\n",
       "    </tr>\n",
       "    <tr>\n",
       "      <th>KNeighbors Classifier</th>\n",
       "      <td>0.937184</td>\n",
       "      <td>0.934075</td>\n",
       "      <td>0.911863</td>\n",
       "      <td>0.950190</td>\n",
       "      <td>0.878851</td>\n",
       "      <td>0.958596</td>\n",
       "    </tr>\n",
       "    <tr>\n",
       "      <th>Logistic Regression</th>\n",
       "      <td>0.934525</td>\n",
       "      <td>0.976729</td>\n",
       "      <td>0.906802</td>\n",
       "      <td>0.948535</td>\n",
       "      <td>0.871494</td>\n",
       "      <td>0.984009</td>\n",
       "    </tr>\n",
       "    <tr>\n",
       "      <th>Random Forest Classifier</th>\n",
       "      <td>0.944684</td>\n",
       "      <td>0.975456</td>\n",
       "      <td>0.923619</td>\n",
       "      <td>0.936941</td>\n",
       "      <td>0.892184</td>\n",
       "      <td>0.978168</td>\n",
       "    </tr>\n",
       "    <tr>\n",
       "      <th>SVM Classifier</th>\n",
       "      <td>0.942152</td>\n",
       "      <td>0.974161</td>\n",
       "      <td>0.919681</td>\n",
       "      <td>0.950776</td>\n",
       "      <td>0.892184</td>\n",
       "      <td>0.982795</td>\n",
       "    </tr>\n",
       "    <tr>\n",
       "      <th>XGB Classifier</th>\n",
       "      <td>0.927089</td>\n",
       "      <td>0.968520</td>\n",
       "      <td>0.898923</td>\n",
       "      <td>0.928367</td>\n",
       "      <td>0.872414</td>\n",
       "      <td>0.978388</td>\n",
       "    </tr>\n",
       "  </tbody>\n",
       "</table>\n",
       "</div>"
      ],
      "text/plain": [
       "                                              amin                    \\\n",
       "                             Mean Cross-Validation                     \n",
       "Metric                                    accuracy average_precision   \n",
       "Algorithm                                                              \n",
       "Extra Trees Classifier                    0.942152          0.977397   \n",
       "Gradient Boosting Classifier              0.922089          0.960437   \n",
       "KNeighbors Classifier                     0.937184          0.934075   \n",
       "Logistic Regression                       0.934525          0.976729   \n",
       "Random Forest Classifier                  0.944684          0.975456   \n",
       "SVM Classifier                            0.942152          0.974161   \n",
       "XGB Classifier                            0.927089          0.968520   \n",
       "\n",
       "                                                                      \n",
       "                                                                      \n",
       "Metric                              f1 precision    recall   roc_auc  \n",
       "Algorithm                                                             \n",
       "Extra Trees Classifier        0.918346  0.932454  0.892184  0.983991  \n",
       "Gradient Boosting Classifier  0.888503  0.913475  0.858851  0.976615  \n",
       "KNeighbors Classifier         0.911863  0.950190  0.878851  0.958596  \n",
       "Logistic Regression           0.906802  0.948535  0.871494  0.984009  \n",
       "Random Forest Classifier      0.923619  0.936941  0.892184  0.978168  \n",
       "SVM Classifier                0.919681  0.950776  0.892184  0.982795  \n",
       "XGB Classifier                0.898923  0.928367  0.872414  0.978388  "
      ]
     },
     "execution_count": 24,
     "metadata": {},
     "output_type": "execute_result"
    }
   ],
   "source": [
    "Training_PerformancePivot= pd.pivot_table(Training_Performance,index=[\"Algorithm\"],values=[\"Mean Cross-Validation\"],columns=[\"Metric\"], aggfunc=[np.min])\n",
    "Training_PerformancePivot"
   ]
  },
  {
   "cell_type": "code",
   "execution_count": 25,
   "id": "9ec1c636",
   "metadata": {},
   "outputs": [
    {
     "data": {
      "text/html": [
       "<div>\n",
       "<style scoped>\n",
       "    .dataframe tbody tr th:only-of-type {\n",
       "        vertical-align: middle;\n",
       "    }\n",
       "\n",
       "    .dataframe tbody tr th {\n",
       "        vertical-align: top;\n",
       "    }\n",
       "\n",
       "    .dataframe thead th {\n",
       "        text-align: right;\n",
       "    }\n",
       "</style>\n",
       "<table border=\"1\" class=\"dataframe\">\n",
       "  <thead>\n",
       "    <tr style=\"text-align: right;\">\n",
       "      <th></th>\n",
       "      <th>Algorithm</th>\n",
       "      <th>Accuracy</th>\n",
       "      <th>AUC</th>\n",
       "      <th>Precision</th>\n",
       "      <th>Recall</th>\n",
       "      <th>F1</th>\n",
       "    </tr>\n",
       "  </thead>\n",
       "  <tbody>\n",
       "    <tr>\n",
       "      <th>3</th>\n",
       "      <td>Extra Trees Classifier</td>\n",
       "      <td>0.964912</td>\n",
       "      <td>0.955688</td>\n",
       "      <td>0.983051</td>\n",
       "      <td>0.920635</td>\n",
       "      <td>0.950820</td>\n",
       "    </tr>\n",
       "    <tr>\n",
       "      <th>2</th>\n",
       "      <td>Gradient Boosting Classifier</td>\n",
       "      <td>0.941520</td>\n",
       "      <td>0.933862</td>\n",
       "      <td>0.934426</td>\n",
       "      <td>0.904762</td>\n",
       "      <td>0.919355</td>\n",
       "    </tr>\n",
       "    <tr>\n",
       "      <th>5</th>\n",
       "      <td>KNeighbors Classifier</td>\n",
       "      <td>0.964912</td>\n",
       "      <td>0.958995</td>\n",
       "      <td>0.967213</td>\n",
       "      <td>0.936508</td>\n",
       "      <td>0.951613</td>\n",
       "    </tr>\n",
       "    <tr>\n",
       "      <th>0</th>\n",
       "      <td>Logistic Regression</td>\n",
       "      <td>0.964912</td>\n",
       "      <td>0.958995</td>\n",
       "      <td>0.967213</td>\n",
       "      <td>0.936508</td>\n",
       "      <td>0.951613</td>\n",
       "    </tr>\n",
       "    <tr>\n",
       "      <th>1</th>\n",
       "      <td>Random Forest Classifier</td>\n",
       "      <td>0.964912</td>\n",
       "      <td>0.955688</td>\n",
       "      <td>0.983051</td>\n",
       "      <td>0.920635</td>\n",
       "      <td>0.950820</td>\n",
       "    </tr>\n",
       "    <tr>\n",
       "      <th>6</th>\n",
       "      <td>SVM Classifier</td>\n",
       "      <td>0.964912</td>\n",
       "      <td>0.958995</td>\n",
       "      <td>0.967213</td>\n",
       "      <td>0.936508</td>\n",
       "      <td>0.951613</td>\n",
       "    </tr>\n",
       "    <tr>\n",
       "      <th>4</th>\n",
       "      <td>XGB Classifier</td>\n",
       "      <td>0.964912</td>\n",
       "      <td>0.962302</td>\n",
       "      <td>0.952381</td>\n",
       "      <td>0.952381</td>\n",
       "      <td>0.952381</td>\n",
       "    </tr>\n",
       "  </tbody>\n",
       "</table>\n",
       "</div>"
      ],
      "text/plain": [
       "                      Algorithm  Accuracy       AUC  Precision    Recall  \\\n",
       "3        Extra Trees Classifier  0.964912  0.955688   0.983051  0.920635   \n",
       "2  Gradient Boosting Classifier  0.941520  0.933862   0.934426  0.904762   \n",
       "5         KNeighbors Classifier  0.964912  0.958995   0.967213  0.936508   \n",
       "0           Logistic Regression  0.964912  0.958995   0.967213  0.936508   \n",
       "1      Random Forest Classifier  0.964912  0.955688   0.983051  0.920635   \n",
       "6                SVM Classifier  0.964912  0.958995   0.967213  0.936508   \n",
       "4                XGB Classifier  0.964912  0.962302   0.952381  0.952381   \n",
       "\n",
       "         F1  \n",
       "3  0.950820  \n",
       "2  0.919355  \n",
       "5  0.951613  \n",
       "0  0.951613  \n",
       "1  0.950820  \n",
       "6  0.951613  \n",
       "4  0.952381  "
      ]
     },
     "execution_count": 25,
     "metadata": {},
     "output_type": "execute_result"
    }
   ],
   "source": [
    "Testing_Performance.sort_values(by=['Algorithm'])"
   ]
  },
  {
   "cell_type": "code",
   "execution_count": null,
   "id": "151d3409",
   "metadata": {},
   "outputs": [],
   "source": []
  },
  {
   "cell_type": "code",
   "execution_count": null,
   "id": "4cfc01cd",
   "metadata": {},
   "outputs": [],
   "source": []
  }
 ],
 "metadata": {
  "kernelspec": {
   "display_name": "Python 3",
   "language": "python",
   "name": "python3"
  },
  "language_info": {
   "codemirror_mode": {
    "name": "ipython",
    "version": 3
   },
   "file_extension": ".py",
   "mimetype": "text/x-python",
   "name": "python",
   "nbconvert_exporter": "python",
   "pygments_lexer": "ipython3",
   "version": "3.8.8"
  }
 },
 "nbformat": 4,
 "nbformat_minor": 5
}
